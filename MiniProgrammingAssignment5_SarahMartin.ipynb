{
 "cells": [
  {
   "cell_type": "markdown",
   "metadata": {},
   "source": [
    "# I. Introduction"
   ]
  },
  {
   "cell_type": "markdown",
   "metadata": {},
   "source": [
    "This exercise explores the relative speed of hash functions (via Python's 'set' data type) versus other search functions.  \n",
    "\n",
    "First we import helpful packages."
   ]
  },
  {
   "cell_type": "code",
   "execution_count": 1,
   "metadata": {},
   "outputs": [],
   "source": [
    "import random\n",
    "import string\n",
    "import time\n",
    "import pandas as pd\n",
    "import matplotlib.pyplot as plt\n",
    "import seaborn as sns\n",
    "%matplotlib notebook\n",
    "#%matplotlib inline"
   ]
  },
  {
   "cell_type": "markdown",
   "metadata": {},
   "source": [
    "# II. Generating the Test Data"
   ]
  },
  {
   "cell_type": "markdown",
   "metadata": {},
   "source": [
    "First, we instantiate a random (re: unsorted) list of 100,000 10-character strings"
   ]
  },
  {
   "cell_type": "code",
   "execution_count": 2,
   "metadata": {},
   "outputs": [],
   "source": [
    "random.seed(6)\n",
    "unsorted_list = [\"\".join(random.choices(string.ascii_lowercase, k=10)) for _ in range(100000)]"
   ]
  },
  {
   "cell_type": "markdown",
   "metadata": {},
   "source": [
    "Then we generate a set of the same strings."
   ]
  },
  {
   "cell_type": "code",
   "execution_count": 3,
   "metadata": {},
   "outputs": [],
   "source": [
    "unsorted_set = set(unsorted_list)"
   ]
  },
  {
   "cell_type": "markdown",
   "metadata": {},
   "source": [
    "A quick check to ensure there are no dupes within the list of names:"
   ]
  },
  {
   "cell_type": "code",
   "execution_count": 4,
   "metadata": {},
   "outputs": [
    {
     "data": {
      "text/plain": [
       "True"
      ]
     },
     "execution_count": 4,
     "metadata": {},
     "output_type": "execute_result"
    }
   ],
   "source": [
    "len(unsorted_list) == len(unsorted_set)"
   ]
  },
  {
   "cell_type": "markdown",
   "metadata": {},
   "source": [
    "Confirmed!"
   ]
  },
  {
   "cell_type": "markdown",
   "metadata": {},
   "source": [
    "Next we want to create a sorted list of the same set of names.  After exploring potential sort functions, something with a similar big O to MergeSort seems preferred for longer lists (best case: O(n), average & worst case: O(nlog(n))) as compared with QuickSort.\n",
    "\n",
    "Python's built-in sorted() function uses TimSort which has the same Big O progression as MergeSort, and does _not_ sort the list in place (what we want) so we'll use that for simplicity."
   ]
  },
  {
   "cell_type": "code",
   "execution_count": 5,
   "metadata": {},
   "outputs": [],
   "source": [
    "sorted_list = sorted(unsorted_list)"
   ]
  },
  {
   "cell_type": "markdown",
   "metadata": {},
   "source": [
    "Lastly, we want to identify the 10,000th, 30,000th, 50,000th, 70,000th, 90,000th, and 100,000th elements in both the unsorted list and the sorted list so we can search for them later."
   ]
  },
  {
   "cell_type": "code",
   "execution_count": 6,
   "metadata": {},
   "outputs": [],
   "source": [
    "# defines a list of the indeces we want to gather.  Will use this list later too.\n",
    "indeces = [9999, 29999, 49999, 69999, 89999, 99999]\n",
    "\n",
    "# gathers the names to search for for each list\n",
    "unsorted_search_names = []\n",
    "sorted_search_names = []\n",
    "for i in indeces:\n",
    "    unsorted_search_names.append(unsorted_list[i])\n",
    "    sorted_search_names.append(sorted_list[i])"
   ]
  },
  {
   "cell_type": "code",
   "execution_count": 7,
   "metadata": {},
   "outputs": [],
   "source": [
    "search_test_names = {}\n",
    "search_test_names['unsorted_list'] = unsorted_search_names\n",
    "search_test_names['sorted_list'] = sorted_search_names"
   ]
  },
  {
   "cell_type": "code",
   "execution_count": 8,
   "metadata": {},
   "outputs": [
    {
     "data": {
      "text/plain": [
       "{'unsorted_list': ['vhndnhawox',\n",
       "  'tvpcbaynaj',\n",
       "  'vihgvqofxl',\n",
       "  'bcrcrdgzoj',\n",
       "  'yshzaywwir',\n",
       "  'pqjnxxclve'],\n",
       " 'sorted_list': ['coxygpkxgg',\n",
       "  'hsymkajste',\n",
       "  'myccogvwfe',\n",
       "  'sejawnpgdf',\n",
       "  'xkivmhshqy',\n",
       "  'zzzhvtkcqf']}"
      ]
     },
     "execution_count": 8,
     "metadata": {},
     "output_type": "execute_result"
    }
   ],
   "source": [
    "# just to confirm\n",
    "search_test_names"
   ]
  },
  {
   "cell_type": "markdown",
   "metadata": {},
   "source": [
    "# III. Defining the Sort Functions"
   ]
  },
  {
   "cell_type": "markdown",
   "metadata": {},
   "source": [
    "Next I leveraged the linear and binary search function definitions from our earlier assignment (making some slight ammendments to ignore the loop counters since we're measuring time and not iteration as before)."
   ]
  },
  {
   "cell_type": "code",
   "execution_count": 9,
   "metadata": {},
   "outputs": [],
   "source": [
    "## Defines the Linear Search Test Function\n",
    "def linear_search(list, item):\n",
    "    # to indentify the index\n",
    "    index = 0\n",
    "    while index < len(list):\n",
    "        if list[index] == item:\n",
    "            return \"Index of element is \",index\n",
    "        else:\n",
    "            index = index + 1\n",
    "    # If no more available guesses, item is not in the list\n",
    "    return None"
   ]
  },
  {
   "cell_type": "code",
   "execution_count": 10,
   "metadata": {},
   "outputs": [],
   "source": [
    "## Defines the Binary Search Test Function\n",
    "def binary_search(list, item):\n",
    "  # lower & upper _limit keep track of which part of the list contain the remaining viable guesses.\n",
    "  lower_limit = 0\n",
    "  upper_limit = len(list) - 1\n",
    "\n",
    "  # While there are still available guesses ...\n",
    "  while lower_limit <= upper_limit:\n",
    "    \n",
    "    # identify the current middle element\n",
    "    mid_point = (lower_limit + upper_limit) // 2\n",
    "    guess = list[mid_point]\n",
    "    \n",
    "    # If guess is correct\n",
    "    if guess == item:\n",
    "      # guess doesn't matter, loop counter demonstrates scaling along with search time\n",
    "      return mid_point\n",
    "\n",
    "    # If guess is too high\n",
    "    if guess > item:\n",
    "      upper_limit = mid_point - 1\n",
    "\n",
    "    # If guess is too low\n",
    "    else:\n",
    "      lower_limit = mid_point + 1  \n",
    "    \n",
    "  # If no more available guesses, item is not in the list\n",
    "  return None"
   ]
  },
  {
   "cell_type": "markdown",
   "metadata": {},
   "source": [
    "# IV. Search Method Time Testing"
   ]
  },
  {
   "cell_type": "markdown",
   "metadata": {},
   "source": [
    "Next I instantiated a list to capture the results of the time testing"
   ]
  },
  {
   "cell_type": "code",
   "execution_count": 11,
   "metadata": {},
   "outputs": [],
   "source": [
    "time_results = []"
   ]
  },
  {
   "cell_type": "markdown",
   "metadata": {},
   "source": [
    "Now, I define two functions to conduct the time testing: 1 for searching the lists and 1 for searching the set."
   ]
  },
  {
   "cell_type": "code",
   "execution_count": 12,
   "metadata": {},
   "outputs": [],
   "source": [
    "def list_time_testing(search_function,method_label,test_list,search_for_list):\n",
    "    indeces = [9999, 29999, 49999, 69999, 89999, 99999]\n",
    "    for i in range(len(search_for_list)):\n",
    "        item = search_for_list[i]\n",
    "        start = time.perf_counter()\n",
    "        search_function(test_list,item)\n",
    "        end = time.perf_counter()\n",
    "        search_time = (end - start)*1000\n",
    "        time_results.append({'Search Function':method_label\n",
    "                              ,'Index':indeces[i]\n",
    "                              ,'Search Time':search_time})"
   ]
  },
  {
   "cell_type": "code",
   "execution_count": 13,
   "metadata": {},
   "outputs": [],
   "source": [
    "def set_time_testing(test_set,search_for_list):\n",
    "  for i in range(len(search_for_list)):\n",
    "      item = search_for_list[i]\n",
    "      start = time.perf_counter()\n",
    "      test_set.remove(item)\n",
    "      end = time.perf_counter()\n",
    "      search_time = (end - start)*1000\n",
    "      time_results.append({'Search Function':\"Set '.remove()'\"\n",
    "                          ,'Index':'NA'\n",
    "                          ,'Search Time':search_time})"
   ]
  },
  {
   "cell_type": "markdown",
   "metadata": {},
   "source": [
    "Finally, I run the time testing, searching for \n",
    "1. the 6 'unsorted' search names in the unsorted list\n",
    "2. the 6 'sorted' search names in the sorted list\n",
    "3. and all 12 names in the set to set a range of hashed values"
   ]
  },
  {
   "cell_type": "code",
   "execution_count": 14,
   "metadata": {},
   "outputs": [],
   "source": [
    "list_time_testing(linear_search,'Linear Search for Unsorted List',unsorted_list,search_test_names['unsorted_list'])\n",
    "list_time_testing(binary_search,'Binary Search for Sorted List',sorted_list,search_test_names['sorted_list'])\n",
    "set_time_testing(unsorted_set,search_test_names['unsorted_list'])\n",
    "set_time_testing(unsorted_set,search_test_names['sorted_list'])"
   ]
  },
  {
   "cell_type": "markdown",
   "metadata": {},
   "source": [
    "And for easier data exploration and visualization, I covert the time_results list of dictionaries into a pandas dataframe."
   ]
  },
  {
   "cell_type": "code",
   "execution_count": 15,
   "metadata": {},
   "outputs": [],
   "source": [
    "results_df = pd.DataFrame(time_results)"
   ]
  },
  {
   "cell_type": "markdown",
   "metadata": {},
   "source": [
    "# V. Results Visualizations & Discussion"
   ]
  },
  {
   "cell_type": "markdown",
   "metadata": {},
   "source": [
    "Firstly, our results are small enough that we can just take a look at the raw data is to get an initial take on the search times of the various methods (linear, binary, hash function) "
   ]
  },
  {
   "cell_type": "code",
   "execution_count": 16,
   "metadata": {},
   "outputs": [
    {
     "data": {
      "text/html": [
       "<div>\n",
       "<style scoped>\n",
       "    .dataframe tbody tr th:only-of-type {\n",
       "        vertical-align: middle;\n",
       "    }\n",
       "\n",
       "    .dataframe tbody tr th {\n",
       "        vertical-align: top;\n",
       "    }\n",
       "\n",
       "    .dataframe thead th {\n",
       "        text-align: right;\n",
       "    }\n",
       "</style>\n",
       "<table border=\"1\" class=\"dataframe\">\n",
       "  <thead>\n",
       "    <tr style=\"text-align: right;\">\n",
       "      <th></th>\n",
       "      <th>Index</th>\n",
       "      <th>Search Function</th>\n",
       "      <th>Search Time</th>\n",
       "    </tr>\n",
       "  </thead>\n",
       "  <tbody>\n",
       "    <tr>\n",
       "      <th>0</th>\n",
       "      <td>9999</td>\n",
       "      <td>Linear Search for Unsorted List</td>\n",
       "      <td>1.6275</td>\n",
       "    </tr>\n",
       "    <tr>\n",
       "      <th>1</th>\n",
       "      <td>29999</td>\n",
       "      <td>Linear Search for Unsorted List</td>\n",
       "      <td>4.9647</td>\n",
       "    </tr>\n",
       "    <tr>\n",
       "      <th>2</th>\n",
       "      <td>49999</td>\n",
       "      <td>Linear Search for Unsorted List</td>\n",
       "      <td>16.7084</td>\n",
       "    </tr>\n",
       "    <tr>\n",
       "      <th>3</th>\n",
       "      <td>69999</td>\n",
       "      <td>Linear Search for Unsorted List</td>\n",
       "      <td>22.5602</td>\n",
       "    </tr>\n",
       "    <tr>\n",
       "      <th>4</th>\n",
       "      <td>89999</td>\n",
       "      <td>Linear Search for Unsorted List</td>\n",
       "      <td>31.9266</td>\n",
       "    </tr>\n",
       "    <tr>\n",
       "      <th>5</th>\n",
       "      <td>99999</td>\n",
       "      <td>Linear Search for Unsorted List</td>\n",
       "      <td>41.3065</td>\n",
       "    </tr>\n",
       "    <tr>\n",
       "      <th>6</th>\n",
       "      <td>9999</td>\n",
       "      <td>Binary Search for Sorted List</td>\n",
       "      <td>0.0148</td>\n",
       "    </tr>\n",
       "    <tr>\n",
       "      <th>7</th>\n",
       "      <td>29999</td>\n",
       "      <td>Binary Search for Sorted List</td>\n",
       "      <td>0.0101</td>\n",
       "    </tr>\n",
       "    <tr>\n",
       "      <th>8</th>\n",
       "      <td>49999</td>\n",
       "      <td>Binary Search for Sorted List</td>\n",
       "      <td>0.0012</td>\n",
       "    </tr>\n",
       "    <tr>\n",
       "      <th>9</th>\n",
       "      <td>69999</td>\n",
       "      <td>Binary Search for Sorted List</td>\n",
       "      <td>0.0108</td>\n",
       "    </tr>\n",
       "    <tr>\n",
       "      <th>10</th>\n",
       "      <td>89999</td>\n",
       "      <td>Binary Search for Sorted List</td>\n",
       "      <td>0.0105</td>\n",
       "    </tr>\n",
       "    <tr>\n",
       "      <th>11</th>\n",
       "      <td>99999</td>\n",
       "      <td>Binary Search for Sorted List</td>\n",
       "      <td>0.0101</td>\n",
       "    </tr>\n",
       "    <tr>\n",
       "      <th>12</th>\n",
       "      <td>NA</td>\n",
       "      <td>Set '.remove()'</td>\n",
       "      <td>0.0031</td>\n",
       "    </tr>\n",
       "    <tr>\n",
       "      <th>13</th>\n",
       "      <td>NA</td>\n",
       "      <td>Set '.remove()'</td>\n",
       "      <td>0.0008</td>\n",
       "    </tr>\n",
       "    <tr>\n",
       "      <th>14</th>\n",
       "      <td>NA</td>\n",
       "      <td>Set '.remove()'</td>\n",
       "      <td>0.0006</td>\n",
       "    </tr>\n",
       "    <tr>\n",
       "      <th>15</th>\n",
       "      <td>NA</td>\n",
       "      <td>Set '.remove()'</td>\n",
       "      <td>0.0006</td>\n",
       "    </tr>\n",
       "    <tr>\n",
       "      <th>16</th>\n",
       "      <td>NA</td>\n",
       "      <td>Set '.remove()'</td>\n",
       "      <td>0.0005</td>\n",
       "    </tr>\n",
       "    <tr>\n",
       "      <th>17</th>\n",
       "      <td>NA</td>\n",
       "      <td>Set '.remove()'</td>\n",
       "      <td>0.0005</td>\n",
       "    </tr>\n",
       "    <tr>\n",
       "      <th>18</th>\n",
       "      <td>NA</td>\n",
       "      <td>Set '.remove()'</td>\n",
       "      <td>0.0008</td>\n",
       "    </tr>\n",
       "    <tr>\n",
       "      <th>19</th>\n",
       "      <td>NA</td>\n",
       "      <td>Set '.remove()'</td>\n",
       "      <td>0.0006</td>\n",
       "    </tr>\n",
       "    <tr>\n",
       "      <th>20</th>\n",
       "      <td>NA</td>\n",
       "      <td>Set '.remove()'</td>\n",
       "      <td>0.0006</td>\n",
       "    </tr>\n",
       "    <tr>\n",
       "      <th>21</th>\n",
       "      <td>NA</td>\n",
       "      <td>Set '.remove()'</td>\n",
       "      <td>0.0006</td>\n",
       "    </tr>\n",
       "    <tr>\n",
       "      <th>22</th>\n",
       "      <td>NA</td>\n",
       "      <td>Set '.remove()'</td>\n",
       "      <td>0.0006</td>\n",
       "    </tr>\n",
       "    <tr>\n",
       "      <th>23</th>\n",
       "      <td>NA</td>\n",
       "      <td>Set '.remove()'</td>\n",
       "      <td>0.0006</td>\n",
       "    </tr>\n",
       "  </tbody>\n",
       "</table>\n",
       "</div>"
      ],
      "text/plain": [
       "    Index                  Search Function  Search Time\n",
       "0    9999  Linear Search for Unsorted List       1.6275\n",
       "1   29999  Linear Search for Unsorted List       4.9647\n",
       "2   49999  Linear Search for Unsorted List      16.7084\n",
       "3   69999  Linear Search for Unsorted List      22.5602\n",
       "4   89999  Linear Search for Unsorted List      31.9266\n",
       "5   99999  Linear Search for Unsorted List      41.3065\n",
       "6    9999    Binary Search for Sorted List       0.0148\n",
       "7   29999    Binary Search for Sorted List       0.0101\n",
       "8   49999    Binary Search for Sorted List       0.0012\n",
       "9   69999    Binary Search for Sorted List       0.0108\n",
       "10  89999    Binary Search for Sorted List       0.0105\n",
       "11  99999    Binary Search for Sorted List       0.0101\n",
       "12     NA                  Set '.remove()'       0.0031\n",
       "13     NA                  Set '.remove()'       0.0008\n",
       "14     NA                  Set '.remove()'       0.0006\n",
       "15     NA                  Set '.remove()'       0.0006\n",
       "16     NA                  Set '.remove()'       0.0005\n",
       "17     NA                  Set '.remove()'       0.0005\n",
       "18     NA                  Set '.remove()'       0.0008\n",
       "19     NA                  Set '.remove()'       0.0006\n",
       "20     NA                  Set '.remove()'       0.0006\n",
       "21     NA                  Set '.remove()'       0.0006\n",
       "22     NA                  Set '.remove()'       0.0006\n",
       "23     NA                  Set '.remove()'       0.0006"
      ]
     },
     "execution_count": 16,
     "metadata": {},
     "output_type": "execute_result"
    }
   ],
   "source": [
    "results_df"
   ]
  },
  {
   "cell_type": "markdown",
   "metadata": {},
   "source": [
    "Linear and binary search times should be some function of the indeces of the search values.  However, sets don't have indeces and we have no reason to think that one string should take particularly longer to search for than another within a set.  Thus, out of curiosity, I wanted to calculate the mean of the search time results for the set."
   ]
  },
  {
   "cell_type": "code",
   "execution_count": 17,
   "metadata": {},
   "outputs": [
    {
     "data": {
      "text/plain": [
       "0.0008249999989828893"
      ]
     },
     "execution_count": 17,
     "metadata": {},
     "output_type": "execute_result"
    }
   ],
   "source": [
    "results_df.loc[results_df['Index'] == 'NA', 'Search Time'].mean()"
   ]
  },
  {
   "cell_type": "markdown",
   "metadata": {},
   "source": [
    "The average 'search' time leveraging hash functions for sets is smaller than all the linear search times and smaller than all but one of the binary search times (for the 'middle' element of the sorted list).  Depending on the precise run of this code, sometimes the average hash function search is faster than ALL linear _and_ binary search times."
   ]
  },
  {
   "cell_type": "markdown",
   "metadata": {},
   "source": [
    "Next we graph the results looking at categorical scatterplots of the data."
   ]
  },
  {
   "cell_type": "code",
   "execution_count": 40,
   "metadata": {},
   "outputs": [
    {
     "data": {
      "image/png": "[encoded data removed]",
      "text/plain": [
       "<Figure size 648x432 with 1 Axes>"
      ]
     },
     "metadata": {
      "needs_background": "light"
     },
     "output_type": "display_data"
    }
   ],
   "source": [
    "p1 = sns.catplot(x=\"Search Function\", y=\"Search Time\", hue=\"Index\", data=results_df, aspect=1)\n",
    "p1.fig.set_size_inches(9,6)"
   ]
  },
  {
   "cell_type": "markdown",
   "metadata": {},
   "source": [
    "Firstly, it's clear that linear search generally takes significantly longer than both binary search and the set's hash function.  In addition, linear search time increases with the index of the element being searched for, as to be expected."
   ]
  },
  {
   "cell_type": "code",
   "execution_count": 41,
   "metadata": {},
   "outputs": [
    {
     "data": {
      "image/png": "[encoded data removed]",
      "text/plain": [
       "<Figure size 648x432 with 1 Axes>"
      ]
     },
     "metadata": {
      "needs_background": "light"
     },
     "output_type": "display_data"
    }
   ],
   "source": [
    "p2 = sns.catplot(x=\"Index\", y=\"Search Time\"\n",
    "            , hue = \"Search Function\", data=results_df)\n",
    "p2.fig.set_size_inches(9,6)"
   ]
  },
  {
   "cell_type": "markdown",
   "metadata": {},
   "source": [
    "This graph shows the same results, just with the index of the element being searched for on the x-axis and the color-coding representing the search method.  This graph makes it even more clear that linear search times increase linearly with the index of the element being searched for.\n",
    "\n",
    "However, because linear search takes so much longer than both binary search and the set's hash function, it's difficult to see any search time discrepency among the latter two.  Thus, in the next plot we remove the linear search records to focus on just the binary search and the set hash function search."
   ]
  },
  {
   "cell_type": "code",
   "execution_count": 42,
   "metadata": {},
   "outputs": [
    {
     "data": {
      "image/png": "[encoded data removed]",
      "text/plain": [
       "<Figure size 648x432 with 1 Axes>"
      ]
     },
     "metadata": {
      "needs_background": "light"
     },
     "output_type": "display_data"
    }
   ],
   "source": [
    "p3 = sns.catplot(x=\"Search Function\", y=\"Search Time\"\n",
    "            , hue = \"Index\"\n",
    "            , data=results_df.loc[results_df['Search Function']!='Linear Search for Unsorted List'])\n",
    "p3.fig.set_size_inches(9,6)"
   ]
  },
  {
   "cell_type": "markdown",
   "metadata": {},
   "source": [
    "Now that we're focusing on just binary search and hash function search, it's easier to see differences in run times.  \n",
    "\n",
    "It's clear that searching for an element in a set (via hash functions) is relatively consistent regardless of which element is being searched for.  \n",
    "\n",
    "In comparison, search time with binary search is variable depending on where the element is located within the list.  The exact middle element will be quickest to search for as we can see with the green '49,999' index point.  Search times for the other indeces are not perfectly correlated with the number of iterations it takes to find the respective element, but that is likely due to expected variance in the amount of cpu dedicated specifically to the searches (versus other computer functions.)"
   ]
  },
  {
   "cell_type": "markdown",
   "metadata": {},
   "source": [
    "# VI. Executive Summary"
   ]
  },
  {
   "cell_type": "markdown",
   "metadata": {},
   "source": [
    "It's clear that using hash functions to find elements in a list/array/set can be:\n",
    "1. _significantly_ faster than linear search except in the single 'best case' scenario when you're searching for the 1st element, and thus can find the element in one iteration of linear search\n",
    "2. much faster than binary search except in the single 'best case' scenario when you're searching for the exact middle element, and thus can find the element in one iteration of binary search\n",
    "3. relatively consistent when searching for different elements, as long as the hash function is designed well"
   ]
  }
 ],
 "metadata": {
  "kernelspec": {
   "display_name": "Python 3",
   "language": "python",
   "name": "python3"
  },
  "language_info": {
   "codemirror_mode": {
    "name": "ipython",
    "version": 3
   },
   "file_extension": ".py",
   "mimetype": "text/x-python",
   "name": "python",
   "nbconvert_exporter": "python",
   "pygments_lexer": "ipython3",
   "version": "3.7.0"
  }
 },
 "nbformat": 4,
 "nbformat_minor": 2
}
