{
 "cells": [
  {
   "cell_type": "markdown",
   "metadata": {},
   "source": [
    "# I. Introduction"
   ]
  },
  {
   "cell_type": "markdown",
   "metadata": {},
   "source": [
    "Greedy algorithms can solve many different types of problems.  This exercise explores the use of a greedy algorithm to assign security officers to a work-shift scheduling problem.\n",
    "\n",
    "First we import helpful packages."
   ]
  },
  {
   "cell_type": "code",
   "execution_count": 39,
   "metadata": {},
   "outputs": [],
   "source": [
    "import copy\n",
    "import pandas as pd\n",
    "#import matplotlib.pyplot as plt\n",
    "#import seaborn as sns\n",
    "#%matplotlib notebook"
   ]
  },
  {
   "cell_type": "markdown",
   "metadata": {},
   "source": [
    "# II. Generating the Test Data"
   ]
  },
  {
   "cell_type": "markdown",
   "metadata": {},
   "source": [
    "To add some realism and complexity to the scheduling problem a number of constraints were added to the initial assignment.\n",
    "\n",
    "Firstly, we need to schedule 1 security officer for each hour of each day in a week."
   ]
  },
  {
   "cell_type": "code",
   "execution_count": 40,
   "metadata": {},
   "outputs": [],
   "source": [
    "hours_in_day = 24\n",
    "days_to_cover = ['0_mon', '1_tue', '2_wed', '3_thu', '4_fri', '5_sat', '6_sun']"
   ]
  },
  {
   "cell_type": "markdown",
   "metadata": {},
   "source": [
    "To keep track of which officers are assigned when, we construct of list of 6 generic security officers."
   ]
  },
  {
   "cell_type": "code",
   "execution_count": 41,
   "metadata": {},
   "outputs": [],
   "source": [
    "peronnel = ['officer1', 'officer2', 'officer3', 'officer4', 'officer5', 'officer6']"
   ]
  },
  {
   "cell_type": "markdown",
   "metadata": {},
   "source": [
    "The costs included for this project are outlined below.  In this more advanced problem, we consider that the security officers have yet to be hired.  As such, for every officer needed, there is an upfront fixed cost of $1,000 to hire, onboard, and train the officer."
   ]
  },
  {
   "cell_type": "code",
   "execution_count": 42,
   "metadata": {},
   "outputs": [],
   "source": [
    "base_hourly_wage = 15 # dollars\n",
    "overtime_hourly_wage = 15 + 5 # dollars\n",
    "onboarding_cost = 1000 # dollars"
   ]
  },
  {
   "cell_type": "markdown",
   "metadata": {},
   "source": [
    "The constaints for this problem include a maximum number of hours that any individual officer can work...\n",
    "* per week\n",
    "* per calendar day\n",
    "* consecutively\n",
    "\n",
    "There is also a minimum number of hours that an officer can work in a single shift."
   ]
  },
  {
   "cell_type": "code",
   "execution_count": 43,
   "metadata": {},
   "outputs": [],
   "source": [
    "max_per_week = 40 # hard max for each officer per week\n",
    "max_per_day = 14 # hard max for each officer per day\n",
    "max_consecutive = 14 # maximum consecutive hours an officer can work\n",
    "min_hours_per_shift = 4 # minimum consecutive hours an officer can work"
   ]
  },
  {
   "cell_type": "markdown",
   "metadata": {},
   "source": [
    "Per the original problem, overtime pay kicks in when an officer works more than 8 consecutive hours."
   ]
  },
  {
   "cell_type": "code",
   "execution_count": 44,
   "metadata": {},
   "outputs": [],
   "source": [
    "consecutive_before_overtime = 8 # maximum consecutive hours worked before overtime pay kicks in"
   ]
  },
  {
   "cell_type": "markdown",
   "metadata": {},
   "source": [
    "All of these constraints have been parameterized so they can easily be altered and the problem resolved.  \n",
    "\n",
    "Lastly, we instantiate a few data structure to track the assignment of the officers to each hour in a week."
   ]
  },
  {
   "cell_type": "code",
   "execution_count": 45,
   "metadata": {},
   "outputs": [],
   "source": [
    "hours_to_cover = {}\n",
    "for day in days_to_cover:\n",
    "    hours_to_cover[day] = hours_in_day\n",
    "\n",
    "hours_worked = {}\n",
    "for officer in peronnel:\n",
    "    hours_worked[officer] = {}\n",
    "    for day in days_to_cover:\n",
    "        hours_worked[officer][day] = []"
   ]
  },
  {
   "cell_type": "markdown",
   "metadata": {},
   "source": [
    "hours_worked is a double nested dictionary within which contains a list of a numbers related to each hour an officer works each day.\n",
    "\n",
    "The last 'constraint' is that officers need a minimum time off between shifts equal to the the length of their last shift.  To help monitor the time needed before you can assign assign a new shift to an officer, the last data structure in instantiated."
   ]
  },
  {
   "cell_type": "code",
   "execution_count": 46,
   "metadata": {},
   "outputs": [],
   "source": [
    "most_rec_consecutive = {}\n",
    "for officer in peronnel:\n",
    "    most_rec_consecutive[officer] = 0"
   ]
  },
  {
   "cell_type": "markdown",
   "metadata": {},
   "source": [
    "# III. Functions for a Greedy Algorithm"
   ]
  },
  {
   "cell_type": "markdown",
   "metadata": {},
   "source": [
    "To run our greedy algorithm, a few helper function are generated first.\n",
    "\n",
    "The first helper function will aid in our determining if the time off for an officer after his/her last shift has been long enough to be re-assigned to a new shift.  \n",
    "* If the officer has not worked yesterday or today, then the function returns 'None' indicating that it has been _at least_ 24 hours, greater than the 14 hour maximum any officer would have to wait before their next shift scheduled.  \n",
    "* If the officer worked yesterday, but not today the function will return a negative value indicating how many hours _before_ the last midnight that they worked."
   ]
  },
  {
   "cell_type": "code",
   "execution_count": 47,
   "metadata": {},
   "outputs": [],
   "source": [
    "def last_two_days_last_hour_worked(officer, day, current_hour):\n",
    "    last_hour_worked = max(hours_worked[officer][day], default = None)\n",
    "    if last_hour_worked == None:\n",
    "        prev_day = days_to_cover[days_to_cover.index(day)-1]\n",
    "        if max(hours_worked[officer][prev_day], default = None) is not None:\n",
    "            last_hour_worked = max(hours_worked[officer][prev_day]) - hours_in_day\n",
    "    return last_hour_worked"
   ]
  },
  {
   "cell_type": "markdown",
   "metadata": {},
   "source": [
    "The next function is used to to help us to determine at any given time with any given officer, how many hours they can work.  \n",
    "\n",
    "We call this function with a specific officer, a current day & hour, and the maximum number of hours we want returned.  This last argument allows the function to be called first with the maximum time before overtime kicks in (8 hours) and then we can call it again with the hard maximum consecutive hours if our schedule has yet to be filled with non-overtime work.\n",
    "\n",
    "Within this function, we leverage the 'last hour worked' function we just instantiated and check to see that either:\n",
    "1. the **last_hour_worked** is _None_ (it's been at least 24 hours)\n",
    "2. the difference between the current hour and the **last_hour_worked** is greater than the length of the officer's last shift\n",
    "3. the officer was previously assigned a shift that ends at the current time, but they are available to work more hours (specifically in the case where we call the function first with the consecutive overtime constraint (8 hours) and then recall it with the maximum consecutive time (14 hours)"
   ]
  },
  {
   "cell_type": "code",
   "execution_count": 48,
   "metadata": {},
   "outputs": [],
   "source": [
    "def hours_can_work(officer, day, current_hour, max_hours):\n",
    "    hours_needed = hours_in_day - current_hour\n",
    "    weeks_hours_worked = sum([len(sublist) for sublist in hours_worked[officer].values()])\n",
    "    todays_hours_worked = len(hours_worked[officer][day])\n",
    "    \n",
    "    # these constraints ignore any consecutive hours worked requirements\n",
    "    week_constraint = max_per_week - weeks_hours_worked\n",
    "    day_constraint = max_per_day - todays_hours_worked\n",
    "    if min_hours_per_shift > week_constraint:\n",
    "        return 0\n",
    "    if min(hours_needed, min_hours_per_shift) > day_constraint:\n",
    "        return 0\n",
    "    \n",
    "    # determines how many consecutive hours the officer can work, ignoring the complexities of the daily maximum constraint\n",
    "    last_hour_worked = last_two_days_last_hour_worked(officer, day, current_hour)\n",
    "    if last_hour_worked is not None:\n",
    "        hour_lapse = current_hour - last_hour_worked\n",
    "        if hour_lapse >= most_rec_consecutive[officer]:\n",
    "            consec_hours_only = max_hours\n",
    "        elif ((hour_lapse == 0) & (most_rec_consecutive[officer] < max_hours)):\n",
    "            consec_hours_only = max_hours - most_rec_consecutive[officer]\n",
    "        else:\n",
    "            return 0\n",
    "    else:\n",
    "        consec_hours_only = max_hours\n",
    "    \n",
    "    # if the hours needed before the day is complete are less than the number of hours this officer can work this day, \n",
    "    # then we can ignore the day constraint\n",
    "    if day_constraint >= hours_needed:\n",
    "        return min(week_constraint, consec_hours_only)\n",
    "    else:\n",
    "        return min(week_constraint, day_constraint, consec_hours_only)"
   ]
  },
  {
   "cell_type": "markdown",
   "metadata": {},
   "source": [
    "As part of our solution, because each additional officer in the schedule incurs $1,000 up-front cost, we'd like to avoid including any extra unneeded officers in the schedule if possible.  As such, let's first determine the minimum possible number of security officers we would need, solely based on the 40 hour work week maximum."
   ]
  },
  {
   "cell_type": "code",
   "execution_count": 49,
   "metadata": {},
   "outputs": [],
   "source": [
    "min_personnel = -(-24*7 // 40)\n",
    "included = peronnel[0:min_personnel]"
   ]
  },
  {
   "cell_type": "markdown",
   "metadata": {},
   "source": [
    "Now we have the minimum set of potential security officers we'll need for this project in **included**.  If we get stuck solving the problem with the existing personnel, we will have to add security officers one at a time to this **included** data structure.\n",
    "\n",
    "Our last helper function serves to find officers available to work (via the **hours_can_work** helper function we just instantiated) and newly assign them to the an unfilled part in the schedule.  Shifts can extend from one day to the next and whenever a new shift is assigned, the function _breaks_ so we can re-asses if primary day's hours have been filled yet.  \n",
    "\n",
    "Each time this function is called, we always begin searching for available officers at 'officer1' and cycle through the officers in order to find an available one.  This is one part of the 'greediness' of this work-shift schedule solution."
   ]
  },
  {
   "cell_type": "code",
   "execution_count": 50,
   "metadata": {},
   "outputs": [],
   "source": [
    "def assign_hours(day, max_hours):\n",
    "    prev_day = days_to_cover[days_to_cover.index(day) - 1]\n",
    "    for officer in included:\n",
    "        current_hour = hours_in_day - hours_to_cover[day]\n",
    "        hours_to_work = hours_can_work(officer, day, current_hour, max_hours)\n",
    "        if hours_to_work == 0:\n",
    "            continue # skips the rest of the code in this iteration of the for-loop and moves to the next officer\n",
    "        \n",
    "        # if the officer can work and their shift will end before the next day\n",
    "        if ((hours_to_work > 0) & (hours_to_work <= hours_to_cover[day])): \n",
    "            # if we're extended a previously assigned shift with the same officer\n",
    "            if max(hours_worked[officer][day], default = None) == current_hour or \\\n",
    "            (max(hours_worked[officer][prev_day], default = None) == hours_in_day & current_hour == 0):\n",
    "                most_rec_consecutive[officer] = most_rec_consecutive[officer] + hours_to_work\n",
    "            else:\n",
    "                most_rec_consecutive[officer] = hours_to_work\n",
    "            # this for-loop actually assigns the hours the officer will work as elements in a list\n",
    "            for hour in range(hours_to_work):\n",
    "                hours_worked[officer][day].append(current_hour + hour + 1)\n",
    "            # now we can reduce the number of hours that still need coverage on this day\n",
    "            hours_to_cover[day] = hours_to_cover[day] - hours_to_work\n",
    "            # This is another greedy component to the solution. \n",
    "            # Every time a new shift is assigned, we exit the loop (and the function) \n",
    "            # and 'start over' to find the first available officer for the next shift.\n",
    "            break\n",
    "        \n",
    "        # if the officer can work and their shift will continue to the next day\n",
    "        if ((hours_to_work > 0) & (hours_to_work > hours_to_cover[day])):\n",
    "            # if we're extended a previously assigned shift with the same officer\n",
    "            if max(hours_worked[officer][day], default = None) == current_hour or \\\n",
    "            (max(hours_worked[officer][prev_day], default = None) == hours_in_day & current_hour == 0):\n",
    "                most_rec_consecutive[officer] = most_rec_consecutive[officer] + hours_to_cover[day]\n",
    "            else:\n",
    "                most_rec_consecutive[officer] = hours_to_cover[day]\n",
    "            # this for-loop actually assigns the hours the officer will work that day as elements in a list\n",
    "            for hour in range(hours_to_cover[day]):\n",
    "                hours_worked[officer][day].append(current_hour + hour + 1)\n",
    "            # now we can reduce the number of hours that this officer can continue to work\n",
    "            hours_to_work = hours_to_work - hours_to_cover[day]\n",
    "            hours_to_cover[day] = 0\n",
    "            \n",
    "            # if the 'day' is Sunday, than the whole schedule has been filled\n",
    "            # otherwise, we can keep assigning hours to the same officer for the 'next' day\n",
    "            if day != '6_sun':\n",
    "                next_day = days_to_cover[days_to_cover.index(day) + 1]\n",
    "                most_rec_consecutive[officer] = most_rec_consecutive[officer] + hours_to_work\n",
    "                # this for-loop actually assigns the hours the officer will work that day as elements in a list\n",
    "                for hour in range(hours_to_work):\n",
    "                    hours_worked[officer][next_day].append(hour + 1)\n",
    "                # now we can reduce the number of hours that still need coverage on this day\n",
    "                hours_to_cover[next_day] = hours_to_cover[next_day] - hours_to_work\n",
    "            # This is another greedy component to the solution. \n",
    "            # Every time a new shift is assigned, we exit the loop (and the function) \n",
    "            # and 'start over' to find the first available officer for the next shift.\n",
    "            break"
   ]
  },
  {
   "cell_type": "markdown",
   "metadata": {},
   "source": [
    "This final section of code cycles through the days in the weekly schedule, and assuming their hours have not all been assigned, calls the **assign_hours** function.  \n",
    "\n",
    "We created a copy of the schedule pre- and post- **assign_hours**.  If there is no change in the schedule after calling **assign_hours** with the maximum consecutive hours ('max_hours') equal to the 8 consecutive hours an officer can work before overtime kicks in, than we recall the same function with the absolute maximum consecutive hours (14).  If there is still no change in the schedule, we add another officer.\n",
    "\n",
    "This order of operations is another component of the 'greediness' of this solution."
   ]
  },
  {
   "cell_type": "code",
   "execution_count": 51,
   "metadata": {},
   "outputs": [],
   "source": [
    "# cycle through 'cases' from most desirable to least desirable\n",
    "for day in days_to_cover:\n",
    "    while hours_to_cover[day] > 0:\n",
    "        start_sched = copy.deepcopy(hours_worked)\n",
    "        assign_hours(day, consecutive_before_overtime)\n",
    "        \n",
    "        if hours_worked == start_sched:\n",
    "            assign_hours(day, max_consecutive)\n",
    "        \n",
    "        if hours_worked == start_sched:\n",
    "            included.append(peronnel[min_personnel])\n",
    "            min_personnel = min_personnel + 1"
   ]
  },
  {
   "cell_type": "markdown",
   "metadata": {},
   "source": [
    "When the for-loop completes, then **hours_worked** now contains the full work-shift schedule."
   ]
  },
  {
   "cell_type": "markdown",
   "metadata": {},
   "source": [
    "# IV. Results Preparation & Checks"
   ]
  },
  {
   "cell_type": "markdown",
   "metadata": {},
   "source": [
    "To view the results slightly more easily, we converted the nested dictionary of lists into a Pandas dataframe of lists."
   ]
  },
  {
   "cell_type": "code",
   "execution_count": 54,
   "metadata": {},
   "outputs": [],
   "source": [
    "results_df = pd.DataFrame(hours_worked)"
   ]
  },
  {
   "cell_type": "markdown",
   "metadata": {},
   "source": [
    "Then perform a few cursory checks of the results..\n",
    "1. that each day has 24 hours of coverage\n",
    "2. that no officer get assigned more than 40 hours across the whole (weekly) schedule\n",
    "3. that no officer gets assigned more than 14 hours in a single day"
   ]
  },
  {
   "cell_type": "code",
   "execution_count": 56,
   "metadata": {},
   "outputs": [
    {
     "data": {
      "text/plain": [
       "0_mon    True\n",
       "1_tue    True\n",
       "2_wed    True\n",
       "3_thu    True\n",
       "4_fri    True\n",
       "5_sat    True\n",
       "6_sun    True\n",
       "dtype: bool"
      ]
     },
     "execution_count": 56,
     "metadata": {},
     "output_type": "execute_result"
    }
   ],
   "source": [
    "# 24-hour coverage check per day\n",
    "sum([results_df[x].str.len() for x in results_df.columns]) == hours_in_day"
   ]
  },
  {
   "cell_type": "code",
   "execution_count": 59,
   "metadata": {},
   "outputs": [
    {
     "data": {
      "text/plain": [
       "[True, True, True, True, True, True]"
      ]
     },
     "execution_count": 59,
     "metadata": {},
     "output_type": "execute_result"
    }
   ],
   "source": [
    "# check max hours per week\n",
    "[sum(results_df[x].str.len()) <= max_per_week for x in results_df.columns] "
   ]
  },
  {
   "cell_type": "code",
   "execution_count": 60,
   "metadata": {},
   "outputs": [
    {
     "data": {
      "text/plain": [
       "[0_mon    True\n",
       " 1_tue    True\n",
       " 2_wed    True\n",
       " 3_thu    True\n",
       " 4_fri    True\n",
       " 5_sat    True\n",
       " 6_sun    True\n",
       " Name: officer1, dtype: bool, 0_mon    True\n",
       " 1_tue    True\n",
       " 2_wed    True\n",
       " 3_thu    True\n",
       " 4_fri    True\n",
       " 5_sat    True\n",
       " 6_sun    True\n",
       " Name: officer2, dtype: bool, 0_mon    True\n",
       " 1_tue    True\n",
       " 2_wed    True\n",
       " 3_thu    True\n",
       " 4_fri    True\n",
       " 5_sat    True\n",
       " 6_sun    True\n",
       " Name: officer3, dtype: bool, 0_mon    True\n",
       " 1_tue    True\n",
       " 2_wed    True\n",
       " 3_thu    True\n",
       " 4_fri    True\n",
       " 5_sat    True\n",
       " 6_sun    True\n",
       " Name: officer4, dtype: bool, 0_mon    True\n",
       " 1_tue    True\n",
       " 2_wed    True\n",
       " 3_thu    True\n",
       " 4_fri    True\n",
       " 5_sat    True\n",
       " 6_sun    True\n",
       " Name: officer5, dtype: bool, 0_mon    True\n",
       " 1_tue    True\n",
       " 2_wed    True\n",
       " 3_thu    True\n",
       " 4_fri    True\n",
       " 5_sat    True\n",
       " 6_sun    True\n",
       " Name: officer6, dtype: bool]"
      ]
     },
     "execution_count": 60,
     "metadata": {},
     "output_type": "execute_result"
    }
   ],
   "source": [
    "# check max hours per day\n",
    "[results_df[x].str.len() <= max_per_day for x in results_df.columns] "
   ]
  },
  {
   "cell_type": "markdown",
   "metadata": {},
   "source": [
    "Lastly, we can just take a look at the results in their entirety to observe the schedule in more detail."
   ]
  },
  {
   "cell_type": "code",
   "execution_count": 61,
   "metadata": {},
   "outputs": [
    {
     "data": {
      "text/html": [
       "<div>\n",
       "<style scoped>\n",
       "    .dataframe tbody tr th:only-of-type {\n",
       "        vertical-align: middle;\n",
       "    }\n",
       "\n",
       "    .dataframe tbody tr th {\n",
       "        vertical-align: top;\n",
       "    }\n",
       "\n",
       "    .dataframe thead th {\n",
       "        text-align: right;\n",
       "    }\n",
       "</style>\n",
       "<table border=\"1\" class=\"dataframe\">\n",
       "  <thead>\n",
       "    <tr style=\"text-align: right;\">\n",
       "      <th></th>\n",
       "      <th>officer1</th>\n",
       "      <th>officer2</th>\n",
       "      <th>officer3</th>\n",
       "      <th>officer4</th>\n",
       "      <th>officer5</th>\n",
       "      <th>officer6</th>\n",
       "    </tr>\n",
       "  </thead>\n",
       "  <tbody>\n",
       "    <tr>\n",
       "      <th>0_mon</th>\n",
       "      <td>[1, 2, 3, 4, 5, 6, 7, 8, 17, 18, 19, 20, 21, 22]</td>\n",
       "      <td>[9, 10, 11, 12, 13, 14, 15, 16]</td>\n",
       "      <td>[23, 24]</td>\n",
       "      <td>[]</td>\n",
       "      <td>[]</td>\n",
       "      <td>[]</td>\n",
       "    </tr>\n",
       "    <tr>\n",
       "      <th>1_tue</th>\n",
       "      <td>[7, 8, 9, 10, 11, 12, 13, 14, 23, 24]</td>\n",
       "      <td>[15, 16, 17, 18, 19, 20, 21, 22]</td>\n",
       "      <td>[1, 2, 3, 4, 5, 6]</td>\n",
       "      <td>[]</td>\n",
       "      <td>[]</td>\n",
       "      <td>[]</td>\n",
       "    </tr>\n",
       "    <tr>\n",
       "      <th>2_wed</th>\n",
       "      <td>[1, 2, 3, 4, 5, 6, 15, 16, 17, 18, 19, 20, 21,...</td>\n",
       "      <td>[7, 8, 9, 10, 11, 12, 13, 14, 23, 24]</td>\n",
       "      <td>[]</td>\n",
       "      <td>[]</td>\n",
       "      <td>[]</td>\n",
       "      <td>[]</td>\n",
       "    </tr>\n",
       "    <tr>\n",
       "      <th>3_thu</th>\n",
       "      <td>[]</td>\n",
       "      <td>[1, 2, 3, 4, 5, 6, 15, 16, 17, 18, 19, 20, 21,...</td>\n",
       "      <td>[7, 8, 9, 10, 11, 12, 13, 14, 23, 24]</td>\n",
       "      <td>[]</td>\n",
       "      <td>[]</td>\n",
       "      <td>[]</td>\n",
       "    </tr>\n",
       "    <tr>\n",
       "      <th>4_fri</th>\n",
       "      <td>[]</td>\n",
       "      <td>[]</td>\n",
       "      <td>[1, 2, 3, 4, 5, 6, 15, 16, 17, 18, 19, 20, 21,...</td>\n",
       "      <td>[7, 8, 9, 10, 11, 12, 13, 14, 23, 24]</td>\n",
       "      <td>[]</td>\n",
       "      <td>[]</td>\n",
       "    </tr>\n",
       "    <tr>\n",
       "      <th>5_sat</th>\n",
       "      <td>[]</td>\n",
       "      <td>[]</td>\n",
       "      <td>[7, 8, 9, 10, 11, 12, 13, 14]</td>\n",
       "      <td>[1, 2, 3, 4, 5, 6, 15, 16, 17, 18, 19, 20, 21,...</td>\n",
       "      <td>[23, 24]</td>\n",
       "      <td>[]</td>\n",
       "    </tr>\n",
       "    <tr>\n",
       "      <th>6_sun</th>\n",
       "      <td>[]</td>\n",
       "      <td>[]</td>\n",
       "      <td>[]</td>\n",
       "      <td>[7, 8, 9, 10, 11, 12, 13, 14, 23, 24]</td>\n",
       "      <td>[1, 2, 3, 4, 5, 6, 15, 16, 17, 18, 19, 20, 21,...</td>\n",
       "      <td>[]</td>\n",
       "    </tr>\n",
       "  </tbody>\n",
       "</table>\n",
       "</div>"
      ],
      "text/plain": [
       "                                                officer1  \\\n",
       "0_mon   [1, 2, 3, 4, 5, 6, 7, 8, 17, 18, 19, 20, 21, 22]   \n",
       "1_tue              [7, 8, 9, 10, 11, 12, 13, 14, 23, 24]   \n",
       "2_wed  [1, 2, 3, 4, 5, 6, 15, 16, 17, 18, 19, 20, 21,...   \n",
       "3_thu                                                 []   \n",
       "4_fri                                                 []   \n",
       "5_sat                                                 []   \n",
       "6_sun                                                 []   \n",
       "\n",
       "                                                officer2  \\\n",
       "0_mon                    [9, 10, 11, 12, 13, 14, 15, 16]   \n",
       "1_tue                   [15, 16, 17, 18, 19, 20, 21, 22]   \n",
       "2_wed              [7, 8, 9, 10, 11, 12, 13, 14, 23, 24]   \n",
       "3_thu  [1, 2, 3, 4, 5, 6, 15, 16, 17, 18, 19, 20, 21,...   \n",
       "4_fri                                                 []   \n",
       "5_sat                                                 []   \n",
       "6_sun                                                 []   \n",
       "\n",
       "                                                officer3  \\\n",
       "0_mon                                           [23, 24]   \n",
       "1_tue                                 [1, 2, 3, 4, 5, 6]   \n",
       "2_wed                                                 []   \n",
       "3_thu              [7, 8, 9, 10, 11, 12, 13, 14, 23, 24]   \n",
       "4_fri  [1, 2, 3, 4, 5, 6, 15, 16, 17, 18, 19, 20, 21,...   \n",
       "5_sat                      [7, 8, 9, 10, 11, 12, 13, 14]   \n",
       "6_sun                                                 []   \n",
       "\n",
       "                                                officer4  \\\n",
       "0_mon                                                 []   \n",
       "1_tue                                                 []   \n",
       "2_wed                                                 []   \n",
       "3_thu                                                 []   \n",
       "4_fri              [7, 8, 9, 10, 11, 12, 13, 14, 23, 24]   \n",
       "5_sat  [1, 2, 3, 4, 5, 6, 15, 16, 17, 18, 19, 20, 21,...   \n",
       "6_sun              [7, 8, 9, 10, 11, 12, 13, 14, 23, 24]   \n",
       "\n",
       "                                                officer5 officer6  \n",
       "0_mon                                                 []       []  \n",
       "1_tue                                                 []       []  \n",
       "2_wed                                                 []       []  \n",
       "3_thu                                                 []       []  \n",
       "4_fri                                                 []       []  \n",
       "5_sat                                           [23, 24]       []  \n",
       "6_sun  [1, 2, 3, 4, 5, 6, 15, 16, 17, 18, 19, 20, 21,...       []  "
      ]
     },
     "execution_count": 61,
     "metadata": {},
     "output_type": "execute_result"
    }
   ],
   "source": [
    "results_df"
   ]
  },
  {
   "cell_type": "markdown",
   "metadata": {},
   "source": [
    "# V. Cost Calculations & Results Discussion"
   ]
  },
  {
   "cell_type": "markdown",
   "metadata": {},
   "source": [
    "Examination of the results in full detail confirms that ...\n",
    "1. all our 'hard' constraints have been fully satisfied\n",
    "2. that we were able to avoid adding a 6th officer for an additional $1,000\n",
    "3. That we were able to avoid any overtime work\n",
    "\n",
    "As such, our upfront fixed and weekly variable costs are as follows..."
   ]
  },
  {
   "cell_type": "code",
   "execution_count": 63,
   "metadata": {},
   "outputs": [
    {
     "name": "stdout",
     "output_type": "stream",
     "text": [
      "The upfront fixed cost for this schedule is: $ 5000\n",
      "The weekly variable cost for this schedule is: $ 2520\n"
     ]
    }
   ],
   "source": [
    "fixed_cost = sum([onboarding_cost for i in included])\n",
    "print(\"The upfront fixed cost for this schedule is: $\", fixed_cost)\n",
    "variable_cost = sum([sum(results_df[x].str.len())*base_hourly_wage for x in results_df.columns])\n",
    "print(\"The weekly variable cost for this schedule is: $\", variable_cost)"
   ]
  },
  {
   "cell_type": "markdown",
   "metadata": {},
   "source": [
    "In this case our greedy 'algorithm' found one of the optimal solutions to this problem.  \n",
    "\n",
    "This problem has _many_ (optimal) solutions.  As a base case for a single alternate optimal solution, we could simply swap officers and arrive at the same total fixed & variable costs.  \n",
    "\n",
    "However, if the problem constraints and available resources were not specified as they were, this greedy solution may not always find an optimal solution.  The solution assigns officers in order, always filling the next unfilled hour first, and always assigning officers the maximum amount of time they have available (under overtime or not) to the schedule.  Thus, it is possible for the functions to solve the problem in a way that is not optimal requiring overtime work or additional officers in the schedule when they might not be required with an alternate solution.  \n",
    "\n",
    "This is particularly true because of the **min_hours_per_shift** constraint.  A officer we evaluate might be available to work 6 consecutive hours at a particularly time, in which case we would assign all 6 hours.  However, if they had previously worked a total of 32 hours, they've now been assigned a schedule of 38 hours per week, not allowing them to work any more because of the **min_hours_per_shift** requirement.  This was the case for 'officer1' in the solution we created above."
   ]
  },
  {
   "cell_type": "code",
   "execution_count": 66,
   "metadata": {},
   "outputs": [
    {
     "data": {
      "text/plain": [
       "38"
      ]
     },
     "execution_count": 66,
     "metadata": {},
     "output_type": "execute_result"
    }
   ],
   "source": [
    "sum(results_df['officer1'].str.len())"
   ]
  },
  {
   "cell_type": "markdown",
   "metadata": {},
   "source": [
    "If we had instead only assigned them a 4 hours shift, we could have assigned another 4 hour shift to them in the future, potential avoiding to need for other officers to work overtime or for new officers to be assigned to the schedule.  \n",
    "\n",
    "However, it seems that in a vast majority of realistic scenarios, this solution will provide an optimal or _very close to optimal_ solution to this work-shift scheduling problem."
   ]
  }
 ],
 "metadata": {
  "kernelspec": {
   "display_name": "Python 3",
   "language": "python",
   "name": "python3"
  },
  "language_info": {
   "codemirror_mode": {
    "name": "ipython",
    "version": 3
   },
   "file_extension": ".py",
   "mimetype": "text/x-python",
   "name": "python",
   "nbconvert_exporter": "python",
   "pygments_lexer": "ipython3",
   "version": "3.7.0"
  }
 },
 "nbformat": 4,
 "nbformat_minor": 2
}
