{
 "cells": [
  {
   "cell_type": "markdown",
   "metadata": {},
   "source": [
    "# I. Introduction"
   ]
  },
  {
   "cell_type": "markdown",
   "metadata": {},
   "source": [
    "This exercise explores the Big O of our first graph search function, Breadth-First (BF) Search.\n",
    "\n",
    "First we import helpful packages."
   ]
  },
  {
   "cell_type": "code",
   "execution_count": 1,
   "metadata": {},
   "outputs": [],
   "source": [
    "import pandas as pd\n",
    "import matplotlib.pyplot as plt\n",
    "import seaborn as sns\n",
    "%matplotlib notebook"
   ]
  },
  {
   "cell_type": "markdown",
   "metadata": {},
   "source": [
    "# II. Generating the Test Data"
   ]
  },
  {
   "cell_type": "markdown",
   "metadata": {},
   "source": [
    "I chose to generate the test data in a somewhat convulated/tedious way, the rationale being that I wanted to have duplicates (only within levels and never connected to the same person on the next lower level) to create more interesting -- and realistic -- data to test the BF search on.\n",
    "\n",
    "I also discovered the faker package for this assignment which uses US Census data to help generate random _realistic_ names instead of random character strings.\n",
    "\n",
    "First, I generated a pool of names from which to source each of my graph's levels.  I generated more names than I would need, but also discovered that faker will produce _some_ duplicates when generating a list of names this size."
   ]
  },
  {
   "cell_type": "code",
   "execution_count": 2,
   "metadata": {},
   "outputs": [
    {
     "name": "stdout",
     "output_type": "stream",
     "text": [
      "NYC  to  DC  is  2  hours\n",
      "NYC  to  Indianapolis  is  11  hours\n",
      "NYC  to  Pittsburg  is  7  hours\n",
      "DC  to  Atlanta  is  2  hours\n",
      "Atlanta  to  New Orleans  is  2  hours\n",
      "New Orleans  to  Dallas  is  2  hours\n",
      "Dallas  to  Albuquerque  is  2  hours\n",
      "Indianapolis  to  Kansas City  is  8  hours\n",
      "Kansas City  to  Denver  is  7  hours\n",
      "Denver  to  Salt Lake City  is  6  hours\n",
      "Pittsburg  to  Cincinnati  is  6  hours\n",
      "Cincinnati  to  St Louis  is  8  hours\n",
      "St Louis  to  Oklahoma City  is  7  hours\n",
      "Oklahoma City  to  Albuquerque  is  9  hours\n",
      "Salt Lake City  to  Las Vegas  is  9  hours\n",
      "Albuquerque  to  Phoenix  is  2  hours\n",
      "Phoenix  to  Las Vegas  is  2  hours\n",
      "Phoenix  to  San Diego  is  5  hours\n",
      "Las Vegas  to  San Diego  is  2  hours\n",
      "Las Vegas  to  Los Angeles  is  5  hours\n",
      "San Diego  to  Los Angeles  is  2  hours\n"
     ]
    }
   ],
   "source": [
    "# GENERATES THE GRAPH\n",
    "graph = {}\n",
    "\n",
    "# the nodes\n",
    "nodes = ['NYC', 'DC', 'Atlanta', 'New Orleans', 'Dallas'\n",
    "        , 'Indianapolis', 'Kansas City', 'Denver'\n",
    "        , 'Pittsburg', 'Cincinnati', 'St Louis', 'Oklahoma City'\n",
    "        , 'Salt Lake City', 'Albuquerque', 'Phoenix', 'Las Vegas', 'San Diego', 'Los Angeles']\n",
    "\n",
    "# instatiate the nodes in the graph\n",
    "for node in nodes:\n",
    "    graph[node] = {}\n",
    "\n",
    "# create the driving hours vertices for each node\n",
    "# NYC\n",
    "graph[\"NYC\"][\"DC\"] = 2\n",
    "graph[\"NYC\"][\"Indianapolis\"] = 11\n",
    "graph[\"NYC\"][\"Pittsburg\"] = 7\n",
    "\n",
    "# DC\n",
    "graph[\"DC\"][\"Atlanta\"] = 2\n",
    "\n",
    "# Atlanta\n",
    "graph[\"Atlanta\"][\"New Orleans\"] = 2\n",
    "\n",
    "# New Orleans\n",
    "graph[\"New Orleans\"][\"Dallas\"] = 2\n",
    "\n",
    "# Dallas\n",
    "graph[\"Dallas\"][\"Albuquerque\"] = 2\n",
    "\n",
    "# Indianapolis\n",
    "graph[\"Indianapolis\"][\"Kansas City\"] = 8\n",
    "\n",
    "# Kansas City\n",
    "graph[\"Kansas City\"][\"Denver\"] = 7\n",
    "\n",
    "# Denver\n",
    "graph[\"Denver\"][\"Salt Lake City\"] = 6\n",
    "\n",
    "# Pittsburg\n",
    "graph[\"Pittsburg\"][\"Cincinnati\"] = 6\n",
    "\n",
    "# Cincinnati\n",
    "graph[\"Cincinnati\"][\"St Louis\"] = 8\n",
    "\n",
    "# St Louis\n",
    "graph[\"St Louis\"][\"Oklahoma City\"] = 7\n",
    "\n",
    "# Oklahoma City\n",
    "graph[\"Oklahoma City\"][\"Albuquerque\"] = 9\n",
    "\n",
    "# Salt Lake City\n",
    "graph[\"Salt Lake City\"][\"Las Vegas\"] = 9\n",
    "\n",
    "# Albuquerque\n",
    "graph[\"Albuquerque\"][\"Phoenix\"] = 2\n",
    "\n",
    "# Phoenix\n",
    "graph[\"Phoenix\"][\"Las Vegas\"] = 2\n",
    "graph[\"Phoenix\"][\"San Diego\"] = 5\n",
    "\n",
    "# Las Vegas\n",
    "graph[\"Las Vegas\"][\"San Diego\"] = 2\n",
    "graph[\"Las Vegas\"][\"Los Angeles\"] = 5\n",
    "\n",
    "# San Diego\n",
    "graph[\"San Diego\"][\"Los Angeles\"] = 2\n",
    "\n",
    "graph.keys()\n",
    "\n",
    "# checking\n",
    "for node in graph.keys():\n",
    "    for connection in graph[node].keys():\n",
    "        print(node, \" to \", connection, \" is \", graph[node][connection], \" hours\")\n",
    "# all set!"
   ]
  },
  {
   "cell_type": "markdown",
   "metadata": {},
   "source": [
    "And now to generate the list of names to pool from"
   ]
  },
  {
   "cell_type": "code",
   "execution_count": null,
   "metadata": {},
   "outputs": [],
   "source": []
  },
  {
   "cell_type": "markdown",
   "metadata": {},
   "source": [
    "The following code uncovered duplicates in the generated values."
   ]
  },
  {
   "cell_type": "code",
   "execution_count": null,
   "metadata": {},
   "outputs": [],
   "source": []
  },
  {
   "cell_type": "markdown",
   "metadata": {},
   "source": [
    "To subsequently construct the graph levels in a clean and systematic way (to ensure adherence to the assignment specifications), I chose to de-dupe this 'pool' of names."
   ]
  },
  {
   "cell_type": "code",
   "execution_count": null,
   "metadata": {},
   "outputs": [],
   "source": []
  },
  {
   "cell_type": "markdown",
   "metadata": {},
   "source": [
    "Next I determined the number of unique persons for each level, aribtrarily adding a few duplicates to each."
   ]
  },
  {
   "cell_type": "code",
   "execution_count": null,
   "metadata": {},
   "outputs": [],
   "source": []
  },
  {
   "cell_type": "markdown",
   "metadata": {},
   "source": [
    "Next, I generated lists of unique persons for each graph level by splicing our original pool of names per the graph level 'unique' sizes generated above."
   ]
  },
  {
   "cell_type": "code",
   "execution_count": null,
   "metadata": {},
   "outputs": [],
   "source": []
  },
  {
   "cell_type": "markdown",
   "metadata": {},
   "source": [
    "To round out my list of names for each level, here is where I add the 'dupes' per level, appending them to the end each level's list.  Appending them to the the end of the respective levels' lists is necessary to avoid potential duplicate connections to the same person on the next lower level, as will become clear when the graph is constructed."
   ]
  },
  {
   "cell_type": "code",
   "execution_count": null,
   "metadata": {},
   "outputs": [],
   "source": []
  },
  {
   "cell_type": "markdown",
   "metadata": {},
   "source": [
    "Now that we have all the names apportioned properly, it's time to create the graph!"
   ]
  },
  {
   "cell_type": "code",
   "execution_count": null,
   "metadata": {},
   "outputs": [],
   "source": []
  },
  {
   "cell_type": "markdown",
   "metadata": {},
   "source": [
    "Per the primary use cases of graph searching, we typically want to begin searching from a specific starting point, in our case, level '0' (i.e. searching through my friends network on Facebook requires me to start with my own profile account)"
   ]
  },
  {
   "cell_type": "code",
   "execution_count": null,
   "metadata": {},
   "outputs": [],
   "source": []
  },
  {
   "cell_type": "markdown",
   "metadata": {},
   "source": [
    "Next we'll loop through the level 1 names and assign them a list of 5 connections each, again using list splicing."
   ]
  },
  {
   "cell_type": "code",
   "execution_count": null,
   "metadata": {},
   "outputs": [],
   "source": []
  },
  {
   "cell_type": "markdown",
   "metadata": {},
   "source": [
    "The following code finishes creating the rest of the connections in the graph.  \n",
    "\n",
    "Note that we only want to assign the 5 connections to each person in the graph once, so for each subsequent level (after level 1 above which has no dupes), we'll de-dupe the level's source name list first, before we generate the connections for each person in that level."
   ]
  },
  {
   "cell_type": "code",
   "execution_count": null,
   "metadata": {},
   "outputs": [],
   "source": []
  },
  {
   "cell_type": "markdown",
   "metadata": {},
   "source": [
    "Though not really necessary, to again make a graph a touch more realistic, you can't be connected to a person who isn't a node in the graph (i.e. on Facebook, you can only be friends with people who have Facebook accounts).\n",
    "\n",
    "Thus, let's imagine all the level 5 people have 'accounts with no friends' vs. 'not having accounts'."
   ]
  },
  {
   "cell_type": "code",
   "execution_count": null,
   "metadata": {},
   "outputs": [],
   "source": []
  },
  {
   "cell_type": "markdown",
   "metadata": {},
   "source": [
    "Now we'll run a few checks to ensure the graph was created as intended."
   ]
  },
  {
   "cell_type": "code",
   "execution_count": null,
   "metadata": {},
   "outputs": [],
   "source": []
  },
  {
   "cell_type": "code",
   "execution_count": null,
   "metadata": {},
   "outputs": [],
   "source": []
  },
  {
   "cell_type": "markdown",
   "metadata": {},
   "source": [
    "All set!\n",
    "\n",
    "Lastly, we just need to (randomly) generate the list of persons we eventually want to search for within our newly created graph."
   ]
  },
  {
   "cell_type": "code",
   "execution_count": null,
   "metadata": {},
   "outputs": [],
   "source": []
  },
  {
   "cell_type": "code",
   "execution_count": null,
   "metadata": {},
   "outputs": [],
   "source": []
  },
  {
   "cell_type": "markdown",
   "metadata": {},
   "source": [
    "# III. Defining the Breadth-First Search Function"
   ]
  },
  {
   "cell_type": "markdown",
   "metadata": {},
   "source": [
    "Next I started with the source code provide by our textbook and with a bit of testing and troubleshooting, added both a 'level' or 'degree' counter, as well as a 'token' that will indicate to us when to increment the degree counter."
   ]
  },
  {
   "cell_type": "code",
   "execution_count": 3,
   "metadata": {},
   "outputs": [
    {
     "data": {
      "text/plain": [
       "('NYC -> Indianapolis -> Kansas City -> Denver -> Salt Lake City -> Las Vegas -> Los Angeles',\n",
       " 46,\n",
       " 6)"
      ]
     },
     "execution_count": 3,
     "metadata": {},
     "output_type": "execute_result"
    }
   ],
   "source": [
    "# DEFINES GRAPH SEARCH FUNCTIONS\n",
    "# Breadth-First Search\n",
    "def breadth_first_search(starting_city, ending_city):\n",
    "    # instantiates the data structures to keep tracking of which nodes we have to search...\n",
    "    # and which we've already searched for\n",
    "    searched = [starting_city]\n",
    "    to_search = []\n",
    "    # instantiates separator string to print formatted path\n",
    "    seperator = ' -> '\n",
    "    \n",
    "    # gets neighbor nodes from starting point\n",
    "    neighbors = graph[starting_city].keys()\n",
    "    for neighbor in neighbors:\n",
    "        # for each neighbor, create path from starting point to neighbor\n",
    "        new_path = list([starting_city])\n",
    "        new_path.append(neighbor)\n",
    "        # if we found the ending point, calculate the driving time based on the path...\n",
    "        # and return the path, driving time, and number of stops\n",
    "        if neighbor == ending_city:\n",
    "            driving_time = 0 \n",
    "            for first in range(len(new_path)-1) :\n",
    "                driving_time += graph[new_path[first]][new_path[first+1]]\n",
    "            formatted_path = seperator.join(new_path)\n",
    "            return(formatted_path + \" takes \" + str(driving_time) + \" hours in \" + str(len(new_path)-1) + \" stops.\")\n",
    "        else:\n",
    "            # else, append the full path to the search queue to continue searching\n",
    "            to_search.append(new_path)\n",
    "    \n",
    "    # while stilll paths to search\n",
    "    while to_search:\n",
    "        # get the next path\n",
    "        path = to_search.pop(0)\n",
    "        # find the last city in that path\n",
    "        city = path[-1]\n",
    "        # if the city's neighbors have yet to be checked\n",
    "        if city not in searched:\n",
    "            # get the city's neighbors\n",
    "            neighbors = graph[city].keys()\n",
    "            for neighbor in neighbors:\n",
    "                # for each neighbor, extend the current path to that neighbor\n",
    "                new_path = list(path)\n",
    "                new_path.append(neighbor)\n",
    "                # if we found the ending point, calculate the driving time based on the path...\n",
    "                # and return the path, driving time, and number of stops\n",
    "                if neighbor == ending_city:\n",
    "                    driving_time = 0 \n",
    "                    for first in range(len(new_path)-1) :\n",
    "                        driving_time += graph[new_path[first]][new_path[first+1]]\n",
    "                    formatted_path = seperator.join(new_path)\n",
    "                    return formatted_path, driving_time, (len(new_path)-1)\n",
    "                    #return(formatted_path + \" takes \" + str(driving_time) + \" hours in \" + str(len(new_path)-1) + \" stops.\")\n",
    "                else :\n",
    "                    # else, append the full path to the search queue to continue searching\n",
    "                    to_search.append(new_path)\n",
    "                    # and add that city to 'searched' to indicated that its neighbors have been checked\n",
    "                    searched.append(city)\n",
    "    return False\n",
    "\n",
    "# testing BFS\n",
    "breadth_first_search('NYC', 'Los Angeles')"
   ]
  },
  {
   "cell_type": "markdown",
   "metadata": {},
   "source": [
    "And now for a quick test to ensure our BF search function works as expected."
   ]
  },
  {
   "cell_type": "code",
   "execution_count": 4,
   "metadata": {},
   "outputs": [
    {
     "data": {
      "text/plain": [
       "('NYC -> DC -> Atlanta -> New Orleans -> Dallas -> Albuquerque -> Phoenix -> Las Vegas -> San Diego -> Los Angeles',\n",
       " 18,\n",
       " 9)"
      ]
     },
     "execution_count": 4,
     "metadata": {},
     "output_type": "execute_result"
    }
   ],
   "source": [
    "# Dijkstra's Algorithm - lowest cost function\n",
    "def find_lowest_cost_node(costs, processed):\n",
    "    lowest_cost = float(\"inf\")\n",
    "    lowest_cost_node = None\n",
    "    # Go through each node.\n",
    "    for node in costs:\n",
    "        cost = costs[node]\n",
    "        # If it's the lowest cost so far and hasn't been processed yet...\n",
    "        if cost < lowest_cost and node not in processed:\n",
    "            # ... set it as the new lowest-cost node.\n",
    "            lowest_cost = cost\n",
    "            lowest_cost_node = node\n",
    "    return lowest_cost_node, lowest_cost\n",
    "\n",
    "# Rest of Dijkstra's Algorithm\n",
    "def dijkstras(starting_city, ending_city):\n",
    "    # instantiates the costs and parents tables\n",
    "    costs = {}\n",
    "    parents = {}\n",
    "\n",
    "    # adds infinity for all nodes' costs...\n",
    "    # and adds 'None's for all nodes' parents\n",
    "    infinity = float(\"inf\")\n",
    "    for no in graph.keys():\n",
    "        costs[no] = infinity\n",
    "        parents[no] = None\n",
    "\n",
    "    # adds costs and parents for starting point's neighbor nodes\n",
    "    for connection in graph[starting_city].keys():\n",
    "        costs[connection] = graph[starting_city][connection]\n",
    "        parents[connection] = starting_city\n",
    "    \n",
    "    # instantiates list of already processed nodes\n",
    "    processed = [starting_city]\n",
    "\n",
    "    # Find the lowest-cost node that you haven't processed yet.\n",
    "    node, cost = find_lowest_cost_node(costs, processed)\n",
    "    # If you've processed all the nodes, the 'lowest cost node' will be None\n",
    "    while node is not None:\n",
    "        # Go through all the neighbors of this node.\n",
    "        neighbors = graph[node]\n",
    "        for n in neighbors.keys():\n",
    "            new_cost = cost + neighbors[n]\n",
    "            # If it's cheaper to get to this neighbor by going through this node...\n",
    "            if new_cost < costs[n]:\n",
    "                # ... update the cost for this node.\n",
    "                costs[n] = new_cost\n",
    "                # This node becomes the new parent for this neighbor.\n",
    "                parents[n] = node\n",
    "        # Mark the node as processed.\n",
    "        processed.append(node)\n",
    "        # Find the next node to process, and loop.\n",
    "        node, cost = find_lowest_cost_node(costs, processed)\n",
    "    \n",
    "    # constructs outputs\n",
    "    separator = \" -> \"\n",
    "    path = []\n",
    "    current = ending_city\n",
    "    while parents[current] is not None:\n",
    "        path = [current] +  path\n",
    "        current = parents[current]\n",
    "    if path:\n",
    "        path = [current] +  path\n",
    "        formatted_path = separator.join(path)\n",
    "        #return(formatted_path + \" takes \" + str(costs[ending_city]) + \" hours in \" + str(len(path)-1) + \" steps.\")\n",
    "        return formatted_path, costs[ending_city], (len(path)-1)\n",
    "    else :\n",
    "        return None\n",
    "\n",
    "# testing Dijkstra\n",
    "dijkstras('NYC', 'Los Angeles')"
   ]
  },
  {
   "cell_type": "markdown",
   "metadata": {},
   "source": [
    "Looks good."
   ]
  },
  {
   "cell_type": "markdown",
   "metadata": {},
   "source": [
    "# IV. Time Testing"
   ]
  },
  {
   "cell_type": "markdown",
   "metadata": {},
   "source": [
    "First I instantiated a list to capture the results of the time testing"
   ]
  },
  {
   "cell_type": "code",
   "execution_count": 5,
   "metadata": {},
   "outputs": [],
   "source": [
    "# RESULTS CAPTURE\n",
    "# instantiates list to capture time test results\n",
    "results = []\n",
    "bfs = breadth_first_search('NYC', 'Los Angeles')\n",
    "d = dijkstras('NYC', 'Los Angeles')\n",
    "results.append({'Method Used':'Breadth-First Search'\n",
    "                ,'Path':bfs[0]\n",
    "                ,'Total Driving Time':bfs[1]\n",
    "                ,'Number of Stops':bfs[2]})\n",
    "results.append({'Method Used':'Dijkstra\\'s Algorithm'\n",
    "                ,'Path':d[0]\n",
    "                ,'Total Driving Time':d[1]\n",
    "                ,'Number of Stops':d[2]})\n",
    "\n",
    "# organizes results into pandas dataframe for easier exploration\n",
    "results_df = pd.DataFrame(results)\n",
    "results_melted = pd.melt(results_df, id_vars='Method Used'\n",
    "                        , var_name=\"Result Type\", value_vars=[\"Number of Stops\", \"Total Driving Time\"]\n",
    "                        , value_name=\"Values\")"
   ]
  },
  {
   "cell_type": "markdown",
   "metadata": {},
   "source": [
    "Now, I define a function to conduct the time testing"
   ]
  },
  {
   "cell_type": "code",
   "execution_count": null,
   "metadata": {},
   "outputs": [],
   "source": []
  },
  {
   "cell_type": "markdown",
   "metadata": {},
   "source": [
    "Finally, I run the time testing..."
   ]
  },
  {
   "cell_type": "code",
   "execution_count": null,
   "metadata": {},
   "outputs": [],
   "source": []
  },
  {
   "cell_type": "markdown",
   "metadata": {},
   "source": [
    "... and organize the results into pandas dataframe for easier exploration and visualization"
   ]
  },
  {
   "cell_type": "code",
   "execution_count": null,
   "metadata": {},
   "outputs": [],
   "source": []
  },
  {
   "cell_type": "markdown",
   "metadata": {},
   "source": [
    "# V. Results Exploration & Visualization"
   ]
  },
  {
   "cell_type": "markdown",
   "metadata": {},
   "source": [
    "Firstly, our results are small enough that we can just take a look at the raw data is to get an initial take on the BF search times."
   ]
  },
  {
   "cell_type": "code",
   "execution_count": 7,
   "metadata": {},
   "outputs": [
    {
     "data": {
      "image/png": "[encoded data removed]",
      "text/plain": [
       "<Figure size 432x288 with 1 Axes>"
      ]
     },
     "metadata": {},
     "output_type": "display_data"
    }
   ],
   "source": [
    "sns.set(style=\"darkgrid\")\n",
    "ax = sns.barplot(x=\"Result Type\", y=\"Values\", hue = \"Method Used\", data=results_melted)\n",
    "for col in ax.patches:\n",
    "    height = col.get_height()\n",
    "    ax.text(col.get_x()+col.get_width()/2., height + 1.5,\n",
    "            int(height), ha=\"center\") "
   ]
  },
  {
   "cell_type": "markdown",
   "metadata": {},
   "source": [
    "Based on an initial look, it's clear that on average, BF search times increase with each level of the graph being where the person/name was found.  (No surprise).\n",
    "\n",
    "Lastly, we graph the results looking at categorical scatterplots of the data."
   ]
  },
  {
   "cell_type": "code",
   "execution_count": null,
   "metadata": {},
   "outputs": [],
   "source": []
  },
  {
   "cell_type": "markdown",
   "metadata": {},
   "source": [
    "Curious about the results with different random names tested, I decided to create a few additional lists of people to search for, run the time testing again for each additional list, and append the new results."
   ]
  },
  {
   "cell_type": "markdown",
   "metadata": {},
   "source": [
    "Now let's plot the complete set of results data points."
   ]
  },
  {
   "cell_type": "code",
   "execution_count": null,
   "metadata": {},
   "outputs": [],
   "source": []
  },
  {
   "cell_type": "markdown",
   "metadata": {},
   "source": [
    "For one final plot, to better see a potential discrepency in run times among the first 4 levels of where the names are found, I'll exclude people of degree 5 and replot."
   ]
  },
  {
   "cell_type": "code",
   "execution_count": null,
   "metadata": {},
   "outputs": [],
   "source": []
  },
  {
   "cell_type": "markdown",
   "metadata": {},
   "source": [
    "# VI. Executive Summary"
   ]
  },
  {
   "cell_type": "markdown",
   "metadata": {},
   "source": [
    "Clearly as the connection degree of the person we're searching for (in comparison to our starting node) increases, so does the time it takes to find said person.\n",
    "\n",
    "However, there is also relatively large variation in search time among names/people in the same graph level.  We can see this by looking at the vertical spread of the data points within the highest graph level/degree plotted.  This is more noticeable the larger that graph level is (and for us, our graph levels are increasing in size exponentially).\n",
    "\n",
    "Lastly, one more thing to note is the y-axis scale.  Without paying close attention, one might percieve all the graphs as if they're on the same scale.  However even among the first two figures (both plotting through graph level/degreee 5) the y-axis scale grows from 0-90 to 0-140.  The more random names from graph level 5 that we choose to search for, the more likely we'll end up searching for a name that gets appended to our 'to_search' list toward the end of the list of all level 5 connections, increasing the maximum BF search time among our test search population... and thus automatically increasing the plots' y-axis scale."
   ]
  }
 ],
 "metadata": {
  "kernelspec": {
   "display_name": "Python 3",
   "language": "python",
   "name": "python3"
  },
  "language_info": {
   "codemirror_mode": {
    "name": "ipython",
    "version": 3
   },
   "file_extension": ".py",
   "mimetype": "text/x-python",
   "name": "python",
   "nbconvert_exporter": "python",
   "pygments_lexer": "ipython3",
   "version": "3.7.0"
  }
 },
 "nbformat": 4,
 "nbformat_minor": 2
}
