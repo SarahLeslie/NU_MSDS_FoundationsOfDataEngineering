{
 "cells": [
  {
   "cell_type": "markdown",
   "metadata": {},
   "source": [
    "# I. Introduction"
   ]
  },
  {
   "cell_type": "markdown",
   "metadata": {},
   "source": [
    "This exercise implements a KNN algorithm 'from scratch' and explores possible k-values as well as different tie-breaker solutions for the iris dataset from scikit-learn.\n",
    "\n",
    "First we import helpful packages."
   ]
  },
  {
   "cell_type": "code",
   "execution_count": 2,
   "metadata": {},
   "outputs": [],
   "source": [
    "import numpy as np\n",
    "from sklearn import datasets\n",
    "import pandas as pd\n",
    "from heapq import nsmallest\n",
    "import matplotlib.pyplot as plt\n",
    "import seaborn as sns\n",
    "%matplotlib notebook"
   ]
  },
  {
   "cell_type": "markdown",
   "metadata": {},
   "source": [
    "# II. Loading & Exploring the Data"
   ]
  },
  {
   "cell_type": "markdown",
   "metadata": {},
   "source": [
    "Then we load the iris dataset from scikit-learn, convert it into a pandas Dataframe for easier manipulation, and determine the number of each 'target' value."
   ]
  },
  {
   "cell_type": "code",
   "execution_count": 4,
   "metadata": {},
   "outputs": [
    {
     "data": {
      "text/html": [
       "<div>\n",
       "<style scoped>\n",
       "    .dataframe tbody tr th:only-of-type {\n",
       "        vertical-align: middle;\n",
       "    }\n",
       "\n",
       "    .dataframe tbody tr th {\n",
       "        vertical-align: top;\n",
       "    }\n",
       "\n",
       "    .dataframe thead th {\n",
       "        text-align: right;\n",
       "    }\n",
       "</style>\n",
       "<table border=\"1\" class=\"dataframe\">\n",
       "  <thead>\n",
       "    <tr style=\"text-align: right;\">\n",
       "      <th></th>\n",
       "      <th>sepal length (cm)</th>\n",
       "      <th>sepal width (cm)</th>\n",
       "      <th>petal length (cm)</th>\n",
       "      <th>petal width (cm)</th>\n",
       "      <th>target</th>\n",
       "    </tr>\n",
       "  </thead>\n",
       "  <tbody>\n",
       "    <tr>\n",
       "      <th>0</th>\n",
       "      <td>5.1</td>\n",
       "      <td>3.5</td>\n",
       "      <td>1.4</td>\n",
       "      <td>0.2</td>\n",
       "      <td>0.0</td>\n",
       "    </tr>\n",
       "    <tr>\n",
       "      <th>1</th>\n",
       "      <td>4.9</td>\n",
       "      <td>3.0</td>\n",
       "      <td>1.4</td>\n",
       "      <td>0.2</td>\n",
       "      <td>0.0</td>\n",
       "    </tr>\n",
       "    <tr>\n",
       "      <th>2</th>\n",
       "      <td>4.7</td>\n",
       "      <td>3.2</td>\n",
       "      <td>1.3</td>\n",
       "      <td>0.2</td>\n",
       "      <td>0.0</td>\n",
       "    </tr>\n",
       "    <tr>\n",
       "      <th>3</th>\n",
       "      <td>4.6</td>\n",
       "      <td>3.1</td>\n",
       "      <td>1.5</td>\n",
       "      <td>0.2</td>\n",
       "      <td>0.0</td>\n",
       "    </tr>\n",
       "    <tr>\n",
       "      <th>4</th>\n",
       "      <td>5.0</td>\n",
       "      <td>3.6</td>\n",
       "      <td>1.4</td>\n",
       "      <td>0.2</td>\n",
       "      <td>0.0</td>\n",
       "    </tr>\n",
       "  </tbody>\n",
       "</table>\n",
       "</div>"
      ],
      "text/plain": [
       "   sepal length (cm)  sepal width (cm)  petal length (cm)  petal width (cm)  \\\n",
       "0                5.1               3.5                1.4               0.2   \n",
       "1                4.9               3.0                1.4               0.2   \n",
       "2                4.7               3.2                1.3               0.2   \n",
       "3                4.6               3.1                1.5               0.2   \n",
       "4                5.0               3.6                1.4               0.2   \n",
       "\n",
       "   target  \n",
       "0     0.0  \n",
       "1     0.0  \n",
       "2     0.0  \n",
       "3     0.0  \n",
       "4     0.0  "
      ]
     },
     "execution_count": 4,
     "metadata": {},
     "output_type": "execute_result"
    }
   ],
   "source": [
    "iris = datasets.load_iris()\n",
    "iris_df = pd.DataFrame(data= np.c_[iris['data'], iris['target']],\n",
    "                     columns= iris['feature_names'] + ['target'])\n",
    "iris_df.head()"
   ]
  },
  {
   "cell_type": "code",
   "execution_count": 5,
   "metadata": {},
   "outputs": [
    {
     "data": {
      "text/plain": [
       "2.0    50\n",
       "1.0    50\n",
       "0.0    50\n",
       "Name: target, dtype: int64"
      ]
     },
     "execution_count": 5,
     "metadata": {},
     "output_type": "execute_result"
    }
   ],
   "source": [
    "iris_df['target'].value_counts()"
   ]
  },
  {
   "cell_type": "markdown",
   "metadata": {},
   "source": [
    "Before we implement the KNN algorithm, let's first take a look at target classification by sets of our predictors."
   ]
  },
  {
   "cell_type": "code",
   "execution_count": 6,
   "metadata": {},
   "outputs": [
    {
     "data": {
      "text/plain": [
       "<matplotlib.axes._subplots.AxesSubplot at 0x1f48b2f4128>"
      ]
     },
     "execution_count": 6,
     "metadata": {},
     "output_type": "execute_result"
    },
    {
     "data": {
      "image/png": "[encoded data removed]",
      "text/plain": [
       "<Figure size 432x288 with 1 Axes>"
      ]
     },
     "metadata": {},
     "output_type": "display_data"
    }
   ],
   "source": [
    "iris_df[\"target\"] = iris_df[\"target\"].astype(int)\n",
    "plt.figure()\n",
    "sns.set(style=\"darkgrid\")\n",
    "sns.scatterplot(data = iris_df, x = 'sepal length (cm)', y = 'sepal width (cm)', hue = 'target')"
   ]
  },
  {
   "cell_type": "code",
   "execution_count": 7,
   "metadata": {},
   "outputs": [
    {
     "data": {
      "text/plain": [
       "<matplotlib.axes._subplots.AxesSubplot at 0x1f48b031748>"
      ]
     },
     "execution_count": 7,
     "metadata": {},
     "output_type": "execute_result"
    },
    {
     "data": {
      "image/png": "[encoded data removed]",
      "text/plain": [
       "<Figure size 432x288 with 1 Axes>"
      ]
     },
     "metadata": {},
     "output_type": "display_data"
    }
   ],
   "source": [
    "plt.figure()\n",
    "sns.set(style=\"darkgrid\")\n",
    "sns.scatterplot(data = iris_df, x = 'petal length (cm)', y = 'petal width (cm)', hue = 'target')"
   ]
  },
  {
   "cell_type": "markdown",
   "metadata": {},
   "source": [
    "The plots indicate that KNN would be a good algorithm to employ on this data due to the high-level of grouping of similar colors ('target' values)."
   ]
  },
  {
   "cell_type": "markdown",
   "metadata": {},
   "source": [
    "# III. Defining KNN"
   ]
  },
  {
   "cell_type": "markdown",
   "metadata": {},
   "source": [
    "Our KNN algorithm was implemented with the use of smaller helper functions.\n",
    "\n",
    "First, we know that we'll need to calculate distances between any 2 records from the iris dataset, so first we create a distance function which takes in two pandas series of predictor variables (derived from Dataframe rows) and returns the 'distance' between them."
   ]
  },
  {
   "cell_type": "code",
   "execution_count": 8,
   "metadata": {},
   "outputs": [],
   "source": [
    "def sarahs_dist_formula(rec1, rec2):\n",
    "    diff = rec1 - rec2\n",
    "    squared = diff**2\n",
    "    summed = sum(squared)\n",
    "    return np.sqrt(summed)"
   ]
  },
  {
   "cell_type": "markdown",
   "metadata": {},
   "source": [
    "And now for a quick spot check test..."
   ]
  },
  {
   "cell_type": "code",
   "execution_count": 9,
   "metadata": {},
   "outputs": [
    {
     "name": "stdout",
     "output_type": "stream",
     "text": [
      "0.0\n",
      "0.30000000000000016\n"
     ]
    }
   ],
   "source": [
    "print(sarahs_dist_formula(iris_df.iloc[1,:4], iris_df.iloc[1,:4]))\n",
    "print(sarahs_dist_formula(iris_df.iloc[1,:4], iris_df.iloc[2,:4]))"
   ]
  },
  {
   "cell_type": "markdown",
   "metadata": {},
   "source": [
    "Looks good."
   ]
  },
  {
   "cell_type": "markdown",
   "metadata": {},
   "source": [
    "Next, we'll need a complete 'distance matrix' that stores the distances between all pairs of records.  We chose to store these distances in a nested dictionary for easy future lookups."
   ]
  },
  {
   "cell_type": "code",
   "execution_count": 10,
   "metadata": {},
   "outputs": [],
   "source": [
    "def sarahs_dist_dict(predictors):\n",
    "    dist_dict = {}\n",
    "    # first creates the nested dictionaries so we can store the distances as we calculate them\n",
    "    for record in predictors.index:\n",
    "        dist_dict[record] = {}\n",
    "    # cycles through each combination of different records, calculates the distance and stores it in both appropriate locations\n",
    "    for record1 in predictors.index:\n",
    "        for record2 in predictors[record1+1:].index:\n",
    "            dist = sarahs_dist_formula(predictors.iloc[record1], predictors.iloc[record2])\n",
    "            dist_dict[record1][record2] = dist\n",
    "            dist_dict[record2][record1] = dist\n",
    "    return dist_dict"
   ]
  },
  {
   "cell_type": "markdown",
   "metadata": {},
   "source": [
    "Again, a quick spot check test..."
   ]
  },
  {
   "cell_type": "code",
   "execution_count": 11,
   "metadata": {},
   "outputs": [
    {
     "name": "stdout",
     "output_type": "stream",
     "text": [
      "(150, 150)\n"
     ]
    },
    {
     "data": {
      "text/html": [
       "<div>\n",
       "<style scoped>\n",
       "    .dataframe tbody tr th:only-of-type {\n",
       "        vertical-align: middle;\n",
       "    }\n",
       "\n",
       "    .dataframe tbody tr th {\n",
       "        vertical-align: top;\n",
       "    }\n",
       "\n",
       "    .dataframe thead th {\n",
       "        text-align: right;\n",
       "    }\n",
       "</style>\n",
       "<table border=\"1\" class=\"dataframe\">\n",
       "  <thead>\n",
       "    <tr style=\"text-align: right;\">\n",
       "      <th></th>\n",
       "      <th>0</th>\n",
       "      <th>1</th>\n",
       "      <th>2</th>\n",
       "      <th>3</th>\n",
       "      <th>4</th>\n",
       "      <th>5</th>\n",
       "      <th>6</th>\n",
       "      <th>7</th>\n",
       "      <th>8</th>\n",
       "      <th>9</th>\n",
       "      <th>...</th>\n",
       "      <th>140</th>\n",
       "      <th>141</th>\n",
       "      <th>142</th>\n",
       "      <th>143</th>\n",
       "      <th>144</th>\n",
       "      <th>145</th>\n",
       "      <th>146</th>\n",
       "      <th>147</th>\n",
       "      <th>148</th>\n",
       "      <th>149</th>\n",
       "    </tr>\n",
       "  </thead>\n",
       "  <tbody>\n",
       "    <tr>\n",
       "      <th>0</th>\n",
       "      <td>NaN</td>\n",
       "      <td>0.538516</td>\n",
       "      <td>0.509902</td>\n",
       "      <td>0.648074</td>\n",
       "      <td>0.141421</td>\n",
       "      <td>0.616441</td>\n",
       "      <td>0.519615</td>\n",
       "      <td>0.173205</td>\n",
       "      <td>0.921954</td>\n",
       "      <td>0.469042</td>\n",
       "      <td>...</td>\n",
       "      <td>5.019960</td>\n",
       "      <td>4.636809</td>\n",
       "      <td>4.208325</td>\n",
       "      <td>5.257376</td>\n",
       "      <td>5.136146</td>\n",
       "      <td>4.654031</td>\n",
       "      <td>4.276681</td>\n",
       "      <td>4.459821</td>\n",
       "      <td>4.650806</td>\n",
       "      <td>4.140048</td>\n",
       "    </tr>\n",
       "    <tr>\n",
       "      <th>1</th>\n",
       "      <td>0.538516</td>\n",
       "      <td>NaN</td>\n",
       "      <td>0.300000</td>\n",
       "      <td>0.331662</td>\n",
       "      <td>0.608276</td>\n",
       "      <td>1.090871</td>\n",
       "      <td>0.509902</td>\n",
       "      <td>0.424264</td>\n",
       "      <td>0.509902</td>\n",
       "      <td>0.173205</td>\n",
       "      <td>...</td>\n",
       "      <td>5.072475</td>\n",
       "      <td>4.702127</td>\n",
       "      <td>4.180909</td>\n",
       "      <td>5.320714</td>\n",
       "      <td>5.206726</td>\n",
       "      <td>4.700000</td>\n",
       "      <td>4.249706</td>\n",
       "      <td>4.498889</td>\n",
       "      <td>4.718050</td>\n",
       "      <td>4.153312</td>\n",
       "    </tr>\n",
       "    <tr>\n",
       "      <th>2</th>\n",
       "      <td>0.509902</td>\n",
       "      <td>0.300000</td>\n",
       "      <td>NaN</td>\n",
       "      <td>0.244949</td>\n",
       "      <td>0.509902</td>\n",
       "      <td>1.086278</td>\n",
       "      <td>0.264575</td>\n",
       "      <td>0.412311</td>\n",
       "      <td>0.435890</td>\n",
       "      <td>0.316228</td>\n",
       "      <td>...</td>\n",
       "      <td>5.228767</td>\n",
       "      <td>4.868265</td>\n",
       "      <td>4.334743</td>\n",
       "      <td>5.475400</td>\n",
       "      <td>5.353504</td>\n",
       "      <td>4.864155</td>\n",
       "      <td>4.430576</td>\n",
       "      <td>4.661545</td>\n",
       "      <td>4.848711</td>\n",
       "      <td>4.298837</td>\n",
       "    </tr>\n",
       "    <tr>\n",
       "      <th>3</th>\n",
       "      <td>0.648074</td>\n",
       "      <td>0.331662</td>\n",
       "      <td>0.244949</td>\n",
       "      <td>NaN</td>\n",
       "      <td>0.648074</td>\n",
       "      <td>1.166190</td>\n",
       "      <td>0.331662</td>\n",
       "      <td>0.500000</td>\n",
       "      <td>0.300000</td>\n",
       "      <td>0.316228</td>\n",
       "      <td>...</td>\n",
       "      <td>5.104900</td>\n",
       "      <td>4.760252</td>\n",
       "      <td>4.177320</td>\n",
       "      <td>5.349766</td>\n",
       "      <td>5.232590</td>\n",
       "      <td>4.745524</td>\n",
       "      <td>4.288356</td>\n",
       "      <td>4.533211</td>\n",
       "      <td>4.719110</td>\n",
       "      <td>4.149699</td>\n",
       "    </tr>\n",
       "    <tr>\n",
       "      <th>4</th>\n",
       "      <td>0.141421</td>\n",
       "      <td>0.608276</td>\n",
       "      <td>0.509902</td>\n",
       "      <td>0.648074</td>\n",
       "      <td>NaN</td>\n",
       "      <td>0.616441</td>\n",
       "      <td>0.458258</td>\n",
       "      <td>0.223607</td>\n",
       "      <td>0.921954</td>\n",
       "      <td>0.529150</td>\n",
       "      <td>...</td>\n",
       "      <td>5.061620</td>\n",
       "      <td>4.686150</td>\n",
       "      <td>4.246175</td>\n",
       "      <td>5.297169</td>\n",
       "      <td>5.173007</td>\n",
       "      <td>4.701064</td>\n",
       "      <td>4.330127</td>\n",
       "      <td>4.504442</td>\n",
       "      <td>4.678675</td>\n",
       "      <td>4.173727</td>\n",
       "    </tr>\n",
       "  </tbody>\n",
       "</table>\n",
       "<p>5 rows × 150 columns</p>\n",
       "</div>"
      ],
      "text/plain": [
       "        0         1         2         3         4         5         6    \\\n",
       "0       NaN  0.538516  0.509902  0.648074  0.141421  0.616441  0.519615   \n",
       "1  0.538516       NaN  0.300000  0.331662  0.608276  1.090871  0.509902   \n",
       "2  0.509902  0.300000       NaN  0.244949  0.509902  1.086278  0.264575   \n",
       "3  0.648074  0.331662  0.244949       NaN  0.648074  1.166190  0.331662   \n",
       "4  0.141421  0.608276  0.509902  0.648074       NaN  0.616441  0.458258   \n",
       "\n",
       "        7         8         9      ...          140       141       142  \\\n",
       "0  0.173205  0.921954  0.469042    ...     5.019960  4.636809  4.208325   \n",
       "1  0.424264  0.509902  0.173205    ...     5.072475  4.702127  4.180909   \n",
       "2  0.412311  0.435890  0.316228    ...     5.228767  4.868265  4.334743   \n",
       "3  0.500000  0.300000  0.316228    ...     5.104900  4.760252  4.177320   \n",
       "4  0.223607  0.921954  0.529150    ...     5.061620  4.686150  4.246175   \n",
       "\n",
       "        143       144       145       146       147       148       149  \n",
       "0  5.257376  5.136146  4.654031  4.276681  4.459821  4.650806  4.140048  \n",
       "1  5.320714  5.206726  4.700000  4.249706  4.498889  4.718050  4.153312  \n",
       "2  5.475400  5.353504  4.864155  4.430576  4.661545  4.848711  4.298837  \n",
       "3  5.349766  5.232590  4.745524  4.288356  4.533211  4.719110  4.149699  \n",
       "4  5.297169  5.173007  4.701064  4.330127  4.504442  4.678675  4.173727  \n",
       "\n",
       "[5 rows x 150 columns]"
      ]
     },
     "execution_count": 11,
     "metadata": {},
     "output_type": "execute_result"
    }
   ],
   "source": [
    "temp = sarahs_dist_dict(iris_df.iloc[:,:4])\n",
    "temp_df = pd.DataFrame(temp)\n",
    "print(temp_df.shape)\n",
    "temp_df.head()"
   ]
  },
  {
   "cell_type": "markdown",
   "metadata": {},
   "source": [
    "Looks good."
   ]
  },
  {
   "cell_type": "markdown",
   "metadata": {},
   "source": [
    "Next, we know we'll need to determine the appropriate target value prediction for each individual record.  The next two functions take in the distance dictionary for a single record (via index), the full 'target' pandas series, and the k-value we want the prediction to be based on.\n",
    "\n",
    "In rare cases, but particularly with 3 classification values, there may be ties for which 'target' class has the highest presence among a record's k nearest neighbors.  We implement two versions for resolving the tie.\n",
    "1. Version 1 implements a recursive(!) solution and re-calculates the max count class with k+1 neighbors\n",
    "2. Version 2 sums the distances for each of the target classes with the equally highest counts among the k nearest neighbors and picks the class with the smallest total distance among the same k neighbors\n",
    "\n",
    "We'll explore both versions when running our KNN algorithms and investigating the results."
   ]
  },
  {
   "cell_type": "code",
   "execution_count": 12,
   "metadata": {},
   "outputs": [],
   "source": [
    "def sarahs_knn_single_prediction_v1(records_dict, target, k):\n",
    "    indeces = nsmallest(k, records_dict, key = records_dict.get)\n",
    "    class_counts = target[indeces].value_counts()\n",
    "    if len(class_counts[class_counts==class_counts.max()]) > 1:\n",
    "        new_guess = sarahs_knn_single_prediction_v1(records_dict, target, k+1) #ooo recursion!\n",
    "        return new_guess\n",
    "    else:\n",
    "        return class_counts.idxmax()"
   ]
  },
  {
   "cell_type": "code",
   "execution_count": 13,
   "metadata": {},
   "outputs": [],
   "source": [
    "def sarahs_knn_single_prediction_v2(records_dict, target, k):\n",
    "    indeces = nsmallest(k, records_dict, key = records_dict.get)\n",
    "    class_counts = target[indeces].value_counts()\n",
    "    if len(class_counts[class_counts==class_counts.max()]) > 1:\n",
    "        # first we filter the class counts to only those with equally 'max' counts\n",
    "        val_class_count = class_counts[class_counts==class_counts.max()]\n",
    "        # then we filter the indeces of the neighbors to only those with those highest class counts\n",
    "        filtered_targs = target[indeces][target[indeces].isin(list(val_class_count.index))]\n",
    "        filtered_indeces = list(filtered_targs.index)\n",
    "        # next we create a mini dictionary of only those indeces and their distances with the record we're trying to predict...\n",
    "        dists = {ind:records_dict[ind] for ind in filtered_indeces}\n",
    "        # and convert it to a pandas Dataframe for easier manipulation\n",
    "        dists = pd.DataFrame.from_dict(dists, orient='index', columns = ['dist_value'])\n",
    "        # we joins this Dataframe of distance values with the corresponding indeces 'target' values\n",
    "        tot = dists.join(target[indeces])\n",
    "        # sum the distances by target value\n",
    "        tot_summed = tot.groupby('target').sum()\n",
    "        # determin the minimum distance\n",
    "        tot_summed_min_dist = min(tot_summed['dist_value'])\n",
    "        # and find the target value with that minimum distance\n",
    "        new_guess = tot_summed[tot_summed['dist_value'] == tot_summed_min_dist].index[0]\n",
    "        return new_guess\n",
    "    else:\n",
    "        return class_counts.idxmax()"
   ]
  },
  {
   "cell_type": "markdown",
   "metadata": {},
   "source": [
    "Another quick spot check test... \n",
    "\n",
    "Through data exploration, we determined that when k = 4, running the basic knn algorithm on the record at index 133 results in a tie between target classes '1' and '2'.  Thus, we use this index as our test case."
   ]
  },
  {
   "cell_type": "code",
   "execution_count": 14,
   "metadata": {},
   "outputs": [
    {
     "data": {
      "text/plain": [
       "2    2\n",
       "1    2\n",
       "Name: target, dtype: int64"
      ]
     },
     "execution_count": 14,
     "metadata": {},
     "output_type": "execute_result"
    }
   ],
   "source": [
    "test_indeces = nsmallest(4, temp[133], key = temp[133].get)\n",
    "test_class_counts = iris_df.loc[:, 'target'][test_indeces].value_counts()\n",
    "test_class_counts"
   ]
  },
  {
   "cell_type": "code",
   "execution_count": 15,
   "metadata": {},
   "outputs": [
    {
     "name": "stdout",
     "output_type": "stream",
     "text": [
      "2\n",
      "1\n"
     ]
    }
   ],
   "source": [
    "print(sarahs_knn_single_prediction_v1(temp[133], iris_df.loc[:, 'target'], 4))\n",
    "print(sarahs_knn_single_prediction_v2(temp[133], iris_df.loc[:, 'target'], 4))"
   ]
  },
  {
   "cell_type": "markdown",
   "metadata": {},
   "source": [
    "Interesting!  In this case, our two tie-breaker solutions yield different results!\n",
    "\n",
    "Lastly, we wrap our helper functions into two comprehensive knn solution functions -- one for each tie-breaker method -- which both take a Dataframe of predictors, the outcome variable Series, and a k value, and return a list (in order) of predicted classes."
   ]
  },
  {
   "cell_type": "code",
   "execution_count": 16,
   "metadata": {},
   "outputs": [],
   "source": [
    "def sarahs_knn_v1(predictors, outcome, k):\n",
    "    dist_dict = sarahs_dist_dict(predictors)\n",
    "    predictions = []\n",
    "    for record in dist_dict.keys():\n",
    "        predictions.append(sarahs_knn_single_prediction_v1(dist_dict[record], outcome, k))\n",
    "    return predictions\n",
    "\n",
    "def sarahs_knn_v2(predictors, outcome, k):\n",
    "    dist_dict = sarahs_dist_dict(predictors)\n",
    "    predictions = []\n",
    "    for record in dist_dict.keys():\n",
    "        predictions.append(sarahs_knn_single_prediction_v2(dist_dict[record], outcome, k))\n",
    "    return predictions"
   ]
  },
  {
   "cell_type": "code",
   "execution_count": 17,
   "metadata": {},
   "outputs": [
    {
     "name": "stdout",
     "output_type": "stream",
     "text": [
      "Counter({2: 51, 0: 50, 1: 49})\n",
      "Counter({0: 50, 1: 50, 2: 50})\n"
     ]
    }
   ],
   "source": [
    "# just to help demonstrate testing\n",
    "from collections import Counter\n",
    "\n",
    "v1_results = sarahs_knn_v1(iris_df.iloc[:,:4], iris_df['target'], 4)\n",
    "v2_results = sarahs_knn_v2(iris_df.iloc[:,:4], iris_df['target'], 4)\n",
    "\n",
    "print(Counter(v1_results))\n",
    "print(Counter(v2_results))"
   ]
  },
  {
   "cell_type": "markdown",
   "metadata": {},
   "source": [
    "Given that we know the three target classes all appear 50 times in the actual data, these results (on the surface) look pretty reasonable!"
   ]
  },
  {
   "cell_type": "markdown",
   "metadata": {},
   "source": [
    "# IV. Running KNN and Organizing the Results"
   ]
  },
  {
   "cell_type": "markdown",
   "metadata": {},
   "source": [
    "Now that our KNN algorithms have been instantiated, we can run them for any k-values we choose and append the results as new columns in our iris Dataframe.  For demonstration purposes, we'll run them for a wide range of k values.\n",
    "\n",
    "__Please note!:__  This code may take a while to run.  If you'd like the following code to finish quicker, limit the 'range' values in the for loop below."
   ]
  },
  {
   "cell_type": "code",
   "execution_count": 18,
   "metadata": {},
   "outputs": [
    {
     "data": {
      "text/html": [
       "<div>\n",
       "<style scoped>\n",
       "    .dataframe tbody tr th:only-of-type {\n",
       "        vertical-align: middle;\n",
       "    }\n",
       "\n",
       "    .dataframe tbody tr th {\n",
       "        vertical-align: top;\n",
       "    }\n",
       "\n",
       "    .dataframe thead th {\n",
       "        text-align: right;\n",
       "    }\n",
       "</style>\n",
       "<table border=\"1\" class=\"dataframe\">\n",
       "  <thead>\n",
       "    <tr style=\"text-align: right;\">\n",
       "      <th></th>\n",
       "      <th>sepal length (cm)</th>\n",
       "      <th>sepal width (cm)</th>\n",
       "      <th>petal length (cm)</th>\n",
       "      <th>petal width (cm)</th>\n",
       "      <th>target</th>\n",
       "      <th>v1_k_is_1</th>\n",
       "      <th>v2_k_is_1</th>\n",
       "      <th>v1_k_is_2</th>\n",
       "      <th>v2_k_is_2</th>\n",
       "      <th>v1_k_is_3</th>\n",
       "      <th>...</th>\n",
       "      <th>v1_k_is_71</th>\n",
       "      <th>v2_k_is_71</th>\n",
       "      <th>v1_k_is_72</th>\n",
       "      <th>v2_k_is_72</th>\n",
       "      <th>v1_k_is_73</th>\n",
       "      <th>v2_k_is_73</th>\n",
       "      <th>v1_k_is_74</th>\n",
       "      <th>v2_k_is_74</th>\n",
       "      <th>v1_k_is_75</th>\n",
       "      <th>v2_k_is_75</th>\n",
       "    </tr>\n",
       "  </thead>\n",
       "  <tbody>\n",
       "    <tr>\n",
       "      <th>0</th>\n",
       "      <td>5.1</td>\n",
       "      <td>3.5</td>\n",
       "      <td>1.4</td>\n",
       "      <td>0.2</td>\n",
       "      <td>0</td>\n",
       "      <td>0</td>\n",
       "      <td>0</td>\n",
       "      <td>0</td>\n",
       "      <td>0</td>\n",
       "      <td>0</td>\n",
       "      <td>...</td>\n",
       "      <td>0</td>\n",
       "      <td>0</td>\n",
       "      <td>0</td>\n",
       "      <td>0</td>\n",
       "      <td>0</td>\n",
       "      <td>0</td>\n",
       "      <td>0</td>\n",
       "      <td>0</td>\n",
       "      <td>0</td>\n",
       "      <td>0</td>\n",
       "    </tr>\n",
       "    <tr>\n",
       "      <th>1</th>\n",
       "      <td>4.9</td>\n",
       "      <td>3.0</td>\n",
       "      <td>1.4</td>\n",
       "      <td>0.2</td>\n",
       "      <td>0</td>\n",
       "      <td>0</td>\n",
       "      <td>0</td>\n",
       "      <td>0</td>\n",
       "      <td>0</td>\n",
       "      <td>0</td>\n",
       "      <td>...</td>\n",
       "      <td>0</td>\n",
       "      <td>0</td>\n",
       "      <td>0</td>\n",
       "      <td>0</td>\n",
       "      <td>0</td>\n",
       "      <td>0</td>\n",
       "      <td>0</td>\n",
       "      <td>0</td>\n",
       "      <td>0</td>\n",
       "      <td>0</td>\n",
       "    </tr>\n",
       "    <tr>\n",
       "      <th>2</th>\n",
       "      <td>4.7</td>\n",
       "      <td>3.2</td>\n",
       "      <td>1.3</td>\n",
       "      <td>0.2</td>\n",
       "      <td>0</td>\n",
       "      <td>0</td>\n",
       "      <td>0</td>\n",
       "      <td>0</td>\n",
       "      <td>0</td>\n",
       "      <td>0</td>\n",
       "      <td>...</td>\n",
       "      <td>0</td>\n",
       "      <td>0</td>\n",
       "      <td>0</td>\n",
       "      <td>0</td>\n",
       "      <td>0</td>\n",
       "      <td>0</td>\n",
       "      <td>0</td>\n",
       "      <td>0</td>\n",
       "      <td>0</td>\n",
       "      <td>0</td>\n",
       "    </tr>\n",
       "    <tr>\n",
       "      <th>3</th>\n",
       "      <td>4.6</td>\n",
       "      <td>3.1</td>\n",
       "      <td>1.5</td>\n",
       "      <td>0.2</td>\n",
       "      <td>0</td>\n",
       "      <td>0</td>\n",
       "      <td>0</td>\n",
       "      <td>0</td>\n",
       "      <td>0</td>\n",
       "      <td>0</td>\n",
       "      <td>...</td>\n",
       "      <td>0</td>\n",
       "      <td>0</td>\n",
       "      <td>0</td>\n",
       "      <td>0</td>\n",
       "      <td>0</td>\n",
       "      <td>0</td>\n",
       "      <td>0</td>\n",
       "      <td>0</td>\n",
       "      <td>0</td>\n",
       "      <td>0</td>\n",
       "    </tr>\n",
       "    <tr>\n",
       "      <th>4</th>\n",
       "      <td>5.0</td>\n",
       "      <td>3.6</td>\n",
       "      <td>1.4</td>\n",
       "      <td>0.2</td>\n",
       "      <td>0</td>\n",
       "      <td>0</td>\n",
       "      <td>0</td>\n",
       "      <td>0</td>\n",
       "      <td>0</td>\n",
       "      <td>0</td>\n",
       "      <td>...</td>\n",
       "      <td>0</td>\n",
       "      <td>0</td>\n",
       "      <td>0</td>\n",
       "      <td>0</td>\n",
       "      <td>0</td>\n",
       "      <td>0</td>\n",
       "      <td>0</td>\n",
       "      <td>0</td>\n",
       "      <td>0</td>\n",
       "      <td>0</td>\n",
       "    </tr>\n",
       "  </tbody>\n",
       "</table>\n",
       "<p>5 rows × 155 columns</p>\n",
       "</div>"
      ],
      "text/plain": [
       "   sepal length (cm)  sepal width (cm)  petal length (cm)  petal width (cm)  \\\n",
       "0                5.1               3.5                1.4               0.2   \n",
       "1                4.9               3.0                1.4               0.2   \n",
       "2                4.7               3.2                1.3               0.2   \n",
       "3                4.6               3.1                1.5               0.2   \n",
       "4                5.0               3.6                1.4               0.2   \n",
       "\n",
       "   target  v1_k_is_1  v2_k_is_1  v1_k_is_2  v2_k_is_2  v1_k_is_3     ...      \\\n",
       "0       0          0          0          0          0          0     ...       \n",
       "1       0          0          0          0          0          0     ...       \n",
       "2       0          0          0          0          0          0     ...       \n",
       "3       0          0          0          0          0          0     ...       \n",
       "4       0          0          0          0          0          0     ...       \n",
       "\n",
       "   v1_k_is_71  v2_k_is_71  v1_k_is_72  v2_k_is_72  v1_k_is_73  v2_k_is_73  \\\n",
       "0           0           0           0           0           0           0   \n",
       "1           0           0           0           0           0           0   \n",
       "2           0           0           0           0           0           0   \n",
       "3           0           0           0           0           0           0   \n",
       "4           0           0           0           0           0           0   \n",
       "\n",
       "   v1_k_is_74  v2_k_is_74  v1_k_is_75  v2_k_is_75  \n",
       "0           0           0           0           0  \n",
       "1           0           0           0           0  \n",
       "2           0           0           0           0  \n",
       "3           0           0           0           0  \n",
       "4           0           0           0           0  \n",
       "\n",
       "[5 rows x 155 columns]"
      ]
     },
     "execution_count": 18,
     "metadata": {},
     "output_type": "execute_result"
    }
   ],
   "source": [
    "iris_df_results = iris_df\n",
    "\n",
    "for k_val in range(1,76):\n",
    "    v1_string = 'v1_' + 'k_is_' + str(k_val)\n",
    "    v2_string = 'v2_' + 'k_is_' + str(k_val)\n",
    "    iris_df_results[v1_string] = sarahs_knn_v1(iris_df.iloc[:,:4], iris_df['target'], k_val)\n",
    "    iris_df_results[v2_string] = sarahs_knn_v2(iris_df.iloc[:,:4], iris_df['target'], k_val)\n",
    "\n",
    "iris_df_results.head()"
   ]
  },
  {
   "cell_type": "markdown",
   "metadata": {},
   "source": [
    "Now that we've captured the KNN predictions, what we really care about is the accuracy of each run of the algorithm, not necessarily the predictions themselve.  As such, we convert all the newly created columns to booleans representing whether our prediction was correct or not."
   ]
  },
  {
   "cell_type": "code",
   "execution_count": 19,
   "metadata": {},
   "outputs": [
    {
     "data": {
      "text/html": [
       "<div>\n",
       "<style scoped>\n",
       "    .dataframe tbody tr th:only-of-type {\n",
       "        vertical-align: middle;\n",
       "    }\n",
       "\n",
       "    .dataframe tbody tr th {\n",
       "        vertical-align: top;\n",
       "    }\n",
       "\n",
       "    .dataframe thead th {\n",
       "        text-align: right;\n",
       "    }\n",
       "</style>\n",
       "<table border=\"1\" class=\"dataframe\">\n",
       "  <thead>\n",
       "    <tr style=\"text-align: right;\">\n",
       "      <th></th>\n",
       "      <th>sepal length (cm)</th>\n",
       "      <th>sepal width (cm)</th>\n",
       "      <th>petal length (cm)</th>\n",
       "      <th>petal width (cm)</th>\n",
       "      <th>target</th>\n",
       "      <th>v1_k_is_1</th>\n",
       "      <th>v2_k_is_1</th>\n",
       "      <th>v1_k_is_2</th>\n",
       "      <th>v2_k_is_2</th>\n",
       "      <th>v1_k_is_3</th>\n",
       "      <th>...</th>\n",
       "      <th>v1_k_is_71</th>\n",
       "      <th>v2_k_is_71</th>\n",
       "      <th>v1_k_is_72</th>\n",
       "      <th>v2_k_is_72</th>\n",
       "      <th>v1_k_is_73</th>\n",
       "      <th>v2_k_is_73</th>\n",
       "      <th>v1_k_is_74</th>\n",
       "      <th>v2_k_is_74</th>\n",
       "      <th>v1_k_is_75</th>\n",
       "      <th>v2_k_is_75</th>\n",
       "    </tr>\n",
       "  </thead>\n",
       "  <tbody>\n",
       "    <tr>\n",
       "      <th>0</th>\n",
       "      <td>5.1</td>\n",
       "      <td>3.5</td>\n",
       "      <td>1.4</td>\n",
       "      <td>0.2</td>\n",
       "      <td>0</td>\n",
       "      <td>True</td>\n",
       "      <td>True</td>\n",
       "      <td>True</td>\n",
       "      <td>True</td>\n",
       "      <td>True</td>\n",
       "      <td>...</td>\n",
       "      <td>True</td>\n",
       "      <td>True</td>\n",
       "      <td>True</td>\n",
       "      <td>True</td>\n",
       "      <td>True</td>\n",
       "      <td>True</td>\n",
       "      <td>True</td>\n",
       "      <td>True</td>\n",
       "      <td>True</td>\n",
       "      <td>True</td>\n",
       "    </tr>\n",
       "    <tr>\n",
       "      <th>1</th>\n",
       "      <td>4.9</td>\n",
       "      <td>3.0</td>\n",
       "      <td>1.4</td>\n",
       "      <td>0.2</td>\n",
       "      <td>0</td>\n",
       "      <td>True</td>\n",
       "      <td>True</td>\n",
       "      <td>True</td>\n",
       "      <td>True</td>\n",
       "      <td>True</td>\n",
       "      <td>...</td>\n",
       "      <td>True</td>\n",
       "      <td>True</td>\n",
       "      <td>True</td>\n",
       "      <td>True</td>\n",
       "      <td>True</td>\n",
       "      <td>True</td>\n",
       "      <td>True</td>\n",
       "      <td>True</td>\n",
       "      <td>True</td>\n",
       "      <td>True</td>\n",
       "    </tr>\n",
       "    <tr>\n",
       "      <th>2</th>\n",
       "      <td>4.7</td>\n",
       "      <td>3.2</td>\n",
       "      <td>1.3</td>\n",
       "      <td>0.2</td>\n",
       "      <td>0</td>\n",
       "      <td>True</td>\n",
       "      <td>True</td>\n",
       "      <td>True</td>\n",
       "      <td>True</td>\n",
       "      <td>True</td>\n",
       "      <td>...</td>\n",
       "      <td>True</td>\n",
       "      <td>True</td>\n",
       "      <td>True</td>\n",
       "      <td>True</td>\n",
       "      <td>True</td>\n",
       "      <td>True</td>\n",
       "      <td>True</td>\n",
       "      <td>True</td>\n",
       "      <td>True</td>\n",
       "      <td>True</td>\n",
       "    </tr>\n",
       "    <tr>\n",
       "      <th>3</th>\n",
       "      <td>4.6</td>\n",
       "      <td>3.1</td>\n",
       "      <td>1.5</td>\n",
       "      <td>0.2</td>\n",
       "      <td>0</td>\n",
       "      <td>True</td>\n",
       "      <td>True</td>\n",
       "      <td>True</td>\n",
       "      <td>True</td>\n",
       "      <td>True</td>\n",
       "      <td>...</td>\n",
       "      <td>True</td>\n",
       "      <td>True</td>\n",
       "      <td>True</td>\n",
       "      <td>True</td>\n",
       "      <td>True</td>\n",
       "      <td>True</td>\n",
       "      <td>True</td>\n",
       "      <td>True</td>\n",
       "      <td>True</td>\n",
       "      <td>True</td>\n",
       "    </tr>\n",
       "    <tr>\n",
       "      <th>4</th>\n",
       "      <td>5.0</td>\n",
       "      <td>3.6</td>\n",
       "      <td>1.4</td>\n",
       "      <td>0.2</td>\n",
       "      <td>0</td>\n",
       "      <td>True</td>\n",
       "      <td>True</td>\n",
       "      <td>True</td>\n",
       "      <td>True</td>\n",
       "      <td>True</td>\n",
       "      <td>...</td>\n",
       "      <td>True</td>\n",
       "      <td>True</td>\n",
       "      <td>True</td>\n",
       "      <td>True</td>\n",
       "      <td>True</td>\n",
       "      <td>True</td>\n",
       "      <td>True</td>\n",
       "      <td>True</td>\n",
       "      <td>True</td>\n",
       "      <td>True</td>\n",
       "    </tr>\n",
       "  </tbody>\n",
       "</table>\n",
       "<p>5 rows × 155 columns</p>\n",
       "</div>"
      ],
      "text/plain": [
       "   sepal length (cm)  sepal width (cm)  petal length (cm)  petal width (cm)  \\\n",
       "0                5.1               3.5                1.4               0.2   \n",
       "1                4.9               3.0                1.4               0.2   \n",
       "2                4.7               3.2                1.3               0.2   \n",
       "3                4.6               3.1                1.5               0.2   \n",
       "4                5.0               3.6                1.4               0.2   \n",
       "\n",
       "   target  v1_k_is_1  v2_k_is_1  v1_k_is_2  v2_k_is_2  v1_k_is_3     ...      \\\n",
       "0       0       True       True       True       True       True     ...       \n",
       "1       0       True       True       True       True       True     ...       \n",
       "2       0       True       True       True       True       True     ...       \n",
       "3       0       True       True       True       True       True     ...       \n",
       "4       0       True       True       True       True       True     ...       \n",
       "\n",
       "   v1_k_is_71  v2_k_is_71  v1_k_is_72  v2_k_is_72  v1_k_is_73  v2_k_is_73  \\\n",
       "0        True        True        True        True        True        True   \n",
       "1        True        True        True        True        True        True   \n",
       "2        True        True        True        True        True        True   \n",
       "3        True        True        True        True        True        True   \n",
       "4        True        True        True        True        True        True   \n",
       "\n",
       "   v1_k_is_74  v2_k_is_74  v1_k_is_75  v2_k_is_75  \n",
       "0        True        True        True        True  \n",
       "1        True        True        True        True  \n",
       "2        True        True        True        True  \n",
       "3        True        True        True        True  \n",
       "4        True        True        True        True  \n",
       "\n",
       "[5 rows x 155 columns]"
      ]
     },
     "execution_count": 19,
     "metadata": {},
     "output_type": "execute_result"
    }
   ],
   "source": [
    "for k_val in range(1,76):\n",
    "    v1_string = 'v1_' + 'k_is_' + str(k_val)\n",
    "    v2_string = 'v2_' + 'k_is_' + str(k_val)\n",
    "    iris_df_results[v1_string] = iris_df_results[v1_string] == iris_df_results['target']\n",
    "    iris_df_results[v2_string] = iris_df_results[v2_string] == iris_df_results['target']\n",
    "\n",
    "iris_df.head()"
   ]
  },
  {
   "cell_type": "markdown",
   "metadata": {},
   "source": [
    "We now have a record of whether each individual record was correctly or incorrectly predicted with each run of the algorithm(s).  To calculate overall accuracy of each run, we create a new 'results' dictionary.  For each k value, we capture that k-value, the accuracy of the 'V1' algorithm, and the accuracy of the 'V2' algorithm."
   ]
  },
  {
   "cell_type": "code",
   "execution_count": 20,
   "metadata": {},
   "outputs": [
    {
     "data": {
      "text/plain": [
       "[[1, 0.96, 0.96],\n",
       " [2, 0.96, 0.96],\n",
       " [3, 0.96, 0.96],\n",
       " [4, 0.9666666666666667, 0.96],\n",
       " [5, 0.9666666666666667, 0.9666666666666667],\n",
       " [6, 0.9666666666666667, 0.96],\n",
       " [7, 0.9666666666666667, 0.9666666666666667],\n",
       " [8, 0.9666666666666667, 0.9666666666666667],\n",
       " [9, 0.9666666666666667, 0.9666666666666667],\n",
       " [10, 0.9733333333333334, 0.9533333333333334]]"
      ]
     },
     "execution_count": 20,
     "metadata": {},
     "output_type": "execute_result"
    }
   ],
   "source": [
    "df_len = len(iris_df_results)\n",
    "results_dict = {}\n",
    "for k_val in range(1,76):\n",
    "    v1_string = 'v1_' + 'k_is_' + str(k_val)\n",
    "    v2_string = 'v2_' + 'k_is_' + str(k_val)\n",
    "    results_dict[k_val] = [k_val, sum(iris_df_results[v1_string])/df_len, sum(iris_df_results[v2_string])/df_len]\n",
    "\n",
    "[results_dict[x] for x in range(1,11)]"
   ]
  },
  {
   "cell_type": "markdown",
   "metadata": {},
   "source": [
    "Lastly, we convert the dictionary of results into pandas dataframe for easier exploration and visualization."
   ]
  },
  {
   "cell_type": "code",
   "execution_count": 21,
   "metadata": {},
   "outputs": [
    {
     "data": {
      "text/html": [
       "<div>\n",
       "<style scoped>\n",
       "    .dataframe tbody tr th:only-of-type {\n",
       "        vertical-align: middle;\n",
       "    }\n",
       "\n",
       "    .dataframe tbody tr th {\n",
       "        vertical-align: top;\n",
       "    }\n",
       "\n",
       "    .dataframe thead th {\n",
       "        text-align: right;\n",
       "    }\n",
       "</style>\n",
       "<table border=\"1\" class=\"dataframe\">\n",
       "  <thead>\n",
       "    <tr style=\"text-align: right;\">\n",
       "      <th></th>\n",
       "      <th>k_value</th>\n",
       "      <th>V1</th>\n",
       "      <th>V2</th>\n",
       "    </tr>\n",
       "  </thead>\n",
       "  <tbody>\n",
       "    <tr>\n",
       "      <th>1</th>\n",
       "      <td>1</td>\n",
       "      <td>0.960000</td>\n",
       "      <td>0.960000</td>\n",
       "    </tr>\n",
       "    <tr>\n",
       "      <th>2</th>\n",
       "      <td>2</td>\n",
       "      <td>0.960000</td>\n",
       "      <td>0.960000</td>\n",
       "    </tr>\n",
       "    <tr>\n",
       "      <th>3</th>\n",
       "      <td>3</td>\n",
       "      <td>0.960000</td>\n",
       "      <td>0.960000</td>\n",
       "    </tr>\n",
       "    <tr>\n",
       "      <th>4</th>\n",
       "      <td>4</td>\n",
       "      <td>0.966667</td>\n",
       "      <td>0.960000</td>\n",
       "    </tr>\n",
       "    <tr>\n",
       "      <th>5</th>\n",
       "      <td>5</td>\n",
       "      <td>0.966667</td>\n",
       "      <td>0.966667</td>\n",
       "    </tr>\n",
       "  </tbody>\n",
       "</table>\n",
       "</div>"
      ],
      "text/plain": [
       "   k_value        V1        V2\n",
       "1        1  0.960000  0.960000\n",
       "2        2  0.960000  0.960000\n",
       "3        3  0.960000  0.960000\n",
       "4        4  0.966667  0.960000\n",
       "5        5  0.966667  0.966667"
      ]
     },
     "execution_count": 21,
     "metadata": {},
     "output_type": "execute_result"
    }
   ],
   "source": [
    "results_df = pd.DataFrame.from_dict(results_dict, orient='index', columns=['k_value', 'V1','V2'])\n",
    "results_df.head()"
   ]
  },
  {
   "cell_type": "markdown",
   "metadata": {},
   "source": [
    "# V. Results Exploration & Discussion"
   ]
  },
  {
   "cell_type": "markdown",
   "metadata": {},
   "source": [
    "In order to graph the accuracies side by side, we first 'melt' the dataframe, doubling the number of rows and adding a column to indicate which KNN version the accuracy metric is derived from."
   ]
  },
  {
   "cell_type": "code",
   "execution_count": 22,
   "metadata": {},
   "outputs": [
    {
     "data": {
      "text/html": [
       "<div>\n",
       "<style scoped>\n",
       "    .dataframe tbody tr th:only-of-type {\n",
       "        vertical-align: middle;\n",
       "    }\n",
       "\n",
       "    .dataframe tbody tr th {\n",
       "        vertical-align: top;\n",
       "    }\n",
       "\n",
       "    .dataframe thead th {\n",
       "        text-align: right;\n",
       "    }\n",
       "</style>\n",
       "<table border=\"1\" class=\"dataframe\">\n",
       "  <thead>\n",
       "    <tr style=\"text-align: right;\">\n",
       "      <th></th>\n",
       "      <th>k_value</th>\n",
       "      <th>Version</th>\n",
       "      <th>Accuracy</th>\n",
       "    </tr>\n",
       "  </thead>\n",
       "  <tbody>\n",
       "    <tr>\n",
       "      <th>0</th>\n",
       "      <td>1</td>\n",
       "      <td>V1</td>\n",
       "      <td>0.960000</td>\n",
       "    </tr>\n",
       "    <tr>\n",
       "      <th>1</th>\n",
       "      <td>2</td>\n",
       "      <td>V1</td>\n",
       "      <td>0.960000</td>\n",
       "    </tr>\n",
       "    <tr>\n",
       "      <th>2</th>\n",
       "      <td>3</td>\n",
       "      <td>V1</td>\n",
       "      <td>0.960000</td>\n",
       "    </tr>\n",
       "    <tr>\n",
       "      <th>3</th>\n",
       "      <td>4</td>\n",
       "      <td>V1</td>\n",
       "      <td>0.966667</td>\n",
       "    </tr>\n",
       "    <tr>\n",
       "      <th>4</th>\n",
       "      <td>5</td>\n",
       "      <td>V1</td>\n",
       "      <td>0.966667</td>\n",
       "    </tr>\n",
       "  </tbody>\n",
       "</table>\n",
       "</div>"
      ],
      "text/plain": [
       "   k_value Version  Accuracy\n",
       "0        1      V1  0.960000\n",
       "1        2      V1  0.960000\n",
       "2        3      V1  0.960000\n",
       "3        4      V1  0.966667\n",
       "4        5      V1  0.966667"
      ]
     },
     "execution_count": 22,
     "metadata": {},
     "output_type": "execute_result"
    }
   ],
   "source": [
    "results_melted = pd.melt(results_df, id_vars='k_value', var_name=\"Version\", value_vars=['V1','V2'], value_name=\"Accuracy\")\n",
    "results_melted.head()"
   ]
  },
  {
   "cell_type": "markdown",
   "metadata": {},
   "source": [
    "Here we plot two lines representing the accuracies from the two KNN algorithms by the k value chosen."
   ]
  },
  {
   "cell_type": "code",
   "execution_count": 23,
   "metadata": {},
   "outputs": [
    {
     "data": {
      "text/plain": [
       "<matplotlib.axes._subplots.AxesSubplot at 0x1f48b31dac8>"
      ]
     },
     "execution_count": 23,
     "metadata": {},
     "output_type": "execute_result"
    },
    {
     "data": {
      "image/png": "[encoded data removed]",
      "text/plain": [
       "<Figure size 432x288 with 1 Axes>"
      ]
     },
     "metadata": {},
     "output_type": "display_data"
    }
   ],
   "source": [
    "plt.figure()\n",
    "sns.set(style=\"darkgrid\")\n",
    "sns.lineplot(x='k_value', y='Accuracy', hue = 'Version', data = results_melted)"
   ]
  },
  {
   "cell_type": "markdown",
   "metadata": {},
   "source": [
    "Clearly accuracies start to drop off as k increases past 20.\n",
    "\n",
    "Let's filter the data frame to lower values of k to get a closer look."
   ]
  },
  {
   "cell_type": "code",
   "execution_count": 24,
   "metadata": {},
   "outputs": [
    {
     "data": {
      "text/plain": [
       "<matplotlib.axes._subplots.AxesSubplot at 0x1f48c719438>"
      ]
     },
     "execution_count": 24,
     "metadata": {},
     "output_type": "execute_result"
    },
    {
     "data": {
      "image/png": "[encoded data removed]",
      "text/plain": [
       "<Figure size 432x288 with 1 Axes>"
      ]
     },
     "metadata": {},
     "output_type": "display_data"
    }
   ],
   "source": [
    "plt.figure()\n",
    "sns.set(style=\"darkgrid\")\n",
    "sns.lineplot(x='k_value', y='Accuracy', hue = 'Version', data = results_melted[results_melted['k_value']<=40])"
   ]
  },
  {
   "cell_type": "markdown",
   "metadata": {},
   "source": [
    "One interesting insight that we can decipher from the two plots above is that for k-values lower than 'optimal', version 1 of our KNN algorithm tends to perform better (when there are discrepencies).  But once k surpasses the 'optimal' value, version 2 of our KNN algorithms tends to perform better (again, where there are discrepencies).  This makes sense since version 1 is essentially increasing the k value for records with ties, and for k values less than ~20, and increase in k typically increases accuracy.  Whereas for k values greater than ~20, increases in k typically reduce accuracy.\n",
    "\n",
    "Peak accuracy is easier to see here, between 15 and 25.  We filter the plot further..."
   ]
  },
  {
   "cell_type": "code",
   "execution_count": 25,
   "metadata": {},
   "outputs": [
    {
     "data": {
      "text/plain": [
       "<matplotlib.axes._subplots.AxesSubplot at 0x1f48c76e518>"
      ]
     },
     "execution_count": 25,
     "metadata": {},
     "output_type": "execute_result"
    },
    {
     "data": {
      "image/png": "[encoded data removed]",
      "text/plain": [
       "<Figure size 432x288 with 1 Axes>"
      ]
     },
     "metadata": {},
     "output_type": "display_data"
    }
   ],
   "source": [
    "plt.figure()\n",
    "sns.set(style=\"darkgrid\")\n",
    "sns.lineplot(x='k_value', y='Accuracy', hue = 'Version', data = results_melted[(results_melted['k_value']>=15) & (results_melted['k_value']<=25)])"
   ]
  },
  {
   "cell_type": "markdown",
   "metadata": {},
   "source": [
    "__Extra Credit #1:__  Which K is best in terms of miss-classification?  A k value of 19 appears to be *an* optimal value of k with both KNN algorithm versions achieving 98% accuracy and without increasing k unecessarily (to 21).\n",
    "\n",
    "In addition, we'll look more closely as the V1 version as it is less volatile than V2."
   ]
  },
  {
   "cell_type": "code",
   "execution_count": 26,
   "metadata": {},
   "outputs": [
    {
     "data": {
      "text/plain": [
       "True     147\n",
       "False      3\n",
       "Name: v1_k_is_19, dtype: int64"
      ]
     },
     "execution_count": 26,
     "metadata": {},
     "output_type": "execute_result"
    }
   ],
   "source": [
    "best_v_and_k = 'v1_' + 'k_is_' + str(19)\n",
    "iris_df_results[best_v_and_k].value_counts()"
   ]
  },
  {
   "cell_type": "markdown",
   "metadata": {},
   "source": [
    "Here we sort our results df by our 'best' chosen algorithm, V1 with k = 19. We sort so that the falsely predicted records appear last and will be plotted last, ensuring they are not hiddent by records with similar feature values and we can see them in the subsequent plots."
   ]
  },
  {
   "cell_type": "code",
   "execution_count": 45,
   "metadata": {},
   "outputs": [],
   "source": [
    "iris_df_results = iris_df_results.sort_values(best_v_and_k, ascending = False)"
   ]
  },
  {
   "cell_type": "markdown",
   "metadata": {},
   "source": [
    "Here we come back to our original plots of the iris dataset, but this time we have 'style' represent the actual target value, and 'hue' represent if we correctly predicted the record's target class."
   ]
  },
  {
   "cell_type": "code",
   "execution_count": 46,
   "metadata": {},
   "outputs": [
    {
     "data": {
      "text/plain": [
       "<matplotlib.legend.Legend at 0x1f48caa00f0>"
      ]
     },
     "execution_count": 46,
     "metadata": {},
     "output_type": "execute_result"
    },
    {
     "data": {
      "image/png": "[encoded data removed]",
      "text/plain": [
       "<Figure size 432x288 with 1 Axes>"
      ]
     },
     "metadata": {},
     "output_type": "display_data"
    }
   ],
   "source": [
    "plt.figure()\n",
    "sns.set(style=\"darkgrid\")\n",
    "sns.scatterplot(data=iris_df_results, x='sepal length (cm)', y='sepal width (cm)', hue=best_v_and_k, style='target')\n",
    "plt.legend(bbox_to_anchor=(1.3, 1), loc='upper right')"
   ]
  },
  {
   "cell_type": "code",
   "execution_count": 47,
   "metadata": {},
   "outputs": [
    {
     "data": {
      "text/plain": [
       "<matplotlib.axes._subplots.AxesSubplot at 0x1f48ce7afd0>"
      ]
     },
     "execution_count": 47,
     "metadata": {},
     "output_type": "execute_result"
    },
    {
     "data": {
      "image/png": "[encoded data removed]",
      "text/plain": [
       "<Figure size 432x288 with 1 Axes>"
      ]
     },
     "metadata": {},
     "output_type": "display_data"
    }
   ],
   "source": [
    "plt.figure()\n",
    "sns.set(style=\"darkgrid\")\n",
    "sns.scatterplot(data=iris_df_results, x='petal length (cm)', y='petal width (cm)', hue=best_v_and_k, style='target')"
   ]
  },
  {
   "cell_type": "markdown",
   "metadata": {},
   "source": [
    "It's not surprising that the data points in blue were falsely predicted as they are in 'border' regions of their classes, more easily seen in the second 'petals' plot. The falsely predicted predicted record with an actual 'target' value of 2, represented as a square is particularly unsurprising given its position in the first 'sepal' plot.\n",
    "\n",
    "Overall, though, KNN performed remarkably well (in-sample) on this dataset so it is no wonder it is regarded as a pretty powerful and easy to implement algorithm."
   ]
  },
  {
   "cell_type": "markdown",
   "metadata": {},
   "source": [
    "__Extra Credit #2:__  In what ways does this implementation differ from those available in the scikit-learn package?\n",
    "\n",
    "Aside from the precise data structure and code used, in terms of differences that could generate different results, scikit-learn's KNN classifiers still differ from this implementation in a number of ways\n",
    "1. When 'weights' (see point #2 below) are uniform, as far as I'm able to decipher, scikit-learn's knn classifier algorithm breaks ties purely by looking at the order of records within the existing dataframe.  Thus, it will break the tie based on the class of whichever of the 'winning' neighbors appears first in the Dataframe.\n",
    "2. scikit-learn provides an option to use weights in its classifier algorithm.  By default the weights are 'uniform' across all records which is generally how our algorithm performs its calculations as well.  However, there is an option (weights = 'distance') to weight the 'majority rule' of the k closest neighbors, assigning each potential class value the sum of the inverse of the distances between the record we're trying to predict and each of its neighbors with that class.  The closer the neighbor, the the larger the weight assigned to its class value instead of just using a count of each neighbor (a weight of '1') for each class.  This is essentially the methodology that was used solely for tie-breaking in Version 2 of our KNN algorithm.\n",
    "3. Lastly, scikit-learn provides an alternative method for determining the set of neighbors for 'KNN', appropriately called \"RadiusNeighborsClassifier\" instead of \"KNeighborsClassifier\".  Instead of taking the k neighbors with the smallest euclidean distance, you can also determine a multidimensial 'radius' or distance around the record to predict and include only and all neighbor records within that distance.  With this implementation, 'k' will typically vary from one record to another.  With records nested within and near a large group of other records, k will be large, whereas for records far away from most other records, k will be small."
   ]
  },
  {
   "cell_type": "markdown",
   "metadata": {},
   "source": [
    "*Sources for EC #2:* \n",
    "1. *https://stats.stackexchange.com/questions/144718/how-does-scikit-learn-resolve-ties-in-the-knn-classification*\n",
    "2. *https://scikit-learn.org/stable/modules/neighbors.html#nearest-neighbors-classification*"
   ]
  }
 ],
 "metadata": {
  "kernelspec": {
   "display_name": "Python 3",
   "language": "python",
   "name": "python3"
  },
  "language_info": {
   "codemirror_mode": {
    "name": "ipython",
    "version": 3
   },
   "file_extension": ".py",
   "mimetype": "text/x-python",
   "name": "python",
   "nbconvert_exporter": "python",
   "pygments_lexer": "ipython3",
   "version": "3.7.0"
  }
 },
 "nbformat": 4,
 "nbformat_minor": 2
}
