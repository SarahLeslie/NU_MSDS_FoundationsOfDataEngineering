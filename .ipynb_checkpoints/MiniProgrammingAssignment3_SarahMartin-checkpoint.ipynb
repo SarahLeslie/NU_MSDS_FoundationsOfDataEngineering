{
 "cells": [
  {
   "cell_type": "markdown",
   "metadata": {},
   "source": [
    "# I. Introduction"
   ]
  },
  {
   "cell_type": "markdown",
   "metadata": {},
   "source": [
    "This exercise investigates factorial calculation times using iteration (a for-loop) and recursion.  \n",
    "\n",
    "First we import helpful packages."
   ]
  },
  {
   "cell_type": "code",
   "execution_count": 1,
   "metadata": {},
   "outputs": [],
   "source": [
    "import sys\n",
    "import random \n",
    "import time\n",
    "import pandas as pd\n",
    "#import matplotlib.pyplot as plt\n",
    "import seaborn as sns\n",
    "%matplotlib inline"
   ]
  },
  {
   "cell_type": "markdown",
   "metadata": {},
   "source": [
    "# II. Defining the Factorial Functions"
   ]
  },
  {
   "cell_type": "markdown",
   "metadata": {},
   "source": [
    "Next I leveraged the base code from our course materials"
   ]
  },
  {
   "cell_type": "code",
   "execution_count": 2,
   "metadata": {},
   "outputs": [],
   "source": [
    "# the recursive version\n",
    "def fact_rec(x):\n",
    "  if x == 1:\n",
    "    return 1\n",
    "  else:\n",
    "    return x * fact_rec(x-1)"
   ]
  },
  {
   "cell_type": "code",
   "execution_count": 3,
   "metadata": {},
   "outputs": [],
   "source": [
    "# the iterative version\n",
    "def fact_iter(x):\n",
    "    ans = 1\n",
    "    for i in range(1,x+1): \n",
    "        ans = ans * i \n",
    "    return ans"
   ]
  },
  {
   "cell_type": "markdown",
   "metadata": {},
   "source": [
    "A quick test to make sure both functions are working properly"
   ]
  },
  {
   "cell_type": "code",
   "execution_count": 5,
   "metadata": {},
   "outputs": [
    {
     "name": "stdout",
     "output_type": "stream",
     "text": [
      "120\n",
      "120\n"
     ]
    }
   ],
   "source": [
    "print(fact_rec(5))\n",
    "print(fact_iter(5))"
   ]
  },
  {
   "cell_type": "markdown",
   "metadata": {},
   "source": [
    "All good!"
   ]
  },
  {
   "cell_type": "markdown",
   "metadata": {},
   "source": [
    "# III. Generating the Test Data"
   ]
  },
  {
   "cell_type": "markdown",
   "metadata": {},
   "source": [
    "I decided to increase the upper integer limit of the test data to (TRY to) show greater time differences.\n",
    "\n",
    "First I checked the python recursion limit on my machine to see what my upper limit could be."
   ]
  },
  {
   "cell_type": "code",
   "execution_count": 7,
   "metadata": {},
   "outputs": [
    {
     "data": {
      "text/plain": [
       "3000"
      ]
     },
     "execution_count": 7,
     "metadata": {},
     "output_type": "execute_result"
    }
   ],
   "source": [
    "sys.getrecursionlimit()"
   ]
  },
  {
   "cell_type": "markdown",
   "metadata": {},
   "source": [
    "Though not necessary, I also sorted the test data to make it easier to spot check the subsequent time test results"
   ]
  },
  {
   "cell_type": "code",
   "execution_count": 10,
   "metadata": {},
   "outputs": [
    {
     "data": {
      "text/plain": [
       "[218, 312, 1120, 1146, 1568, 2007, 2271, 2651, 2758, 2770]"
      ]
     },
     "execution_count": 10,
     "metadata": {},
     "output_type": "execute_result"
    }
   ],
   "source": [
    "# Change this if your recursion limit is less than 3000!\n",
    "upper_limit = 2900\n",
    "\n",
    "random.seed(5)\n",
    "test_data = [random.randint(100, upper_limit) for _ in range(10)]\n",
    "test_data.sort()\n",
    "test_data"
   ]
  },
  {
   "cell_type": "markdown",
   "metadata": {},
   "source": [
    "# IV. Factorial Calculation Time Testing"
   ]
  },
  {
   "cell_type": "markdown",
   "metadata": {},
   "source": [
    "To generate the time results, I created a function that takes 2 arguments:\n",
    "1. the chosen factorial function to test\n",
    "2. the time function to use to capture the run time of the chosen factorial function"
   ]
  },
  {
   "cell_type": "markdown",
   "metadata": {},
   "source": [
    "The time test function returns 2 lists:\n",
    "1. the factorial results for each integer value in the test data (to validate against the other function's output)\n",
    "1. the time test results for each corresponding run of the chosen factorial function"
   ]
  },
  {
   "cell_type": "code",
   "execution_count": 11,
   "metadata": {},
   "outputs": [],
   "source": [
    "def test_loop(fact_function,time_function):\n",
    "    fact_results = []\n",
    "    time_results = []\n",
    "    for test_int in test_data:\n",
    "        start = time_function()\n",
    "        fact = fact_function(test_int)\n",
    "        end = time_function()\n",
    "        fact_results.append(fact)\n",
    "        # time results are converted to ms (from seconds)\n",
    "        time_results.append((end - start)*1000)\n",
    "    return fact_results, time_results"
   ]
  },
  {
   "cell_type": "markdown",
   "metadata": {},
   "source": [
    "Over the course of the last (first) three mini-programming assignments, I've had tremendous difficulty trying to reproduce the expected 'Big O' results.  After debunking the hypothesis that there were code issues with factorial, test data generation, or time testing functions, I've narrowed my hypothesis regarding the unexpected time results to an issue with my computer specs/system configuration.\n",
    "\n",
    "As a result, I decided to run the time testing with 5 different time capture functions from the time package to try to generate the proper expected results and/or further discern why my time test results look... whacky."
   ]
  },
  {
   "cell_type": "markdown",
   "metadata": {},
   "source": [
    "### VERSION 1: Uses regular time.time() function"
   ]
  },
  {
   "cell_type": "code",
   "execution_count": 12,
   "metadata": {},
   "outputs": [],
   "source": [
    "recur_fact_results_vtime, recur_time_results_vtime = test_loop(fact_rec, time.time)\n",
    "iter_fact_results_vtime, iter_time_results_vtime = test_loop(fact_iter, time.time)"
   ]
  },
  {
   "cell_type": "markdown",
   "metadata": {},
   "source": [
    "Examining the version 1, time.time() results"
   ]
  },
  {
   "cell_type": "code",
   "execution_count": 13,
   "metadata": {},
   "outputs": [
    {
     "name": "stdout",
     "output_type": "stream",
     "text": [
      "True\n",
      "[0.0, 0.0, 50.090789794921875, 0.0, 4.370450973510742, 2.8116703033447266, 0.0, 9.149312973022461, 6.649255752563477, 3.777027130126953]\n",
      "[0.0, 0.0, 8.086919784545898, 0.0, 2.9900074005126953, 1.4882087707519531, 1.9893646240234375, 2.042531967163086, 2.629518508911133, 2.0656585693359375]\n"
     ]
    }
   ],
   "source": [
    "print(recur_fact_results_vtime == iter_fact_results_vtime)\n",
    "print(recur_time_results_vtime)\n",
    "print(iter_time_results_vtime)"
   ]
  },
  {
   "cell_type": "markdown",
   "metadata": {},
   "source": [
    "### VERSION 2: Uses time.thread_time() function"
   ]
  },
  {
   "cell_type": "code",
   "execution_count": 14,
   "metadata": {},
   "outputs": [],
   "source": [
    "recur_fact_results_vthread, recur_time_results_vthread = test_loop(fact_rec, time.thread_time)\n",
    "iter_fact_results_vthread, iter_time_results_vthread = test_loop(fact_iter, time.thread_time)"
   ]
  },
  {
   "cell_type": "markdown",
   "metadata": {},
   "source": [
    "Examining the version 2, time.thread_time() results"
   ]
  },
  {
   "cell_type": "code",
   "execution_count": 15,
   "metadata": {},
   "outputs": [
    {
     "name": "stdout",
     "output_type": "stream",
     "text": [
      "True\n",
      "[0.0, 0.0, 0.0, 0.0, 0.0, 15.625, 0.0, 0.0, 0.0, 0.0]\n",
      "[0.0, 0.0, 0.0, 0.0, 0.0, 0.0, 15.625, 0.0, 0.0, 0.0]\n"
     ]
    }
   ],
   "source": [
    "print(recur_fact_results_vthread == iter_fact_results_vthread)\n",
    "print(recur_time_results_vthread)\n",
    "print(iter_time_results_vthread)"
   ]
  },
  {
   "cell_type": "markdown",
   "metadata": {},
   "source": [
    "### VERSION 3: Uses time.monotonic() function"
   ]
  },
  {
   "cell_type": "code",
   "execution_count": 16,
   "metadata": {},
   "outputs": [],
   "source": [
    "recur_fact_results_vmonotonic, recur_time_results_vmonotonic = test_loop(fact_rec, time.monotonic)\n",
    "iter_fact_results_vmonotonic, iter_time_results_vmonotonic = test_loop(fact_iter, time.monotonic)"
   ]
  },
  {
   "cell_type": "markdown",
   "metadata": {},
   "source": [
    "Examining the version 3, time.monotonic() results"
   ]
  },
  {
   "cell_type": "code",
   "execution_count": 17,
   "metadata": {},
   "outputs": [
    {
     "name": "stdout",
     "output_type": "stream",
     "text": [
      "True\n",
      "[0.0, 0.0, 0.0, 0.0, 0.0, 0.0, 0.0, 16.00000006146729, 0.0, 14.999999897554517]\n",
      "[0.0, 0.0, 0.0, 0.0, 0.0, 0.0, 0.0, 0.0, 16.00000006146729, 0.0]\n"
     ]
    }
   ],
   "source": [
    "print(recur_fact_results_vmonotonic == iter_fact_results_vmonotonic)\n",
    "print(recur_time_results_vmonotonic)\n",
    "print(iter_time_results_vmonotonic)"
   ]
  },
  {
   "cell_type": "markdown",
   "metadata": {},
   "source": [
    "### VERSION 4: Uses time.process_time() function"
   ]
  },
  {
   "cell_type": "code",
   "execution_count": 18,
   "metadata": {},
   "outputs": [],
   "source": [
    "recur_fact_results_vprocess, recur_time_results_vprocess = test_loop(fact_rec, time.process_time)\n",
    "iter_fact_results_vprocess, iter_time_results_vprocess = test_loop(fact_iter, time.process_time)"
   ]
  },
  {
   "cell_type": "markdown",
   "metadata": {},
   "source": [
    "Examining the version 4, time.process_time() results"
   ]
  },
  {
   "cell_type": "code",
   "execution_count": 19,
   "metadata": {},
   "outputs": [
    {
     "name": "stdout",
     "output_type": "stream",
     "text": [
      "True\n",
      "[0.0, 0.0, 0.0, 0.0, 0.0, 0.0, 15.625, 0.0, 0.0, 0.0]\n",
      "[0.0, 0.0, 0.0, 0.0, 0.0, 0.0, 0.0, 15.625, 0.0, 0.0]\n"
     ]
    }
   ],
   "source": [
    "print(recur_fact_results_vprocess == iter_fact_results_vprocess)\n",
    "print(recur_time_results_vprocess)\n",
    "print(iter_time_results_vprocess)"
   ]
  },
  {
   "cell_type": "markdown",
   "metadata": {},
   "source": [
    "### VERSION 5: Uses time.perf_counter() function"
   ]
  },
  {
   "cell_type": "code",
   "execution_count": 20,
   "metadata": {},
   "outputs": [],
   "source": [
    "recur_fact_results_vperfCounter, recur_time_results_vperfCounter = test_loop(fact_rec, time.perf_counter)\n",
    "iter_fact_results_vperfCounter, iter_time_results_vperfCounter = test_loop(fact_iter, time.perf_counter)"
   ]
  },
  {
   "cell_type": "markdown",
   "metadata": {},
   "source": [
    "Examining the version 5, time.perf_counter() results"
   ]
  },
  {
   "cell_type": "code",
   "execution_count": 23,
   "metadata": {},
   "outputs": [
    {
     "name": "stdout",
     "output_type": "stream",
     "text": [
      "True\n",
      "[0.11840000001939188, 0.16820000018924475, 1.490799999828596, 0.7060999998884654, 2.062699999896722, 3.21669999993901, 4.061599999886312, 2.9664999999567954, 2.9465000000072905, 3.433999999970183]\n",
      "[0.026800000114235445, 0.04179999996267725, 0.37849999989703065, 0.3560000000106811, 0.7793999998284562, 1.097399999935078, 1.267500000039945, 1.4887999998336454, 1.8671999998787214, 1.8070999999508786]\n"
     ]
    }
   ],
   "source": [
    "print(recur_fact_results_vperfCounter == iter_fact_results_vperfCounter)\n",
    "print(recur_time_results_vperfCounter)\n",
    "print(iter_time_results_vperfCounter)"
   ]
  },
  {
   "cell_type": "markdown",
   "metadata": {},
   "source": [
    "Now to confirm that the factorial all results match...  \n",
    "\n",
    "Since for each time function test the iteratively generated factorials were equal to the recursion generated factorials, via the transitive property of equality, if all the recursion generated factorials equal each other, then all the generated factorials across the various factorial _*AND*_ time functions equal each other."
   ]
  },
  {
   "cell_type": "code",
   "execution_count": 26,
   "metadata": {},
   "outputs": [
    {
     "data": {
      "text/plain": [
       "True"
      ]
     },
     "execution_count": 26,
     "metadata": {},
     "output_type": "execute_result"
    }
   ],
   "source": [
    "recur_fact_results_vtime == recur_fact_results_vthread == recur_fact_results_vmonotonic == recur_fact_results_vprocess == recur_fact_results_vperfCounter"
   ]
  },
  {
   "cell_type": "markdown",
   "metadata": {},
   "source": [
    "# V. Results Organization and Exploration"
   ]
  },
  {
   "cell_type": "markdown",
   "metadata": {},
   "source": [
    "Results are organized into a dataframe capturing...\n",
    "* the test integer\n",
    "* the factorial result (can be pulled from any of the factorial results captured)\n",
    "* the time test results for each unique combination of factorial function (2) and time test function (5), resulting in 10 time results columns"
   ]
  },
  {
   "cell_type": "code",
   "execution_count": 29,
   "metadata": {},
   "outputs": [],
   "source": [
    "results_dict = {'Input_Number':test_data\n",
    "                ,'Factorial_Results':iter_fact_results_vtime\n",
    "                ,'ForLoop_TimeFunction_Time':iter_time_results_vtime\n",
    "                ,'Recursion_TimeFunction_Time':recur_time_results_vtime\n",
    "                ,'ForLoop_ThreadFunction_Time':iter_time_results_vthread\n",
    "                ,'Recursion_ThreadFunction_Time':recur_time_results_vthread\n",
    "                ,'ForLoop_MonotonicFunction_Time':iter_time_results_vmonotonic\n",
    "                ,'Recursion_MonotonicFunction_Time':recur_time_results_vmonotonic\n",
    "                ,'ForLoop_ProcessFunction_Time':iter_time_results_vprocess\n",
    "                ,'Recursion_ProcessFunction_Time':recur_time_results_vprocess\n",
    "                ,'ForLoop_PerfCounterFunction_Time':iter_time_results_vperfCounter\n",
    "                ,'Recursion_PerfCounterFunction_Time':recur_time_results_vperfCounter}\n",
    "\n",
    "results = pd.DataFrame(results_dict, dtype=object)"
   ]
  },
  {
   "cell_type": "markdown",
   "metadata": {},
   "source": [
    "Next we begin to graph the results looking at scatterplots of the data from each time function on its own.\n",
    "\n",
    "To do this, I created a custom plotting function that takes the 2 column names from our results dataframe to plot on the y-axis, and the name of the time function used for labeling purposes."
   ]
  },
  {
   "cell_type": "code",
   "execution_count": 35,
   "metadata": {},
   "outputs": [],
   "source": [
    "def my_custom_plot(ycol1,ycol2,time_func):\n",
    "    sns.set()\n",
    "    ax1 = sns.scatterplot(x=\"Input_Number\", y=ycol1\n",
    "                            ,data=results\n",
    "                            ,color='b', marker='o', s=50\n",
    "                            ,label = ' '.join(['for-loop', time_func, 'results']))\n",
    "    sns.scatterplot(x=\"Input_Number\", y=ycol2\n",
    "                    ,data=results, ax=ax1\n",
    "                    ,color='r', marker='x', s=55\n",
    "                    ,label = ' '.join(['recursion', time_func, 'results']))\n",
    "    ax1.set_xlabel('Input_Number')\n",
    "    ax1.set_ylabel('Time in ms')\n",
    "    ax1.set_title('Run Times for Factorial Calculation Functions')\n",
    "    #ax1.legend(loc='upper left',fontsize='x-small')\n",
    "    ax1.legend(bbox_to_anchor=(.45, .85) ,fontsize='x-small')"
   ]
  },
  {
   "cell_type": "markdown",
   "metadata": {},
   "source": [
    "And now, to generate the 5 plots, one for each time function..."
   ]
  },
  {
   "cell_type": "markdown",
   "metadata": {},
   "source": [
    "#### VERSION 1 Results, Using regular time.time() function"
   ]
  },
  {
   "cell_type": "code",
   "execution_count": 36,
   "metadata": {},
   "outputs": [
    {
     "data": {
      "image/png": "[encoded data removed]",
      "text/plain": [
       "<Figure size 432x288 with 1 Axes>"
      ]
     },
     "metadata": {},
     "output_type": "display_data"
    }
   ],
   "source": [
    "my_custom_plot(\"ForLoop_TimeFunction_Time\",\"Recursion_TimeFunction_Time\",'.time()')"
   ]
  },
  {
   "cell_type": "markdown",
   "metadata": {},
   "source": [
    "#### VERSION 2: Uses time.thread_time() function"
   ]
  },
  {
   "cell_type": "code",
   "execution_count": 37,
   "metadata": {},
   "outputs": [
    {
     "data": {
      "image/png": "[encoded data removed]",
      "text/plain": [
       "<Figure size 432x288 with 1 Axes>"
      ]
     },
     "metadata": {},
     "output_type": "display_data"
    }
   ],
   "source": [
    "my_custom_plot(\"ForLoop_ThreadFunction_Time\",\"Recursion_ThreadFunction_Time\",'.thread_time()')"
   ]
  },
  {
   "cell_type": "markdown",
   "metadata": {},
   "source": [
    "#### VERSION 3: Uses time.monotonic() function"
   ]
  },
  {
   "cell_type": "code",
   "execution_count": 38,
   "metadata": {},
   "outputs": [
    {
     "data": {
      "image/png": "[encoded data removed]",
      "text/plain": [
       "<Figure size 432x288 with 1 Axes>"
      ]
     },
     "metadata": {},
     "output_type": "display_data"
    }
   ],
   "source": [
    "my_custom_plot(\"ForLoop_MonotonicFunction_Time\",\"Recursion_MonotonicFunction_Time\",'.monotonic()')"
   ]
  },
  {
   "cell_type": "markdown",
   "metadata": {},
   "source": [
    "#### VERSION 4: Uses time.process_time() function"
   ]
  },
  {
   "cell_type": "code",
   "execution_count": 39,
   "metadata": {},
   "outputs": [
    {
     "data": {
      "image/png": "[encoded data removed]",
      "text/plain": [
       "<Figure size 432x288 with 1 Axes>"
      ]
     },
     "metadata": {},
     "output_type": "display_data"
    }
   ],
   "source": [
    "my_custom_plot(\"ForLoop_ProcessFunction_Time\",\"Recursion_ProcessFunction_Time\",'.process_time()')"
   ]
  },
  {
   "cell_type": "markdown",
   "metadata": {},
   "source": [
    "#### VERSION 5: Uses time.perf_counter() function"
   ]
  },
  {
   "cell_type": "code",
   "execution_count": 40,
   "metadata": {},
   "outputs": [
    {
     "data": {
      "image/png": "[encoded data removed]",
      "text/plain": [
       "<Figure size 432x288 with 1 Axes>"
      ]
     },
     "metadata": {},
     "output_type": "display_data"
    }
   ],
   "source": [
    "my_custom_plot(\"ForLoop_PerfCounterFunction_Time\",\"Recursion_PerfCounterFunction_Time\",'.perf_counter()')"
   ]
  },
  {
   "cell_type": "markdown",
   "metadata": {},
   "source": [
    "# V. Results Discussion & Executive Summary"
   ]
  },
  {
   "cell_type": "markdown",
   "metadata": {},
   "source": [
    "Prepare an executive summary of your results, referring to the table and figures you have generated. Explain how your results relate to big O notation. Describe your results in language that management can understand. This summary should be included as text paragraphs in the Jupyter notebook. Explain how the algorithm works and why it is a useful to data engineers."
   ]
  },
  {
   "cell_type": "markdown",
   "metadata": {},
   "source": [
    "# VI. Extra Credit!"
   ]
  },
  {
   "cell_type": "markdown",
   "metadata": {},
   "source": [
    "The follow function is still a recursive factorial calculation function but it allows input numbers greater python's existing recursion limit by splitting the factorial multiplication in halfs, somewhat similar to binary search.  Now the function creates and exits stacks before it moves to the next multiplication component.  \n",
    "\n",
    "Based on some preliminary research, this may be called 'Binary Splitting'?"
   ]
  },
  {
   "cell_type": "code",
   "execution_count": 43,
   "metadata": {},
   "outputs": [],
   "source": [
    "def fact_semi_rec(u,l=1):\n",
    "    if u==l:\n",
    "        return u\n",
    "    else:\n",
    "        m = (u + l)//2\n",
    "        first_half = fact_semi_rec(u,m+1)\n",
    "        second_half = fact_semi_rec(m,l)\n",
    "        return first_half * second_half"
   ]
  },
  {
   "cell_type": "markdown",
   "metadata": {},
   "source": [
    "And now to test the function for accuracy..."
   ]
  },
  {
   "cell_type": "code",
   "execution_count": 44,
   "metadata": {},
   "outputs": [
    {
     "data": {
      "text/plain": [
       "120"
      ]
     },
     "execution_count": 44,
     "metadata": {},
     "output_type": "execute_result"
    }
   ],
   "source": [
    "fact_semi_rec(5)"
   ]
  },
  {
   "cell_type": "markdown",
   "metadata": {},
   "source": [
    "And now to test that function computes and doesn't throw an error like the original recursive function when input values greater than python's existing recursion limit..."
   ]
  },
  {
   "cell_type": "code",
   "execution_count": 46,
   "metadata": {},
   "outputs": [
    {
     "ename": "RecursionError",
     "evalue": "maximum recursion depth exceeded in comparison",
     "output_type": "error",
     "traceback": [
      "\u001b[1;31m---------------------------------------------------------------------------\u001b[0m",
      "\u001b[1;31mRecursionError\u001b[0m                            Traceback (most recent call last)",
      "\u001b[1;32m<ipython-input-46-d5e1ec73521f>\u001b[0m in \u001b[0;36m<module>\u001b[1;34m()\u001b[0m\n\u001b[1;32m----> 1\u001b[1;33m \u001b[0mfact_rec\u001b[0m\u001b[1;33m(\u001b[0m\u001b[0msys\u001b[0m\u001b[1;33m.\u001b[0m\u001b[0mgetrecursionlimit\u001b[0m\u001b[1;33m(\u001b[0m\u001b[1;33m)\u001b[0m\u001b[1;33m*\u001b[0m\u001b[1;36m2\u001b[0m\u001b[1;33m)\u001b[0m\u001b[1;33m\u001b[0m\u001b[0m\n\u001b[0m",
      "\u001b[1;32m<ipython-input-2-6ce4d5d29a65>\u001b[0m in \u001b[0;36mfact_rec\u001b[1;34m(x)\u001b[0m\n\u001b[0;32m      4\u001b[0m     \u001b[1;32mreturn\u001b[0m \u001b[1;36m1\u001b[0m\u001b[1;33m\u001b[0m\u001b[0m\n\u001b[0;32m      5\u001b[0m   \u001b[1;32melse\u001b[0m\u001b[1;33m:\u001b[0m\u001b[1;33m\u001b[0m\u001b[0m\n\u001b[1;32m----> 6\u001b[1;33m     \u001b[1;32mreturn\u001b[0m \u001b[0mx\u001b[0m \u001b[1;33m*\u001b[0m \u001b[0mfact_rec\u001b[0m\u001b[1;33m(\u001b[0m\u001b[0mx\u001b[0m\u001b[1;33m-\u001b[0m\u001b[1;36m1\u001b[0m\u001b[1;33m)\u001b[0m\u001b[1;33m\u001b[0m\u001b[0m\n\u001b[0m",
      "... last 1 frames repeated, from the frame below ...\n",
      "\u001b[1;32m<ipython-input-2-6ce4d5d29a65>\u001b[0m in \u001b[0;36mfact_rec\u001b[1;34m(x)\u001b[0m\n\u001b[0;32m      4\u001b[0m     \u001b[1;32mreturn\u001b[0m \u001b[1;36m1\u001b[0m\u001b[1;33m\u001b[0m\u001b[0m\n\u001b[0;32m      5\u001b[0m   \u001b[1;32melse\u001b[0m\u001b[1;33m:\u001b[0m\u001b[1;33m\u001b[0m\u001b[0m\n\u001b[1;32m----> 6\u001b[1;33m     \u001b[1;32mreturn\u001b[0m \u001b[0mx\u001b[0m \u001b[1;33m*\u001b[0m \u001b[0mfact_rec\u001b[0m\u001b[1;33m(\u001b[0m\u001b[0mx\u001b[0m\u001b[1;33m-\u001b[0m\u001b[1;36m1\u001b[0m\u001b[1;33m)\u001b[0m\u001b[1;33m\u001b[0m\u001b[0m\n\u001b[0m",
      "\u001b[1;31mRecursionError\u001b[0m: maximum recursion depth exceeded in comparison"
     ]
    }
   ],
   "source": [
    "fact_rec(sys.getrecursionlimit()*2)"
   ]
  },
  {
   "cell_type": "markdown",
   "metadata": {},
   "source": [
    "The original recursive factorial function throws an error with values greater than the recursion limit."
   ]
  },
  {
   "cell_type": "code",
   "execution_count": null,
   "metadata": {},
   "outputs": [],
   "source": [
    "fact_semi_rec(sys.getrecursionlimit()*2)"
   ]
  },
  {
   "cell_type": "markdown",
   "metadata": {},
   "source": [
    "But the new recursive factorial function works!!!"
   ]
  }
 ],
 "metadata": {
  "kernelspec": {
   "display_name": "Python 3",
   "language": "python",
   "name": "python3"
  },
  "language_info": {
   "codemirror_mode": {
    "name": "ipython",
    "version": 3
   },
   "file_extension": ".py",
   "mimetype": "text/x-python",
   "name": "python",
   "nbconvert_exporter": "python",
   "pygments_lexer": "ipython3",
   "version": "3.7.0"
  }
 },
 "nbformat": 4,
 "nbformat_minor": 2
}
