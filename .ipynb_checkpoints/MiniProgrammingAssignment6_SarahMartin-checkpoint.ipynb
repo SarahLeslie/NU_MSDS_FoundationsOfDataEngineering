{
 "cells": [
  {
   "cell_type": "markdown",
   "metadata": {},
   "source": [
    "# I. Introduction"
   ]
  },
  {
   "cell_type": "markdown",
   "metadata": {},
   "source": [
    "This exercise explores the Big O of our first graph search function, Breadth-First (BF) Search.\n",
    "\n",
    "First we import helpful packages."
   ]
  },
  {
   "cell_type": "code",
   "execution_count": 1,
   "metadata": {},
   "outputs": [],
   "source": [
    "import random\n",
    "import time\n",
    "import pandas as pd\n",
    "import matplotlib.pyplot as plt\n",
    "import seaborn as sns\n",
    "from faker import Faker\n",
    "%matplotlib notebook"
   ]
  },
  {
   "cell_type": "markdown",
   "metadata": {},
   "source": [
    "# II. Generating the Test Data"
   ]
  },
  {
   "cell_type": "markdown",
   "metadata": {},
   "source": [
    "I chose to generate the test data in a somewhat convulated/tedious way, the rationale being that I wanted to have duplicates (only within levels and never connected to the same person on the next lower level) to create more interesting -- and realistic -- data to test the BF search on.\n",
    "\n",
    "I also discovered the faker package for this assignment which uses US Census data to help generate random _realistic_ names instead of random character strings.\n",
    "\n",
    "First, I generated a pool of names from which to source each of my graph's levels.  I generated more names than I would need, but also discovered that faker will produce _some_ duplicates when generating a list of names this size."
   ]
  },
  {
   "cell_type": "code",
   "execution_count": 2,
   "metadata": {},
   "outputs": [
    {
     "data": {
      "text/plain": [
       "3905"
      ]
     },
     "execution_count": 2,
     "metadata": {},
     "output_type": "execute_result"
    }
   ],
   "source": [
    "'''each additive value below \n",
    "represents the number of names needed for the respective graph levels \n",
    "if every person in the graph was unique'''\n",
    "num_names_needed = 5 + 5**2 + 5**3 + 5**4 + 5**5 \n",
    "num_names_needed"
   ]
  },
  {
   "cell_type": "markdown",
   "metadata": {},
   "source": [
    "And now to generate the list of names to pool from"
   ]
  },
  {
   "cell_type": "code",
   "execution_count": 3,
   "metadata": {},
   "outputs": [
    {
     "data": {
      "text/plain": [
       "['Chris Curtis', 'Joshua Diaz']"
      ]
     },
     "execution_count": 3,
     "metadata": {},
     "output_type": "execute_result"
    }
   ],
   "source": [
    "fake = Faker()\n",
    "fake.seed(7)\n",
    "names = [fake.name() for _ in range(num_names_needed)]\n",
    "# checking\n",
    "names[0:2]"
   ]
  },
  {
   "cell_type": "markdown",
   "metadata": {},
   "source": [
    "The following code uncovered duplicates in the generated values."
   ]
  },
  {
   "cell_type": "code",
   "execution_count": 4,
   "metadata": {},
   "outputs": [
    {
     "name": "stdout",
     "output_type": "stream",
     "text": [
      "3905\n",
      "3772\n"
     ]
    }
   ],
   "source": [
    "print(len(names))\n",
    "print(len(set(names)))"
   ]
  },
  {
   "cell_type": "markdown",
   "metadata": {},
   "source": [
    "To subsequently construct the graph levels in a clean and systematic way (to ensure adherence to the assignment specifications), I chose to de-dupe this 'pool' of names."
   ]
  },
  {
   "cell_type": "code",
   "execution_count": 5,
   "metadata": {},
   "outputs": [
    {
     "data": {
      "text/plain": [
       "3772"
      ]
     },
     "execution_count": 5,
     "metadata": {},
     "output_type": "execute_result"
    }
   ],
   "source": [
    "names = list(set(names))\n",
    "len(names)"
   ]
  },
  {
   "cell_type": "markdown",
   "metadata": {},
   "source": [
    "Next I determined the number of unique persons for each level, aribtrarily adding a few duplicates to each."
   ]
  },
  {
   "cell_type": "code",
   "execution_count": 6,
   "metadata": {},
   "outputs": [
    {
     "data": {
      "text/plain": [
       "True"
      ]
     },
     "execution_count": 6,
     "metadata": {},
     "output_type": "execute_result"
    }
   ],
   "source": [
    "lev_1_size = 5\n",
    "lev_2_size = lev_1_size*5 - 2 # 2 dupes in level 2\n",
    "lev_3_size = lev_2_size*5 - 4 # 4 additional dupes\n",
    "lev_4_size = lev_3_size*5 - 16 # 16 additional dupes in level 4\n",
    "lev_5_size = lev_4_size*5 - 64 # 64 additional dupes in level 5\n",
    "\n",
    "# confirming that the number of unique names I need per the sizes above does not exceed the size of the names 'pool' I created\n",
    "lev_1_size + lev_2_size + lev_3_size + lev_4_size + lev_5_size <= len(names)"
   ]
  },
  {
   "cell_type": "markdown",
   "metadata": {},
   "source": [
    "Next, I generated lists of unique persons for each graph level by splicing our original pool of names per the graph level 'unique' sizes generated above."
   ]
  },
  {
   "cell_type": "code",
   "execution_count": 7,
   "metadata": {},
   "outputs": [
    {
     "name": "stdout",
     "output_type": "stream",
     "text": [
      "True\n",
      "True\n",
      "True\n",
      "True\n",
      "True\n"
     ]
    }
   ],
   "source": [
    "# used some odd space formatting to make the list splicing easier to check\n",
    "first_lev  = names[                                           :lev_1_size]\n",
    "second_lev = names[lev_1_size                                 :lev_1_size+lev_2_size]\n",
    "third_lev  = names[lev_1_size+lev_2_size                      :lev_1_size+lev_2_size+lev_3_size]\n",
    "fourth_lev = names[lev_1_size+lev_2_size+lev_3_size           :lev_1_size+lev_2_size+lev_3_size+lev_4_size]\n",
    "fifth_lev  = names[lev_1_size+lev_2_size+lev_3_size+lev_4_size:lev_1_size+lev_2_size+lev_3_size+lev_4_size+lev_5_size]\n",
    "# checking\n",
    "print(lev_1_size == len(first_lev))\n",
    "print(lev_2_size == len(second_lev))\n",
    "print(lev_3_size == len(third_lev))\n",
    "print(lev_4_size == len(fourth_lev))\n",
    "print(lev_5_size == len(fifth_lev))"
   ]
  },
  {
   "cell_type": "markdown",
   "metadata": {},
   "source": [
    "To round out my list of names for each level, here is where I add the 'dupes' per level, appending them to the end each level's list.  Appending them to the the end of the respective levels' lists is necessary to avoid potential duplicate connections to the same person on the next lower level, as will become clear when the graph is constructed."
   ]
  },
  {
   "cell_type": "code",
   "execution_count": 8,
   "metadata": {},
   "outputs": [
    {
     "name": "stdout",
     "output_type": "stream",
     "text": [
      "True\n",
      "True\n",
      "True\n",
      "True\n",
      "True\n"
     ]
    }
   ],
   "source": [
    "second_lev = second_lev + second_lev[:2]\n",
    "third_lev = third_lev + third_lev[:4]\n",
    "fourth_lev = fourth_lev + fourth_lev[:16]\n",
    "fifth_lev = fifth_lev + fifth_lev[:64]\n",
    "# checkin the final list sizes for each level, accounting for the generated dupes in lower levels\n",
    "print(len(first_lev) == 5)\n",
    "print(len(second_lev) == 5*len(set(first_lev)))\n",
    "print(len(third_lev) == 5*len(set(second_lev)))\n",
    "print(len(fourth_lev) == 5*len(set(third_lev)))\n",
    "print(len(fifth_lev) == 5*len(set(fourth_lev)))"
   ]
  },
  {
   "cell_type": "markdown",
   "metadata": {},
   "source": [
    "Now that we have all the names apportioned properly, it's time to create the graph!"
   ]
  },
  {
   "cell_type": "code",
   "execution_count": 9,
   "metadata": {},
   "outputs": [],
   "source": [
    "# instantiates an empty graph\n",
    "people_graph = {}"
   ]
  },
  {
   "cell_type": "markdown",
   "metadata": {},
   "source": [
    "Per the primary use cases of graph searching, we typically want to begin searching from a specific starting point, in our case, level '0' (i.e. searching through my friends network on Facebook requires me to start with my own profile account)"
   ]
  },
  {
   "cell_type": "code",
   "execution_count": 10,
   "metadata": {},
   "outputs": [],
   "source": [
    "# a generic-ly named starting point\n",
    "people_graph['level_0_start'] = list(first_lev)"
   ]
  },
  {
   "cell_type": "markdown",
   "metadata": {},
   "source": [
    "Next we'll loop through the level 1 names and assign them a list of 5 connections each, again using list splicing."
   ]
  },
  {
   "cell_type": "code",
   "execution_count": 11,
   "metadata": {},
   "outputs": [],
   "source": [
    "# there are 2 dupes in the second level \n",
    "# but dupes will never be connected to the same person in the previous level\n",
    "# because the lists of names for each level are orderd\n",
    "# and assigned as connections to persons in the next lower level in the same order as the source names list\n",
    "# with each dupe appearing exactly once at the beginning of the level's names list and once at the end\n",
    "for i in range(len(first_lev)):\n",
    "  people_graph[first_lev[i]] = second_lev[5*i:5*i+5]"
   ]
  },
  {
   "cell_type": "markdown",
   "metadata": {},
   "source": [
    "The following code finishes creating the rest of the connections in the graph.  \n",
    "\n",
    "Note that we only want to assign the 5 connections to each person in the graph once, so for each subsequent level (after level 1 above which has no dupes), we'll de-dupe the level's source name list first, before we generate the connections for each person in that level."
   ]
  },
  {
   "cell_type": "code",
   "execution_count": 12,
   "metadata": {},
   "outputs": [],
   "source": [
    "second_lev = list(dict.fromkeys(second_lev)) # preserves order vs using set.  not that it matters much\n",
    "for i in range(len(second_lev)):\n",
    "  people_graph[second_lev[i]] = third_lev[5*i:5*i+5]\n",
    "\n",
    "third_lev = list(dict.fromkeys(third_lev)) # preserves order vs using set.  not that it matters much\n",
    "for i in range(len(third_lev)):\n",
    "  people_graph[third_lev[i]] = fourth_lev[5*i:5*i+5]\n",
    "\n",
    "fourth_lev = list(dict.fromkeys(fourth_lev)) # preserves order vs using set.  not that it matters much\n",
    "for i in range(len(fourth_lev)):\n",
    "  people_graph[fourth_lev[i]] = fifth_lev[5*i:5*i+5]"
   ]
  },
  {
   "cell_type": "markdown",
   "metadata": {},
   "source": [
    "Though not really necessary, to again make a graph a touch more realistic, you can't be connected to a person who isn't a node in the graph (i.e. on Facebook, you can only be friends with people who have Facebook accounts).\n",
    "\n",
    "Thus, let's imagine all the level 5 people have 'accounts with no friends' vs. 'not having accounts'."
   ]
  },
  {
   "cell_type": "code",
   "execution_count": 13,
   "metadata": {},
   "outputs": [],
   "source": [
    "fifth_lev = list(dict.fromkeys(fifth_lev)) # preserves order vs using set.  not that it matters much\n",
    "for i in range(len(fifth_lev)):\n",
    "  people_graph[fifth_lev[i]] = []"
   ]
  },
  {
   "cell_type": "markdown",
   "metadata": {},
   "source": [
    "Now we'll run a few checks to ensure the graph was created as intended."
   ]
  },
  {
   "cell_type": "code",
   "execution_count": 14,
   "metadata": {},
   "outputs": [
    {
     "name": "stdout",
     "output_type": "stream",
     "text": [
      "True\n"
     ]
    }
   ],
   "source": [
    "# checking that the graph has the expected number of dictionary keys/graph nodes\n",
    "print(len(people_graph) == lev_1_size + lev_2_size + lev_3_size + lev_4_size + lev_5_size + 1) \n",
    "# the '+1' above is for the level0 start node"
   ]
  },
  {
   "cell_type": "code",
   "execution_count": 15,
   "metadata": {},
   "outputs": [
    {
     "name": "stdout",
     "output_type": "stream",
     "text": [
      "True\n"
     ]
    }
   ],
   "source": [
    "# checking to see that each person/node has 0 connection dupes\n",
    "true_counter = 0 \n",
    "for i in people_graph.keys():\n",
    "  true_counter = true_counter + (len(people_graph[i]) == len(set(people_graph[i])))\n",
    "\n",
    "print(true_counter == len(people_graph))"
   ]
  },
  {
   "cell_type": "markdown",
   "metadata": {},
   "source": [
    "All set!\n",
    "\n",
    "Lastly, we just need to (randomly) generate the list of persons we eventually want to search for within our newly created graph."
   ]
  },
  {
   "cell_type": "code",
   "execution_count": 16,
   "metadata": {},
   "outputs": [],
   "source": [
    "people_to_search_for = []\n",
    "random.seed(7)\n",
    "\n",
    "# append the element of a random index from the 1st level names\n",
    "people_to_search_for.append(first_lev[random.randint(0,lev_1_size-1)])\n",
    "\n",
    "# append the elements of 2 random indexes from the 2nd level names\n",
    "people_to_search_for += [second_lev[i] for i in random.sample(range(lev_2_size), 2)]\n",
    "\n",
    "# append the elements of 3 random indexes from the 3rd level names\n",
    "people_to_search_for += [third_lev[i] for i in random.sample(range(lev_3_size), 3)]\n",
    "\n",
    "# append the elements of 4 random indexes from the 4th level names\n",
    "people_to_search_for += [fourth_lev[i] for i in random.sample(range(lev_4_size), 4)]\n",
    "\n",
    "# append the elements of 5 random indexes from the 5th level names\n",
    "people_to_search_for += [fifth_lev[i] for i in random.sample(range(lev_5_size), 5)]"
   ]
  },
  {
   "cell_type": "code",
   "execution_count": 17,
   "metadata": {},
   "outputs": [
    {
     "name": "stdout",
     "output_type": "stream",
     "text": [
      "15\n",
      "15\n"
     ]
    },
    {
     "data": {
      "text/plain": [
       "['Anthony Robinson',\n",
       " 'Ms. Kari Merritt',\n",
       " 'Brandon Scott',\n",
       " 'David Villarreal',\n",
       " 'Brett Mcintyre',\n",
       " 'Melissa Monroe',\n",
       " 'Allison Watkins',\n",
       " 'Alan Padilla',\n",
       " 'Mary Lewis',\n",
       " 'Christopher Baker',\n",
       " 'Robert Baker',\n",
       " 'Robert Kelley',\n",
       " 'Christopher Powell',\n",
       " 'Laura Ward PhD',\n",
       " 'Aaron Barnes']"
      ]
     },
     "execution_count": 17,
     "metadata": {},
     "output_type": "execute_result"
    }
   ],
   "source": [
    "# checking\n",
    "print(len(set(people_to_search_for))) # no dupes?\n",
    "print(len(people_to_search_for))\n",
    "people_to_search_for"
   ]
  },
  {
   "cell_type": "markdown",
   "metadata": {},
   "source": [
    "# III. Defining the Breadth-First Search Function"
   ]
  },
  {
   "cell_type": "markdown",
   "metadata": {},
   "source": [
    "Next I started with the source code provide by our textbook and with a bit of testing and troubleshooting, added both a 'level' or 'degree' counter, as well as a 'token' that will indicate to us when to increment the degree counter."
   ]
  },
  {
   "cell_type": "code",
   "execution_count": 18,
   "metadata": {},
   "outputs": [],
   "source": [
    "def breadth_first_search(starter_name, search_for_name):\n",
    "    # instantiates a 'degree' counter to track how far into the graph we're currently searching\n",
    "    degree_counter = 1\n",
    "    # creates a 'token' that will get fed through the data structures to indicate to us when to increment the degree counter\n",
    "    degree_incre_token = 'Degree Increment Token Here!'\n",
    "    \n",
    "    # instantiates the list to keep tracking of who we've already searched for\n",
    "    # since we never need to check if 'Degree Increment Token Here!' == the person we're searching for\n",
    "    # we can add the token to 'searched' to avoid ever checking it\n",
    "    searched = [degree_incre_token] \n",
    "    \n",
    "    # instantiates a list to keep tracking of who we have to search\n",
    "    # first we add the starter node's connections\n",
    "    to_search = list(people_graph[starter_name])\n",
    "    \n",
    "    # then we append the token (after all the first level connections)\n",
    "    # now when we reach the token (just before any second level connections), we know to increment our degree counter\n",
    "    to_search.append(degree_incre_token)\n",
    "    \n",
    "    # and here is where our search begins\n",
    "    while to_search:\n",
    "        person = to_search.pop(0)\n",
    "        if person == degree_incre_token:\n",
    "            degree_counter += 1\n",
    "            # when we reach the token, we know we've finished searching level 'a' (whose connections are 'b') \n",
    "            # and are about to start search level 'b' (whose connections are 'c')\n",
    "            # so before we add any level 'c' connections from searching the level 'b's, \n",
    "            # we'll add the token to the 'to_search' list again so if/when we find it again, \n",
    "            # we know we're about to start search the next level and it's time to increment the degree counter again\n",
    "            to_search.append(person) \n",
    "        if person not in searched: # since the token is in searched, when it's the current 'person' we'll skip this next section\n",
    "            if person == search_for_name:\n",
    "                return degree_counter\n",
    "                #return(\"We found \" + person + \"!  They are in level \" + str(degree_counter) + \" of the graph.\")\n",
    "            else:\n",
    "                searched.append(person)\n",
    "                to_search += list(people_graph[person])\n",
    "    return False # if to_search is empty without previous return\n",
    "  #return(\"Can't find \" + search_for_name + \".  :(\")"
   ]
  },
  {
   "cell_type": "markdown",
   "metadata": {},
   "source": [
    "And now for a quick test to ensure our BF search function works as expected."
   ]
  },
  {
   "cell_type": "code",
   "execution_count": 19,
   "metadata": {},
   "outputs": [
    {
     "name": "stdout",
     "output_type": "stream",
     "text": [
      "1\n",
      "2\n",
      "2\n",
      "3\n",
      "3\n",
      "3\n",
      "4\n",
      "4\n",
      "4\n",
      "4\n",
      "5\n",
      "5\n",
      "5\n",
      "5\n",
      "5\n"
     ]
    }
   ],
   "source": [
    "for i in people_to_search_for:\n",
    "  print(breadth_first_search('level_0_start', i))"
   ]
  },
  {
   "cell_type": "markdown",
   "metadata": {},
   "source": [
    "Looks good."
   ]
  },
  {
   "cell_type": "markdown",
   "metadata": {},
   "source": [
    "# IV. Time Testing"
   ]
  },
  {
   "cell_type": "markdown",
   "metadata": {},
   "source": [
    "First I instantiated a list to capture the results of the time testing"
   ]
  },
  {
   "cell_type": "code",
   "execution_count": 20,
   "metadata": {},
   "outputs": [],
   "source": [
    "results = []"
   ]
  },
  {
   "cell_type": "markdown",
   "metadata": {},
   "source": [
    "Now, I define a function to conduct the time testing"
   ]
  },
  {
   "cell_type": "code",
   "execution_count": 21,
   "metadata": {},
   "outputs": [],
   "source": [
    "def graph_time_testing(name_to_search):\n",
    "  start = time.perf_counter()\n",
    "  graph_level = breadth_first_search('level_0_start', name_to_search)\n",
    "  end = time.perf_counter()\n",
    "  search_time = (end - start)*1000\n",
    "  results.append({'Name':name_to_search\n",
    "                      ,'Graph Level/Degree of Person Found':graph_level\n",
    "                      ,'Search Time in ms':search_time})"
   ]
  },
  {
   "cell_type": "markdown",
   "metadata": {},
   "source": [
    "Finally, I run the time testing..."
   ]
  },
  {
   "cell_type": "code",
   "execution_count": 22,
   "metadata": {},
   "outputs": [],
   "source": [
    "for i in people_to_search_for:\n",
    "  graph_time_testing(i)"
   ]
  },
  {
   "cell_type": "markdown",
   "metadata": {},
   "source": [
    "... and organize the results into pandas dataframe for easier exploration and visualization"
   ]
  },
  {
   "cell_type": "code",
   "execution_count": 23,
   "metadata": {},
   "outputs": [],
   "source": [
    "results_df = pd.DataFrame(results)"
   ]
  },
  {
   "cell_type": "markdown",
   "metadata": {},
   "source": [
    "# V. Results Exploration & Visualization"
   ]
  },
  {
   "cell_type": "markdown",
   "metadata": {},
   "source": [
    "Firstly, our results are small enough that we can just take a look at the raw data is to get an initial take on the BF search times."
   ]
  },
  {
   "cell_type": "code",
   "execution_count": 24,
   "metadata": {},
   "outputs": [
    {
     "data": {
      "text/html": [
       "<div>\n",
       "<style scoped>\n",
       "    .dataframe tbody tr th:only-of-type {\n",
       "        vertical-align: middle;\n",
       "    }\n",
       "\n",
       "    .dataframe tbody tr th {\n",
       "        vertical-align: top;\n",
       "    }\n",
       "\n",
       "    .dataframe thead th {\n",
       "        text-align: right;\n",
       "    }\n",
       "</style>\n",
       "<table border=\"1\" class=\"dataframe\">\n",
       "  <thead>\n",
       "    <tr style=\"text-align: right;\">\n",
       "      <th></th>\n",
       "      <th>Graph Level/Degree of Person Found</th>\n",
       "      <th>Name</th>\n",
       "      <th>Search Time in ms</th>\n",
       "    </tr>\n",
       "  </thead>\n",
       "  <tbody>\n",
       "    <tr>\n",
       "      <th>0</th>\n",
       "      <td>1</td>\n",
       "      <td>Anthony Robinson</td>\n",
       "      <td>0.0101</td>\n",
       "    </tr>\n",
       "    <tr>\n",
       "      <th>1</th>\n",
       "      <td>2</td>\n",
       "      <td>Ms. Kari Merritt</td>\n",
       "      <td>0.0153</td>\n",
       "    </tr>\n",
       "    <tr>\n",
       "      <th>2</th>\n",
       "      <td>2</td>\n",
       "      <td>Brandon Scott</td>\n",
       "      <td>0.0259</td>\n",
       "    </tr>\n",
       "    <tr>\n",
       "      <th>3</th>\n",
       "      <td>3</td>\n",
       "      <td>David Villarreal</td>\n",
       "      <td>0.2759</td>\n",
       "    </tr>\n",
       "    <tr>\n",
       "      <th>4</th>\n",
       "      <td>3</td>\n",
       "      <td>Brett Mcintyre</td>\n",
       "      <td>0.0841</td>\n",
       "    </tr>\n",
       "    <tr>\n",
       "      <th>5</th>\n",
       "      <td>3</td>\n",
       "      <td>Melissa Monroe</td>\n",
       "      <td>0.1400</td>\n",
       "    </tr>\n",
       "    <tr>\n",
       "      <th>6</th>\n",
       "      <td>4</td>\n",
       "      <td>Allison Watkins</td>\n",
       "      <td>0.9068</td>\n",
       "    </tr>\n",
       "    <tr>\n",
       "      <th>7</th>\n",
       "      <td>4</td>\n",
       "      <td>Alan Padilla</td>\n",
       "      <td>3.7083</td>\n",
       "    </tr>\n",
       "    <tr>\n",
       "      <th>8</th>\n",
       "      <td>4</td>\n",
       "      <td>Mary Lewis</td>\n",
       "      <td>0.6318</td>\n",
       "    </tr>\n",
       "    <tr>\n",
       "      <th>9</th>\n",
       "      <td>4</td>\n",
       "      <td>Christopher Baker</td>\n",
       "      <td>6.5468</td>\n",
       "    </tr>\n",
       "    <tr>\n",
       "      <th>10</th>\n",
       "      <td>5</td>\n",
       "      <td>Robert Baker</td>\n",
       "      <td>37.0536</td>\n",
       "    </tr>\n",
       "    <tr>\n",
       "      <th>11</th>\n",
       "      <td>5</td>\n",
       "      <td>Robert Kelley</td>\n",
       "      <td>16.8585</td>\n",
       "    </tr>\n",
       "    <tr>\n",
       "      <th>12</th>\n",
       "      <td>5</td>\n",
       "      <td>Christopher Powell</td>\n",
       "      <td>16.0907</td>\n",
       "    </tr>\n",
       "    <tr>\n",
       "      <th>13</th>\n",
       "      <td>5</td>\n",
       "      <td>Laura Ward PhD</td>\n",
       "      <td>94.7276</td>\n",
       "    </tr>\n",
       "    <tr>\n",
       "      <th>14</th>\n",
       "      <td>5</td>\n",
       "      <td>Aaron Barnes</td>\n",
       "      <td>82.5261</td>\n",
       "    </tr>\n",
       "  </tbody>\n",
       "</table>\n",
       "</div>"
      ],
      "text/plain": [
       "    Graph Level/Degree of Person Found                Name  Search Time in ms\n",
       "0                                    1    Anthony Robinson             0.0101\n",
       "1                                    2    Ms. Kari Merritt             0.0153\n",
       "2                                    2       Brandon Scott             0.0259\n",
       "3                                    3    David Villarreal             0.2759\n",
       "4                                    3      Brett Mcintyre             0.0841\n",
       "5                                    3      Melissa Monroe             0.1400\n",
       "6                                    4     Allison Watkins             0.9068\n",
       "7                                    4        Alan Padilla             3.7083\n",
       "8                                    4          Mary Lewis             0.6318\n",
       "9                                    4   Christopher Baker             6.5468\n",
       "10                                   5        Robert Baker            37.0536\n",
       "11                                   5       Robert Kelley            16.8585\n",
       "12                                   5  Christopher Powell            16.0907\n",
       "13                                   5      Laura Ward PhD            94.7276\n",
       "14                                   5        Aaron Barnes            82.5261"
      ]
     },
     "execution_count": 24,
     "metadata": {},
     "output_type": "execute_result"
    }
   ],
   "source": [
    "results_df"
   ]
  },
  {
   "cell_type": "markdown",
   "metadata": {},
   "source": [
    "Based on an initial look, it's clear that on average, BF search times increase with each level of the graph being where the person/name was found.  (No surprise).\n",
    "\n",
    "Lastly, we graph the results looking at categorical scatterplots of the data."
   ]
  },
  {
   "cell_type": "code",
   "execution_count": 25,
   "metadata": {},
   "outputs": [
    {
     "data": {
      "text/plain": [
       "<seaborn.axisgrid.FacetGrid at 0x2b262c2ce10>"
      ]
     },
     "execution_count": 25,
     "metadata": {},
     "output_type": "execute_result"
    },
    {
     "data": {
      "image/png": "[encoded data removed]",
      "text/plain": [
       "<Figure size 360x360 with 1 Axes>"
      ]
     },
     "metadata": {},
     "output_type": "display_data"
    }
   ],
   "source": [
    "sns.set(style=\"darkgrid\")\n",
    "sns.catplot(x=\"Graph Level/Degree of Person Found\", y=\"Search Time in ms\"\n",
    "            , hue = \"Graph Level/Degree of Person Found\", data=results_df, kind='swarm')"
   ]
  },
  {
   "cell_type": "markdown",
   "metadata": {},
   "source": [
    "Curious about the results with different random names tested, I decided to create a few additional lists of people to search for, run the time testing again for each additional list, and append the new results."
   ]
  },
  {
   "cell_type": "code",
   "execution_count": 26,
   "metadata": {},
   "outputs": [],
   "source": [
    "few_seeds = [10, 123, 777]\n",
    "\n",
    "for i in few_seeds:\n",
    "    people_to_search_forV2 = []\n",
    "    random.seed(i)\n",
    "\n",
    "    # append the element of a random index from the 1st level names\n",
    "    people_to_search_forV2.append(first_lev[random.randint(0,lev_1_size-1)])\n",
    "\n",
    "    # append the elements of 2 random indexes from the 2nd level names\n",
    "    people_to_search_forV2 += [second_lev[i] for i in random.sample(range(lev_2_size), 2)]\n",
    "\n",
    "    # append the elements of 3 random indexes from the 3rd level names\n",
    "    people_to_search_forV2 += [third_lev[i] for i in random.sample(range(lev_3_size), 3)]\n",
    "\n",
    "    # append the elements of 4 random indexes from the 4th level names\n",
    "    people_to_search_forV2 += [fourth_lev[i] for i in random.sample(range(lev_4_size), 4)]\n",
    "\n",
    "    # append the elements of 5 random indexes from the 5th level names\n",
    "    people_to_search_forV2 += [fifth_lev[i] for i in random.sample(range(lev_5_size), 5)]\n",
    "\n",
    "    for i in people_to_search_forV2:\n",
    "      graph_time_testing(i)"
   ]
  },
  {
   "cell_type": "markdown",
   "metadata": {},
   "source": [
    "Now let's plot the complete set of results data points."
   ]
  },
  {
   "cell_type": "code",
   "execution_count": 27,
   "metadata": {},
   "outputs": [
    {
     "data": {
      "text/plain": [
       "<seaborn.axisgrid.FacetGrid at 0x2b262b02940>"
      ]
     },
     "execution_count": 27,
     "metadata": {},
     "output_type": "execute_result"
    },
    {
     "data": {
      "image/png": "[encoded data removed]",
      "text/plain": [
       "<Figure size 360x360 with 1 Axes>"
      ]
     },
     "metadata": {},
     "output_type": "display_data"
    }
   ],
   "source": [
    "results_dfV2 = pd.DataFrame(results)\n",
    "\n",
    "sns.set(style=\"darkgrid\")\n",
    "sns.catplot(x=\"Graph Level/Degree of Person Found\", y=\"Search Time in ms\"\n",
    "            , hue = \"Graph Level/Degree of Person Found\", data=results_dfV2, kind='swarm')"
   ]
  },
  {
   "cell_type": "markdown",
   "metadata": {},
   "source": [
    "For one final plot, to better see a potential discrepency in run times among the first 4 levels of where the names are found, I'll exclude people of degree 5 and replot."
   ]
  },
  {
   "cell_type": "code",
   "execution_count": 28,
   "metadata": {},
   "outputs": [
    {
     "data": {
      "text/plain": [
       "<seaborn.axisgrid.FacetGrid at 0x2b262cb7748>"
      ]
     },
     "execution_count": 28,
     "metadata": {},
     "output_type": "execute_result"
    },
    {
     "data": {
      "image/png": "[encoded data removed]",
      "text/plain": [
       "<Figure size 360x360 with 1 Axes>"
      ]
     },
     "metadata": {},
     "output_type": "display_data"
    }
   ],
   "source": [
    "sns.set(style=\"darkgrid\")\n",
    "sns.catplot(x=\"Graph Level/Degree of Person Found\", y=\"Search Time in ms\"\n",
    "            , hue = \"Graph Level/Degree of Person Found\", kind='swarm'\n",
    "            , data=results_dfV2[results_dfV2[\"Graph Level/Degree of Person Found\"] < 5])"
   ]
  },
  {
   "cell_type": "code",
   "execution_count": 29,
   "metadata": {},
   "outputs": [
    {
     "data": {
      "text/plain": [
       "<seaborn.axisgrid.FacetGrid at 0x2b262b622b0>"
      ]
     },
     "execution_count": 29,
     "metadata": {},
     "output_type": "execute_result"
    },
    {
     "data": {
      "image/png": "[encoded data removed]",
      "text/plain": [
       "<Figure size 360x360 with 1 Axes>"
      ]
     },
     "metadata": {},
     "output_type": "display_data"
    }
   ],
   "source": [
    "sns.set(style=\"darkgrid\")\n",
    "sns.catplot(x=\"Graph Level/Degree of Person Found\", y=\"Search Time in ms\"\n",
    "            , hue = \"Graph Level/Degree of Person Found\", kind='swarm'\n",
    "            , data=results_dfV2[results_dfV2[\"Graph Level/Degree of Person Found\"] < 4])"
   ]
  },
  {
   "cell_type": "markdown",
   "metadata": {},
   "source": [
    "# VI. Executive Summary"
   ]
  },
  {
   "cell_type": "markdown",
   "metadata": {},
   "source": [
    "Clearly as the connection degree of the person we're searching for (in comparison to our starting node) increases, so does the time it takes to find said person.\n",
    "\n",
    "However, there is also relatively large variation in search time among names/people in the same graph level.  We can see this by looking at the vertical spread of the data points within the highest graph level/degree plotted.  This is more noticeable the larger that graph level is (and for us, our graph levels are increasing in size exponentially).\n",
    "\n",
    "Lastly, one more thing to note is the y-axis scale.  Without paying close attention, one might percieve all the graphs as if they're on the same scale.  However even among the first two figures (both plotting through graph level/degreee 5) the y-axis scale grows from 0-90 to 0-140.  The more random names from graph level 5 that we choose to search for, the more likely we'll end up searching for a name that gets appended to our 'to_search' list toward the end of the list of all level 5 connections, increasing the maximum BF search time among our test search population... and thus automatically increasing the plots' y-axis scale."
   ]
  }
 ],
 "metadata": {
  "kernelspec": {
   "display_name": "Python 3",
   "language": "python",
   "name": "python3"
  },
  "language_info": {
   "codemirror_mode": {
    "name": "ipython",
    "version": 3
   },
   "file_extension": ".py",
   "mimetype": "text/x-python",
   "name": "python",
   "nbconvert_exporter": "python",
   "pygments_lexer": "ipython3",
   "version": "3.7.0"
  }
 },
 "nbformat": 4,
 "nbformat_minor": 2
}
