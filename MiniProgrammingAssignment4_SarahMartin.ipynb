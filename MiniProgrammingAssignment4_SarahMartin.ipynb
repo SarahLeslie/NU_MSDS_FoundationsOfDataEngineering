{
 "cells": [
  {
   "cell_type": "markdown",
   "metadata": {},
   "source": [
    "# I. Introduction"
   ]
  },
  {
   "cell_type": "markdown",
   "metadata": {},
   "source": [
    "This exercise investigates sorting times using various sort methods.  \n",
    "\n",
    "First we import helpful packages."
   ]
  },
  {
   "cell_type": "code",
   "execution_count": 70,
   "metadata": {},
   "outputs": [],
   "source": [
    "import random\n",
    "import string\n",
    "import time\n",
    "import pandas as pd\n",
    "import seaborn as sns\n",
    "%matplotlib inline"
   ]
  },
  {
   "cell_type": "markdown",
   "metadata": {},
   "source": [
    "# II. Defining the Sort Functions"
   ]
  },
  {
   "cell_type": "markdown",
   "metadata": {},
   "source": [
    "Next I leveraged the starter code from our course materials to define the quick sort function.  The code was edited to take a list of dictionaries (representing rows in a ~dataframe) and the dictionary 'key' on which to sort the list (rows)."
   ]
  },
  {
   "cell_type": "code",
   "execution_count": 71,
   "metadata": {},
   "outputs": [],
   "source": [
    "def quickSort(list_of_dicts, key):  \n",
    "  # base case, arrays with 0 or 1 element are already \"sorted\"\n",
    "  if len(list_of_dicts) < 2:\n",
    "    return list_of_dicts\n",
    "  else:\n",
    "    # assigns pivot element\n",
    "    pivot_element = list_of_dicts[0]\n",
    "    # creates sub-array of all the elements less than the identified pivot\n",
    "    less = [i for i in list_of_dicts[1:] if i[key] <= pivot_element[key]]\n",
    "    # creates sub-array of all the elements greater than the identified pivot\n",
    "    greater = [i for i in list_of_dicts[1:] if i[key] > pivot_element[key]]\n",
    "    # recursive call of quicksort on the less-than and greater-than arrays (nesting the pivot in between)\n",
    "    return quickSort(less,key) + [pivot_element] + quickSort(greater,key)"
   ]
  },
  {
   "cell_type": "markdown",
   "metadata": {},
   "source": [
    "Next I leveraged documentation and code from geeksforgeeks.org to define similar functions employing the following sort methodologies:\n",
    "1. Selection Sort\n",
    "2. Bubble Sort\n",
    "3. Insertion Sort\n",
    "4. Strand Sort\n",
    "5. Gnome Sort"
   ]
  },
  {
   "cell_type": "code",
   "execution_count": 72,
   "metadata": {},
   "outputs": [],
   "source": [
    "def selectionSort(list_of_dicts, key):\n",
    "  for i in range(len(list_of_dicts)): \n",
    "    min_index = i \n",
    "    min_value = list_of_dicts[i][key]\n",
    "    # cycles through remaining array to find next min value\n",
    "    for j in range(i+1, len(list_of_dicts)): \n",
    "        if list_of_dicts[j][key] < min_value: \n",
    "            min_index = j \n",
    "            min_value = list_of_dicts[j][key]\n",
    "    # Swap the first element and the minimum element within the remaining unsorted portion of the array\n",
    "    list_of_dicts[i], list_of_dicts[min_index] = list_of_dicts[min_index], list_of_dicts[i] \n",
    "  return list_of_dicts"
   ]
  },
  {
   "cell_type": "code",
   "execution_count": 73,
   "metadata": {},
   "outputs": [],
   "source": [
    "def bubbleSort(list_of_dicts,key): \n",
    "  n = len(list_of_dicts) \n",
    "  # Traverse through all array elements \n",
    "  for i in range(n): \n",
    "      # Last i elements are already in place \n",
    "      for j in range(0, n-i-1): \n",
    "          # traverse the array from 0 to n-i-1 \n",
    "          # Swap if the element found is greater \n",
    "          # than the next element \n",
    "          if list_of_dicts[j][key] > list_of_dicts[j+1][key] : \n",
    "              list_of_dicts[j], list_of_dicts[j+1] = list_of_dicts[j+1], list_of_dicts[j] \n",
    "  return list_of_dicts"
   ]
  },
  {
   "cell_type": "code",
   "execution_count": 74,
   "metadata": {},
   "outputs": [],
   "source": [
    "def insertionSort(list_of_dicts, key): \n",
    "  # Traverse through 1 to len(arr) \n",
    "  for i in range(1, len(list_of_dicts)): \n",
    "      comp_element = list_of_dicts[i]\n",
    "      # Move elements of arr[0..i-1], that are \n",
    "      # greater than key, to one position ahead \n",
    "      # of their current position \n",
    "      j = i-1\n",
    "      while j >=0 and comp_element[key] < list_of_dicts[j][key] : \n",
    "              list_of_dicts[j+1] = list_of_dicts[j] \n",
    "              j -= 1\n",
    "      list_of_dicts[j+1] = comp_element \n",
    "  return list_of_dicts"
   ]
  },
  {
   "cell_type": "code",
   "execution_count": 75,
   "metadata": {},
   "outputs": [],
   "source": [
    "# Defines merge of pre-sorted lists first\n",
    "def my_merge(l1, l2, key):\n",
    "  result = []\n",
    "  while (l1 and l2):\n",
    "    if (l1[0][key] <= l2[0][key]):\n",
    "        result.append(l1.pop(0))\n",
    "    else:\n",
    "        result.append(l2.pop(0))\n",
    "  # Add the remaining of the lists\n",
    "  result.extend(l1 if l1 else l2)\n",
    "  return result\n",
    "\n",
    "def strandSort(list_of_dicts,key):\n",
    "  if len(list_of_dicts) < 2:\n",
    "    return list_of_dicts \n",
    "  result_list_of_dicts = []\n",
    "  while len(list_of_dicts)>0:\n",
    "    i = 0\n",
    "    sublist = [list_of_dicts.pop(0)]\n",
    "    while i < len(list_of_dicts):\n",
    "      if list_of_dicts[i][key] > sublist[-1][key]:\n",
    "        sublist.append(list_of_dicts.pop(i))\n",
    "      else:\n",
    "        i = i + 1\n",
    "    result_list_of_dicts = my_merge(sublist,result_list_of_dicts,key)\n",
    "  return result_list_of_dicts"
   ]
  },
  {
   "cell_type": "code",
   "execution_count": 76,
   "metadata": {},
   "outputs": [],
   "source": [
    "def gnomeSort(list_of_dicts,key): \n",
    "  index = 1\n",
    "  while index < len(list_of_dicts): \n",
    "    if index == 0: \n",
    "        index = index + 1\n",
    "    if list_of_dicts[index][key] >= list_of_dicts[index - 1][key]: \n",
    "        index = index + 1\n",
    "    else: \n",
    "        list_of_dicts[index], list_of_dicts[index-1] = list_of_dicts[index-1], list_of_dicts[index] \n",
    "        index = index - 1\n",
    "  return list_of_dicts "
   ]
  },
  {
   "cell_type": "markdown",
   "metadata": {},
   "source": [
    "I used the following tests to ensure all functions are working properly:"
   ]
  },
  {
   "cell_type": "code",
   "execution_count": 77,
   "metadata": {},
   "outputs": [
    {
     "data": {
      "text/plain": [
       "[{'first_name': 'Rachel', 'last_name': 'Martin', 'city': 'Berlin'},\n",
       " {'first_name': 'Sarah', 'last_name': 'Martin', 'city': 'NYC'},\n",
       " {'first_name': 'David', 'last_name': 'Martin', 'city': 'Stamford'}]"
      ]
     },
     "execution_count": 77,
     "metadata": {},
     "output_type": "execute_result"
    }
   ],
   "source": [
    "# Functional testing of quicksort, bubblesort, gnomesort, insertionsort, selectionsort, and strandsort functions\n",
    "test_list_of_dicts = [{'first_name':'Sarah', 'last_name':'Martin', 'city':'NYC'}\n",
    "                       , {'first_name':'Rachel', 'last_name':'Martin', 'city':'Berlin'}\n",
    "                       , {'first_name':'David', 'last_name':'Martin', 'city':'Stamford'}]\n",
    "quickSort(test_list_of_dicts,'city')"
   ]
  },
  {
   "cell_type": "code",
   "execution_count": 78,
   "metadata": {},
   "outputs": [
    {
     "data": {
      "text/plain": [
       "[{'first_name': 'Rachel', 'last_name': 'Martin', 'city': 'Berlin'},\n",
       " {'first_name': 'Sarah', 'last_name': 'Martin', 'city': 'NYC'},\n",
       " {'first_name': 'David', 'last_name': 'Martin', 'city': 'Stamford'}]"
      ]
     },
     "execution_count": 78,
     "metadata": {},
     "output_type": "execute_result"
    }
   ],
   "source": [
    "test_list_of_dicts = [{'first_name':'Sarah', 'last_name':'Martin', 'city':'NYC'}\n",
    "                       , {'first_name':'Rachel', 'last_name':'Martin', 'city':'Berlin'}\n",
    "                       , {'first_name':'David', 'last_name':'Martin', 'city':'Stamford'}]\n",
    "bubbleSort(test_list_of_dicts,'city')"
   ]
  },
  {
   "cell_type": "code",
   "execution_count": 79,
   "metadata": {},
   "outputs": [
    {
     "data": {
      "text/plain": [
       "[{'first_name': 'Rachel', 'last_name': 'Martin', 'city': 'Berlin'},\n",
       " {'first_name': 'Sarah', 'last_name': 'Martin', 'city': 'NYC'},\n",
       " {'first_name': 'David', 'last_name': 'Martin', 'city': 'Stamford'}]"
      ]
     },
     "execution_count": 79,
     "metadata": {},
     "output_type": "execute_result"
    }
   ],
   "source": [
    "test_list_of_dicts = [{'first_name':'Sarah', 'last_name':'Martin', 'city':'NYC'}\n",
    "                       , {'first_name':'Rachel', 'last_name':'Martin', 'city':'Berlin'}\n",
    "                       , {'first_name':'David', 'last_name':'Martin', 'city':'Stamford'}]\n",
    "gnomeSort(test_list_of_dicts,'city')"
   ]
  },
  {
   "cell_type": "code",
   "execution_count": 80,
   "metadata": {},
   "outputs": [
    {
     "data": {
      "text/plain": [
       "[{'first_name': 'Rachel', 'last_name': 'Martin', 'city': 'Berlin'},\n",
       " {'first_name': 'Sarah', 'last_name': 'Martin', 'city': 'NYC'},\n",
       " {'first_name': 'David', 'last_name': 'Martin', 'city': 'Stamford'}]"
      ]
     },
     "execution_count": 80,
     "metadata": {},
     "output_type": "execute_result"
    }
   ],
   "source": [
    "test_list_of_dicts = [{'first_name':'Sarah', 'last_name':'Martin', 'city':'NYC'}\n",
    "                       , {'first_name':'Rachel', 'last_name':'Martin', 'city':'Berlin'}\n",
    "                       , {'first_name':'David', 'last_name':'Martin', 'city':'Stamford'}]\n",
    "insertionSort(test_list_of_dicts,'city')"
   ]
  },
  {
   "cell_type": "code",
   "execution_count": 81,
   "metadata": {},
   "outputs": [
    {
     "data": {
      "text/plain": [
       "[{'first_name': 'Rachel', 'last_name': 'Martin', 'city': 'Berlin'},\n",
       " {'first_name': 'Sarah', 'last_name': 'Martin', 'city': 'NYC'},\n",
       " {'first_name': 'David', 'last_name': 'Martin', 'city': 'Stamford'}]"
      ]
     },
     "execution_count": 81,
     "metadata": {},
     "output_type": "execute_result"
    }
   ],
   "source": [
    "test_list_of_dicts = [{'first_name':'Sarah', 'last_name':'Martin', 'city':'NYC'}\n",
    "                       , {'first_name':'Rachel', 'last_name':'Martin', 'city':'Berlin'}\n",
    "                       , {'first_name':'David', 'last_name':'Martin', 'city':'Stamford'}]\n",
    "selectionSort(test_list_of_dicts,'city')"
   ]
  },
  {
   "cell_type": "code",
   "execution_count": 82,
   "metadata": {},
   "outputs": [
    {
     "data": {
      "text/plain": [
       "[{'first_name': 'Rachel', 'last_name': 'Martin', 'city': 'Berlin'},\n",
       " {'first_name': 'Sarah', 'last_name': 'Martin', 'city': 'NYC'},\n",
       " {'first_name': 'David', 'last_name': 'Martin', 'city': 'Stamford'}]"
      ]
     },
     "execution_count": 82,
     "metadata": {},
     "output_type": "execute_result"
    }
   ],
   "source": [
    "test_list_of_dicts = [{'first_name':'Sarah', 'last_name':'Martin', 'city':'NYC'}\n",
    "                       , {'first_name':'Rachel', 'last_name':'Martin', 'city':'Berlin'}\n",
    "                       , {'first_name':'David', 'last_name':'Martin', 'city':'Stamford'}]\n",
    "strandSort(test_list_of_dicts,'city')"
   ]
  },
  {
   "cell_type": "markdown",
   "metadata": {},
   "source": [
    "All good!"
   ]
  },
  {
   "cell_type": "markdown",
   "metadata": {},
   "source": [
    "# III. Generating the Test Data"
   ]
  },
  {
   "cell_type": "markdown",
   "metadata": {},
   "source": [
    "To generate the test data I generated each component (column) individually:\n",
    "1. Addresses (state abbreviations)\n",
    "2. First names\n",
    "3. Last names"
   ]
  },
  {
   "cell_type": "code",
   "execution_count": 83,
   "metadata": {},
   "outputs": [
    {
     "data": {
      "text/plain": [
       "['MO',\n",
       " 'ND',\n",
       " 'WY',\n",
       " 'OK',\n",
       " 'CT',\n",
       " 'KS',\n",
       " 'CA',\n",
       " 'MN',\n",
       " 'GA',\n",
       " 'NJ',\n",
       " 'OH',\n",
       " 'MI',\n",
       " 'ME',\n",
       " 'SC',\n",
       " 'NE',\n",
       " 'MA',\n",
       " 'DE',\n",
       " 'UT',\n",
       " 'LA',\n",
       " 'WV',\n",
       " 'NM',\n",
       " 'SD',\n",
       " 'IL',\n",
       " 'OR',\n",
       " 'IA',\n",
       " 'ID',\n",
       " 'AL',\n",
       " 'AK',\n",
       " 'NY',\n",
       " 'FL',\n",
       " 'VT',\n",
       " 'NH',\n",
       " 'WA',\n",
       " 'NC',\n",
       " 'MT',\n",
       " 'NV',\n",
       " 'VA',\n",
       " 'PA',\n",
       " 'AZ',\n",
       " 'TN',\n",
       " 'IN',\n",
       " 'RI',\n",
       " 'KY',\n",
       " 'MD',\n",
       " 'TX',\n",
       " 'HI',\n",
       " 'MS',\n",
       " 'WI',\n",
       " 'CO',\n",
       " 'AR']"
      ]
     },
     "execution_count": 83,
     "metadata": {},
     "output_type": "execute_result"
    }
   ],
   "source": [
    "# Instantiates (currently sorted) list of state abbrebiations\n",
    "states = [\"AL\", \"AK\", \"AZ\", \"AR\", \"CA\", \"CO\", \"CT\", \"DE\", \"FL\", \"GA\", \n",
    "          \"HI\", \"ID\", \"IL\", \"IN\", \"IA\", \"KS\", \"KY\", \"LA\", \"ME\", \"MD\", \n",
    "          \"MA\", \"MI\", \"MN\", \"MS\", \"MO\", \"MT\", \"NE\", \"NV\", \"NH\", \"NJ\", \n",
    "          \"NM\", \"NY\", \"NC\", \"ND\", \"OH\", \"OK\", \"OR\", \"PA\", \"RI\", \"SC\", \n",
    "          \"SD\", \"TN\", \"TX\", \"UT\", \"VT\", \"VA\", \"WA\", \"WV\", \"WI\", \"WY\"]\n",
    "\n",
    "# Randomly shuffles states list\n",
    "random.seed(2)\n",
    "random.shuffle(states)\n",
    "states"
   ]
  },
  {
   "cell_type": "code",
   "execution_count": 84,
   "metadata": {},
   "outputs": [],
   "source": [
    "# Generates 50 randomly generated 10-character string as 'first names' and separately, 'last names'\n",
    "random.seed(3)\n",
    "first_names = [\"\".join(random.choices(string.ascii_lowercase, k=10)) for _ in range(50)]\n",
    "random.seed(4)\n",
    "last_names = [\"\".join(random.choices(string.ascii_lowercase, k=10)) for _ in range(50)]"
   ]
  },
  {
   "cell_type": "markdown",
   "metadata": {},
   "source": [
    "A quick check to ensure there are no dupes within each list of names:"
   ]
  },
  {
   "cell_type": "code",
   "execution_count": 85,
   "metadata": {},
   "outputs": [
    {
     "data": {
      "text/plain": [
       "True"
      ]
     },
     "execution_count": 85,
     "metadata": {},
     "output_type": "execute_result"
    }
   ],
   "source": [
    "len(first_names) == len(set(first_names))\n",
    "len(last_names) == len(set(last_names))"
   ]
  },
  {
   "cell_type": "markdown",
   "metadata": {},
   "source": [
    "Confirmed!"
   ]
  },
  {
   "cell_type": "markdown",
   "metadata": {},
   "source": [
    "Lastly, I combined the lists into a dictionary of 3 lists (with 50 elements each) and then converted it to a list of 50 dictionaries (with 3 key-value pairs each) to represent the rows of a table"
   ]
  },
  {
   "cell_type": "code",
   "execution_count": 86,
   "metadata": {},
   "outputs": [],
   "source": [
    "persons_dict = {'first_name':first_names, 'last_name':last_names, 'address':states}\n",
    "persons_list = pd.DataFrame(persons_dict).to_dict('records')"
   ]
  },
  {
   "cell_type": "markdown",
   "metadata": {},
   "source": [
    "# IV. Sort Method Time Testing"
   ]
  },
  {
   "cell_type": "markdown",
   "metadata": {},
   "source": [
    "First, because of in-place sorting or elimination of the original data via pop commands, I created 12 copies of the test data: 2 for each sort method"
   ]
  },
  {
   "cell_type": "code",
   "execution_count": 87,
   "metadata": {},
   "outputs": [],
   "source": [
    "persons_list_quick1 = persons_list.copy()\n",
    "persons_list_bubble1 = persons_list.copy()\n",
    "persons_list_gnome1 = persons_list.copy()\n",
    "persons_list_insertion1 = persons_list.copy()\n",
    "persons_list_selection1 = persons_list.copy()\n",
    "persons_list_strand1 = persons_list.copy()\n",
    "\n",
    "persons_list_quick2 = persons_list.copy()\n",
    "persons_list_bubble2 = persons_list.copy()\n",
    "persons_list_gnome2 = persons_list.copy()\n",
    "persons_list_insertion2 = persons_list.copy()\n",
    "persons_list_selection2 = persons_list.copy()\n",
    "persons_list_strand2 = persons_list.copy()"
   ]
  },
  {
   "cell_type": "markdown",
   "metadata": {},
   "source": [
    "Next I instantiated a list to capture the results of the time testing"
   ]
  },
  {
   "cell_type": "code",
   "execution_count": 88,
   "metadata": {},
   "outputs": [],
   "source": [
    "time_results = []"
   ]
  },
  {
   "cell_type": "markdown",
   "metadata": {},
   "source": [
    "To generate the time results, I created a function that takes 4 arguments:\n",
    "1. the sort function to use on the data\n",
    "2. what to call the sort method when saving the results\n",
    "3. the first list of dictionaries to use (to sort according to last name)\n",
    "4. the second list of dictionaries to use (to sort according to address/state)"
   ]
  },
  {
   "cell_type": "markdown",
   "metadata": {},
   "source": [
    "The time test function times each sort -- by last name, and then by address/state -- and saves both results as well as a average of the two sort times.  It also returns the results from both sorts for validation purposes."
   ]
  },
  {
   "cell_type": "code",
   "execution_count": 89,
   "metadata": {},
   "outputs": [],
   "source": [
    "def time_testing(sort_method,method_label,data1,data2):\n",
    "  start1 = time.perf_counter()\n",
    "  by_last_name = sort_method(data1,'last_name')\n",
    "  end1 = time.perf_counter()\n",
    "  start2 = time.perf_counter()\n",
    "  by_address = sort_method(data2,'address')\n",
    "  end2 = time.perf_counter()\n",
    "  first_sort_time = (end1 - start1)*1000\n",
    "  second_sort_time = (end2 - start2)*1000\n",
    "  time_results.append({'Method':method_label\n",
    "                      ,'Sort Key':'Last Name'\n",
    "                      ,'Sort Time':first_sort_time})\n",
    "  time_results.append({'Method':method_label\n",
    "                      ,'Sort Key':'Address'\n",
    "                      ,'Sort Time':second_sort_time})\n",
    "  time_results.append({'Method':method_label\n",
    "                      ,'Sort Key':'Average'\n",
    "                      ,'Sort Time':(first_sort_time + second_sort_time)/2})\n",
    "  return by_last_name, by_address"
   ]
  },
  {
   "cell_type": "markdown",
   "metadata": {},
   "source": [
    "Finally, I run the time testing for each of the 6 sort functions I defined earlier:\n",
    "1. Quick Sort\n",
    "2. Bubble Sort\n",
    "3. Gnome Sort\n",
    "4. Insertion Sort\n",
    "5. Selection Sort\n",
    "6. and Strand Sort\n",
    "\n",
    "... and save the time results to a pandas DataFrame."
   ]
  },
  {
   "cell_type": "code",
   "execution_count": 90,
   "metadata": {},
   "outputs": [],
   "source": [
    "last_name_quick_result, address_quick_result = time_testing(quickSort,'Quick Sort',persons_list_quick1,persons_list_quick2)\n",
    "last_name_bubble_result, address_bubble_result = time_testing(bubbleSort,'Bubble Sort',persons_list_bubble1,persons_list_bubble2)\n",
    "last_name_gnome_result, address_gnome_result = time_testing(gnomeSort,'Gnome Sort',persons_list_gnome1,persons_list_gnome2)\n",
    "last_name_insertion_result, address_insertion_result = time_testing(insertionSort,'Insertion Sort',persons_list_insertion1,persons_list_insertion2)\n",
    "last_name_selection_result, address_selection_result = time_testing(selectionSort,'Selection Sort',persons_list_selection1,persons_list_selection2)\n",
    "last_name_strand_result, address_strand_result = time_testing(strandSort,'Strand Sort',persons_list_strand1,persons_list_strand2)\n",
    "\n",
    "results_df = pd.DataFrame(time_results)"
   ]
  },
  {
   "cell_type": "markdown",
   "metadata": {},
   "source": [
    "Now to confirm that sorted data match...  "
   ]
  },
  {
   "cell_type": "code",
   "execution_count": 91,
   "metadata": {},
   "outputs": [
    {
     "data": {
      "text/plain": [
       "True"
      ]
     },
     "execution_count": 91,
     "metadata": {},
     "output_type": "execute_result"
    }
   ],
   "source": [
    "last_name_quick_result == last_name_bubble_result == last_name_gnome_result == last_name_insertion_result == last_name_selection_result == last_name_strand_result"
   ]
  },
  {
   "cell_type": "code",
   "execution_count": 92,
   "metadata": {},
   "outputs": [
    {
     "data": {
      "text/plain": [
       "True"
      ]
     },
     "execution_count": 92,
     "metadata": {},
     "output_type": "execute_result"
    }
   ],
   "source": [
    "address_quick_result == address_bubble_result == address_gnome_result == address_insertion_result == address_selection_result == address_strand_result"
   ]
  },
  {
   "cell_type": "markdown",
   "metadata": {},
   "source": [
    "# V. Results Visualizations & Discussion"
   ]
  },
  {
   "cell_type": "markdown",
   "metadata": {},
   "source": [
    "Next we graph the results looking at categorical scatterplots of the data for the last name sort, the address sort, and the average of the two, color-coded by which sort function/method was used (e.g. Bubble, Gnome, Strand, etc.)"
   ]
  },
  {
   "cell_type": "code",
   "execution_count": 93,
   "metadata": {},
   "outputs": [
    {
     "data": {
      "text/plain": [
       "<seaborn.axisgrid.FacetGrid at 0x29bf9f28ac8>"
      ]
     },
     "execution_count": 93,
     "metadata": {},
     "output_type": "execute_result"
    },
    {
     "data": {
      "image/png": "[encoded data removed]",
      "text/plain": [
       "<Figure size 465.375x360 with 1 Axes>"
      ]
     },
     "metadata": {
      "needs_background": "light"
     },
     "output_type": "display_data"
    }
   ],
   "source": [
    "sns.catplot(x=\"Sort Key\", y=\"Sort Time\"\n",
    "            , hue = \"Method\", data=results_df)"
   ]
  },
  {
   "cell_type": "markdown",
   "metadata": {},
   "source": [
    "Firstly, it is clear that Gnome Sort is pretty consistently the slowest method.  \n",
    "\n",
    "Next slowest are Bubble Sort and Insertion Sort.  When running this notebook (from section III) repeatedly, there is still volatility in the sort times captured.  Sometimes Bubble Sort is faster than Insertion Sort, but it looks like more often than not, Insertion Sort is slightly faster (and has more volatile run-times).\n",
    "\n",
    "Either way, the rest of the sorting methods have more similar run-times, so I decided to produce the same visualization with these 3 slowest sort methodologies removed so I could see the differences in run-times between the other sort methodologies more clearly."
   ]
  },
  {
   "cell_type": "code",
   "execution_count": 95,
   "metadata": {},
   "outputs": [
    {
     "data": {
      "text/plain": [
       "<seaborn.axisgrid.FacetGrid at 0x29bfb4063c8>"
      ]
     },
     "execution_count": 95,
     "metadata": {},
     "output_type": "execute_result"
    },
    {
     "data": {
      "image/png": "[encoded data removed]",
      "text/plain": [
       "<Figure size 465.375x360 with 1 Axes>"
      ]
     },
     "metadata": {
      "needs_background": "light"
     },
     "output_type": "display_data"
    }
   ],
   "source": [
    "sns.catplot(x=\"Sort Key\", y=\"Sort Time\"\n",
    "            , hue = \"Method\", jitter = False\n",
    "            , data=results_df.loc[~results_df['Method'].isin(['Gnome Sort','Bubble Sort','Insertion Sort'])])"
   ]
  },
  {
   "cell_type": "markdown",
   "metadata": {},
   "source": [
    "From this graph it is clearly that Selection Sort is the next slowest method.  \n",
    "\n",
    "Similar to the volatility between Bubble Sort and Insertion Sort stated above, Strand Sort and Quick Sort are the two fastest methodologies with this dataset but which is faster can sometimes be hard to tell.  Again, while sometimes Strand Sort is faster, it looks as though when the latter sections of this notebook are run repeatedly, Quick Sort is more often the faster of the two."
   ]
  },
  {
   "cell_type": "markdown",
   "metadata": {},
   "source": [
    "# VI. Executive Summary"
   ]
  },
  {
   "cell_type": "markdown",
   "metadata": {},
   "source": [
    "Luckily, I was able to get slightly less volatile run-time results using the time.perf_counter() function compared to previous assignments, allowing me to see relatively clearly which sort methodologies are generally faster or slower.  My ranking of run-times with this specific dataset from fastest to slowest would be:\n",
    "1. Quick Sort\n",
    "2. Strand Sort (just a hair behind Quick Sort)\n",
    "3. Selection Sort\n",
    "4. Insertion Sort\n",
    "5. Bubble Sort (just a hair behind Insertion Sort)\n",
    "6. Gnome Sort\n",
    "\n",
    "These results are mostly expected.  From the documentation on these sort methodologies from https://www.geeksforgeeks.org/, I would expect Gnome sort to be the slowest, with Bubble Sort not far behind, and I would expect (given it's reputation and its name!) that Quick Sort would be the fastest.\n",
    "\n",
    "The only result that really surprised me was how close the Strand Sort run-times were to the Quick Sort run-times.  Given that Strand Sort is not as well-known as Quick Sort, I was suprised to see that it performed quite well.\n",
    "\n",
    "However, because these sorting techniques were all applied to the exact same data (of consistent size), it is difficult (re: impossible) to validate the Big O classifications for each of the sorting techniques.  Only by increasing (and/or decreasing) the size of our test data would we be able to validate what we know about Big O for each of these sorting methodologies.\n",
    "\n",
    "Personally, I'd be interested to see how the Strand Sort methodologies scales compared to the very famous Quick Sort methodology."
   ]
  }
 ],
 "metadata": {
  "kernelspec": {
   "display_name": "Python 3",
   "language": "python",
   "name": "python3"
  },
  "language_info": {
   "codemirror_mode": {
    "name": "ipython",
    "version": 3
   },
   "file_extension": ".py",
   "mimetype": "text/x-python",
   "name": "python",
   "nbconvert_exporter": "python",
   "pygments_lexer": "ipython3",
   "version": "3.7.0"
  }
 },
 "nbformat": 4,
 "nbformat_minor": 2
}
